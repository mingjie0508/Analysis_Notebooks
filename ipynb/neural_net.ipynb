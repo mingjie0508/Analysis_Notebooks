{
 "cells": [
  {
   "cell_type": "markdown",
   "metadata": {},
   "source": [
    "This notebook contains a basic Convolutional Neural Network (CNN) example for image classification. The code was written in Python PyTorch."
   ]
  },
  {
   "cell_type": "markdown",
   "metadata": {},
   "source": [
    "Implement a Convolutional Neural Network (CNN) to perform image classification on a subset of the CIFAR-10 dataset, focusing on three categories: cat, dog, and horse.\n",
    "\n",
    "**Dataset**: A subset of the CIFAR-10 dataset. This subset includes $15,000$ training images ($15000 \\times 32 \\times 32 \\times 3$) and $3,000$ test images ($3000 \\times 32 \\times 32 \\times 3$). Only three categories are featured: cat, dog, and horse. The dataset is in a file named \"cifa10_3classes.h5\"."
   ]
  },
  {
   "cell_type": "code",
   "execution_count": 1,
   "metadata": {},
   "outputs": [],
   "source": [
    "import h5py\n",
    "import numpy as np\n",
    "import pandas as pd\n",
    "\n",
    "import torch\n",
    "from torch import nn\n",
    "from torch.utils.data import Dataset, DataLoader\n",
    "\n",
    "import albumentations as A\n",
    "from albumentations.pytorch.transforms import ToTensorV2\n",
    "\n",
    "%matplotlib inline\n",
    "import matplotlib.pyplot as plt\n",
    "\n",
    "device = torch.device(\"cuda\" if torch.cuda.is_available() else \"cpu\")"
   ]
  },
  {
   "cell_type": "code",
   "execution_count": 2,
   "metadata": {},
   "outputs": [],
   "source": [
    "# function to load data from HDF5 file\n",
    "def load_hdf5(filename):\n",
    "    with h5py.File(filename, 'r') as f:\n",
    "        train_images = f['train_images'][:]\n",
    "        train_labels = f['train_labels'][:]\n",
    "        test_images = f['test_images'][:]\n",
    "        test_labels = f['test_labels'][:]\n",
    "    return train_images, train_labels, test_images, test_labels"
   ]
  },
  {
   "cell_type": "code",
   "execution_count": 3,
   "metadata": {},
   "outputs": [
    {
     "data": {
      "text/html": [
       "<div>\n",
       "<style scoped>\n",
       "    .dataframe tbody tr th:only-of-type {\n",
       "        vertical-align: middle;\n",
       "    }\n",
       "\n",
       "    .dataframe tbody tr th {\n",
       "        vertical-align: top;\n",
       "    }\n",
       "\n",
       "    .dataframe thead th {\n",
       "        text-align: right;\n",
       "    }\n",
       "</style>\n",
       "<table border=\"1\" class=\"dataframe\">\n",
       "  <thead>\n",
       "    <tr style=\"text-align: right;\">\n",
       "      <th></th>\n",
       "      <th>Shape</th>\n",
       "    </tr>\n",
       "  </thead>\n",
       "  <tbody>\n",
       "    <tr>\n",
       "      <th>Training Iamges</th>\n",
       "      <td>(15000, 32, 32, 3)</td>\n",
       "    </tr>\n",
       "    <tr>\n",
       "      <th>Training Labels</th>\n",
       "      <td>(15000,)</td>\n",
       "    </tr>\n",
       "    <tr>\n",
       "      <th>Test Images</th>\n",
       "      <td>(3000, 32, 32, 3)</td>\n",
       "    </tr>\n",
       "    <tr>\n",
       "      <th>Test Labels</th>\n",
       "      <td>(3000,)</td>\n",
       "    </tr>\n",
       "  </tbody>\n",
       "</table>\n",
       "</div>"
      ],
      "text/plain": [
       "                              Shape\n",
       "Training Iamges  (15000, 32, 32, 3)\n",
       "Training Labels            (15000,)\n",
       "Test Images       (3000, 32, 32, 3)\n",
       "Test Labels                 (3000,)"
      ]
     },
     "metadata": {},
     "output_type": "display_data"
    }
   ],
   "source": [
    "train_images, train_labels, test_images, test_labels = load_hdf5(\"data/cifa10_3classes.h5\")\n",
    "train_labels = train_labels.reshape(-1)\n",
    "test_labels = test_labels.reshape(-1)\n",
    "\n",
    "shapes = pd.DataFrame({\n",
    "    'Shape': [data.shape for data in (train_images, train_labels, test_images, test_labels)]\n",
    "})\n",
    "shapes.index = [\"Training Iamges\", \"Training Labels\", \"Test Images\", \"Test Labels\"]\n",
    "display(shapes)"
   ]
  },
  {
   "cell_type": "markdown",
   "metadata": {},
   "source": [
    "<p style=\"page-break-after:always;\"></p>"
   ]
  },
  {
   "cell_type": "markdown",
   "metadata": {},
   "source": [
    "Construct my own convolutional neural network using PyTorch."
   ]
  },
  {
   "cell_type": "code",
   "execution_count": 4,
   "metadata": {},
   "outputs": [],
   "source": [
    "class ImageDataset(Dataset):\n",
    "    def __init__(self, images, targets, transform=None):\n",
    "        self.images = images\n",
    "        self.targets = targets\n",
    "        self.transform = transform\n",
    "    \n",
    "    def __len__(self):\n",
    "        return self.images.shape[0]\n",
    "    \n",
    "    def __getitem__(self, idx):\n",
    "        image = self.images[idx]\n",
    "        target = self.targets[idx]\n",
    "        if self.transform:\n",
    "            augmented = self.transform(image=image)\n",
    "            image = augmented['image']\n",
    "        return image, target"
   ]
  },
  {
   "cell_type": "code",
   "execution_count": 5,
   "metadata": {},
   "outputs": [],
   "source": [
    "class Net(nn.Module):\n",
    "    def __init__(self, in_channels, out_channels, dropout=0.25):\n",
    "        super(Net, self).__init__()\n",
    "        hidden_sizes = [12, 24, 64]\n",
    "        self.conv1 = nn.Conv2d(\n",
    "            in_channels=in_channels, out_channels=hidden_sizes[0], \n",
    "            kernel_size=5, stride=1\n",
    "        )\n",
    "        self.bn1 = nn.BatchNorm2d(hidden_sizes[0])\n",
    "        self.conv2 = nn.Conv2d(\n",
    "            in_channels=hidden_sizes[0], out_channels=hidden_sizes[0], \n",
    "            kernel_size=5, stride=1\n",
    "        )\n",
    "        self.bn2 = nn.BatchNorm2d(hidden_sizes[0])\n",
    "        self.conv3 = nn.Conv2d(\n",
    "            in_channels=hidden_sizes[0], out_channels=hidden_sizes[1], \n",
    "            kernel_size=5, stride=1\n",
    "        )\n",
    "        self.bn3 = nn.BatchNorm2d(hidden_sizes[1])\n",
    "        self.conv4 = nn.Conv2d(\n",
    "            in_channels=hidden_sizes[1], out_channels=hidden_sizes[1], \n",
    "            kernel_size=5, stride=1\n",
    "        )\n",
    "        self.bn4 = nn.BatchNorm2d(hidden_sizes[1])\n",
    "        self.fc5 = nn.Linear(hidden_sizes[1]*4*4, hidden_sizes[2])\n",
    "        self.fc6 = nn.Linear(hidden_sizes[2], out_channels)\n",
    "        self.pool = nn.MaxPool2d(kernel_size=2, stride=2)\n",
    "        self.dropout = nn.Dropout(p=dropout)\n",
    "        self.relu = nn.ReLU()\n",
    "        \n",
    "    def forward(self, x):\n",
    "        output = self.relu(self.bn1(self.conv1(x)))         # (n, 12, 28, 28)\n",
    "        output = self.relu(self.bn2(self.conv2(output)))    # (n, 12, 24, 24)\n",
    "        output = self.pool(output)                          # (n, 12, 12, 12)\n",
    "        output = self.relu(self.bn3(self.conv3(output)))    # (n, 24, 8, 8)\n",
    "        output = self.relu(self.bn4(self.conv4(output)))    # (n, 24, 4, 4)\n",
    "        output = output.view(x.size(dim=0), -1)             # (n, 24*4*4)\n",
    "        output = self.dropout(output)\n",
    "        output = self.relu(self.fc5(output))                # (n, 64)\n",
    "        output = self.dropout(output)\n",
    "        output = self.fc6(output)                           # (n, 3)\n",
    "        return output"
   ]
  },
  {
   "cell_type": "code",
   "execution_count": 12,
   "metadata": {},
   "outputs": [],
   "source": [
    "batch_size = 256\n",
    "lr = 1e-3\n",
    "dropout = 0.75\n",
    "decay = 0.0\n",
    "epochs = 400\n",
    "\n",
    "torch.manual_seed(1)\n",
    "np.random.seed(1)"
   ]
  },
  {
   "cell_type": "code",
   "execution_count": 13,
   "metadata": {},
   "outputs": [],
   "source": [
    "# datasets\n",
    "train_transform = A.Compose([\n",
    "    A.RandomRotate90(),\n",
    "    A.Flip(),\n",
    "    A.RandomBrightnessContrast(brightness_limit=0.1, contrast_limit=0.1),\n",
    "    A.Normalize(mean=(0.499, 0.467, 0.416), std=(0.250, 0.247, 0.253)),\n",
    "    ToTensorV2()\n",
    "])\n",
    "test_transform = A.Compose([\n",
    "    A.Normalize(mean=(0.499, 0.467, 0.416), std=(0.250, 0.247, 0.253)),\n",
    "    ToTensorV2()\n",
    "])\n",
    "train_dataset = ImageDataset(train_images, train_labels, transform=train_transform)\n",
    "test_dataset = ImageDataset(test_images, test_labels, transform=test_transform)\n",
    "train_dataloader = DataLoader(\n",
    "    dataset=train_dataset,\n",
    "    shuffle=True,\n",
    "    drop_last=True,\n",
    "    batch_size=batch_size\n",
    ")\n",
    "test_dataloader = DataLoader(\n",
    "    dataset=test_dataset,\n",
    "    shuffle=False,\n",
    "    drop_last=False,\n",
    "    batch_size=batch_size\n",
    ")\n",
    "dataloaders = {'Train': train_dataloader, 'Test': test_dataloader}\n",
    "# model\n",
    "model = Net(in_channels=3, out_channels=3, dropout=dropout)\n",
    "model = model.to(device)\n",
    "# training configuration\n",
    "criterion = nn.CrossEntropyLoss()\n",
    "optimizer = torch.optim.SGD(model.parameters(), lr=lr, momentum=0.9, weight_decay=decay)\n",
    "#optimizer = torch.optim.Adam(model.parameters(), lr=lr, weight_decay=decay)"
   ]
  },
  {
   "cell_type": "markdown",
   "metadata": {},
   "source": [
    "The architecture is illustrated by the following diagram."
   ]
  },
  {
   "cell_type": "markdown",
   "metadata": {},
   "source": [
    "<img src=\"images/architecture.png\">"
   ]
  },
  {
   "cell_type": "markdown",
   "metadata": {},
   "source": [
    "I used two sets of double convolutional layers, and two fully connected layers. In the double convolutional layers, I used 2D convolutional layers with $5 \\times 5$ kernel, rectified linear units (ReLU) as activation functions, and max pooling layers with kernel $2 \\times 2$. I used 12 features for the first set of double convolutional layers, and 24 features for the second set of double convolutional layers. The features from the convolutional layers are flattened before entering the fully connected layers. I used 64 nodes in the first fully connected layer, and 3 nodes in the output layer, corresponding to the 3 classes, namely cat, dog, and horse. I also used ReLU as an activation function after the 64-node fully connected layer. To prevent over-fitting, I applied dropout with probability $0.75$ to the flattened layer and the 64-node fully connected layer.\n",
    "\n",
    "I used the cross entropy loss function and the Adam optimizer.\n",
    "\n",
    "To prevent over-fitting, I used random shuffle, drop last, random rotation, random flip, and random brightness contrast in the training dataloader. The idea is to increase the training set by creating modified copies of existing data. I disabled those operations in the test dataloader.\n",
    "\n",
    "I used a batch size of $256$, a learning rate of $1 \\times 10^{-3}$. I will train the model for $400$ epochs."
   ]
  },
  {
   "cell_type": "markdown",
   "metadata": {},
   "source": [
    "<p style=\"page-break-after:always;\"></p>"
   ]
  },
  {
   "cell_type": "markdown",
   "metadata": {},
   "source": [
    "Train model on the CIFAR-10 subset."
   ]
  },
  {
   "cell_type": "code",
   "execution_count": 2,
   "metadata": {},
   "outputs": [
    {
     "name": "stdout",
     "output_type": "stream",
     "text": [
      "----------\n",
      "Epoch 100/400\n",
      "Training Loss: 0.76625\n",
      "Training Accuracy: 64.96%\n",
      "Test Loss: 0.78232\n",
      "Test_Accuracy: 64.80%\n",
      "----------\n",
      "Epoch 200/400\n",
      "Training Loss: 0.68862\n",
      "Training Accuracy: 71.01%\n",
      "Test Loss: 0.64893\n",
      "Test_Accuracy: 71.77%\n",
      "----------\n",
      "Epoch 300/400\n",
      "Training Loss: 0.63931\n",
      "Training Accuracy: 73.35%\n",
      "Test Loss: 0.62781\n",
      "Test_Accuracy: 72.97%\n",
      "----------\n",
      "Epoch 400/400\n",
      "Training Loss: 0.60078\n",
      "Training Accuracy: 74.60%\n",
      "Test Loss: 0.58819\n",
      "Test_Accuracy: 75.97%\n"
     ]
    }
   ],
   "source": [
    "# train/validation accuracy for each epoch\n",
    "accuracy_dict = {\n",
    "    'Train_Loss': [],\n",
    "    'Train_Accuracy': [],\n",
    "    'Test_Loss': [],\n",
    "    'Test_Accuracy': []\n",
    "}\n",
    "# each epoch consists of train and validation\n",
    "phases = ['Train', 'Test']\n",
    "\n",
    "# training loop\n",
    "for j in range(epochs):\n",
    "    for phase in phases:\n",
    "        if phase == 'Train':\n",
    "            model.train()\n",
    "        else:\n",
    "            model.eval()\n",
    "        running_loss = 0.0\n",
    "        running_correct = 0\n",
    "        running_total = 0\n",
    "        for train_i, train_t in dataloaders[phase]:\n",
    "            # prediction\n",
    "            train_i = train_i.to(device).float()\n",
    "            train_t = train_t.to(device).long()\n",
    "            pred_t = model(train_i)\n",
    "            # calculating loss\n",
    "            loss = criterion(pred_t, train_t)\n",
    "            # backprop\n",
    "            if phase == 'Train':\n",
    "                optimizer.zero_grad()\n",
    "                loss.backward()\n",
    "                optimizer.step()\n",
    "            # update loss and accuracy\n",
    "            # convert logits to predicted labels\n",
    "            preds = torch.argmax(pred_t, dim=1)\n",
    "            running_loss += loss.item()\n",
    "            running_correct += (preds == train_t).sum().item()\n",
    "            running_total += train_t.size(0)\n",
    "        epoch_loss = running_loss / len(dataloaders[phase])\n",
    "        epoch_accuracy = running_correct / running_total\n",
    "        accuracy_dict[f\"{phase}_Loss\"].append(epoch_loss)\n",
    "        accuracy_dict[f\"{phase}_Accuracy\"].append(epoch_accuracy)\n",
    "    if (j+1)%50 == 0:\n",
    "        print(\"-\"*10)\n",
    "        print(f\"Epoch {j+1}/{epochs}\")\n",
    "        print(f\"Training Loss: {accuracy_dict['Train_Loss'][-1]:.5f}\")\n",
    "        print(f\"Training Accuracy: {accuracy_dict['Train_Accuracy'][-1]:.2%}\")\n",
    "        print(f\"Test Loss: {accuracy_dict['Test_Loss'][-1]:.5f}\")\n",
    "        print(f\"Test_Accuracy: {accuracy_dict['Test_Accuracy'][-1]:.2%}\")"
   ]
  },
  {
   "cell_type": "code",
   "execution_count": 15,
   "metadata": {},
   "outputs": [
    {
     "data": {
      "image/png": "[encoded data removed]",
      "text/plain": [
       "<Figure size 1100x350 with 2 Axes>"
      ]
     },
     "metadata": {},
     "output_type": "display_data"
    }
   ],
   "source": [
    "fig, ax = plt.subplots(1, 2, figsize = (11,3.5))\n",
    "# plot accuracies\n",
    "ax[0].plot(\n",
    "    range(1, epochs+1), accuracy_dict[\"Train_Accuracy\"], \n",
    "    label=\"Training Accuracy\"\n",
    ")\n",
    "ax[0].plot(\n",
    "    range(1, epochs+1), accuracy_dict[\"Test_Accuracy\"],\n",
    "    label=\"Test Accuracy\"\n",
    ")\n",
    "ax[0].set_title(\"Training and Test Accuracies\")\n",
    "ax[0].set_xlabel(\"Epochs\")\n",
    "ax[0].set_ylabel(\"Accuracy\")\n",
    "ax[0].legend(loc=\"lower right\")\n",
    "# plot losses\n",
    "ax[1].plot(\n",
    "    range(1, epochs+1), accuracy_dict[\"Train_Loss\"], \n",
    "    label=\"Training Loss\"\n",
    ")\n",
    "ax[1].plot(\n",
    "    range(1, epochs+1), accuracy_dict[\"Test_Loss\"],\n",
    "    label=\"Test Loss\"\n",
    ")\n",
    "ax[1].set_title(\"Training and Test Losses\")\n",
    "ax[1].set_xlabel(\"Epochs\")\n",
    "ax[1].set_ylabel(\"Cross Entropy Loss\")\n",
    "ax[1].legend(loc=\"upper right\")\n",
    "\n",
    "plt.show()"
   ]
  },
  {
   "cell_type": "markdown",
   "metadata": {},
   "source": [
    "<p style=\"page-break-after:always;\"></p>"
   ]
  },
  {
   "cell_type": "markdown",
   "metadata": {},
   "source": [
    "Evaluate the model using the test data."
   ]
  },
  {
   "cell_type": "code",
   "execution_count": 16,
   "metadata": {},
   "outputs": [],
   "source": [
    "pred_labels = []\n",
    "\n",
    "model.eval()\n",
    "for test_i, test_l in dataloaders['Test']:\n",
    "    # prediction\n",
    "    test_i = test_i.to(device).float()\n",
    "    pred_l = model(test_i)\n",
    "    # convert logits to predicted labels\n",
    "    preds = torch.argmax(pred_l, dim=1).cpu().flatten().tolist()\n",
    "    pred_labels.extend(preds)\n",
    "\n",
    "pred_labels = np.array(pred_labels)"
   ]
  },
  {
   "cell_type": "code",
   "execution_count": 17,
   "metadata": {},
   "outputs": [
    {
     "data": {
      "text/html": [
       "<div>\n",
       "<style scoped>\n",
       "    .dataframe tbody tr th:only-of-type {\n",
       "        vertical-align: middle;\n",
       "    }\n",
       "\n",
       "    .dataframe tbody tr th {\n",
       "        vertical-align: top;\n",
       "    }\n",
       "\n",
       "    .dataframe thead th {\n",
       "        text-align: right;\n",
       "    }\n",
       "</style>\n",
       "<table border=\"1\" class=\"dataframe\">\n",
       "  <thead>\n",
       "    <tr style=\"text-align: right;\">\n",
       "      <th></th>\n",
       "      <th>Predicted: Cat</th>\n",
       "      <th>Predicted: Dog</th>\n",
       "      <th>Predicted: Horse</th>\n",
       "    </tr>\n",
       "  </thead>\n",
       "  <tbody>\n",
       "    <tr>\n",
       "      <th>Actual: Cat</th>\n",
       "      <td>723</td>\n",
       "      <td>198</td>\n",
       "      <td>79</td>\n",
       "    </tr>\n",
       "    <tr>\n",
       "      <th>Actual: Dog</th>\n",
       "      <td>204</td>\n",
       "      <td>717</td>\n",
       "      <td>79</td>\n",
       "    </tr>\n",
       "    <tr>\n",
       "      <th>Actual: Horse</th>\n",
       "      <td>90</td>\n",
       "      <td>71</td>\n",
       "      <td>839</td>\n",
       "    </tr>\n",
       "  </tbody>\n",
       "</table>\n",
       "</div>"
      ],
      "text/plain": [
       "               Predicted: Cat  Predicted: Dog  Predicted: Horse\n",
       "Actual: Cat               723             198                79\n",
       "Actual: Dog               204             717                79\n",
       "Actual: Horse              90              71               839"
      ]
     },
     "metadata": {},
     "output_type": "display_data"
    }
   ],
   "source": [
    "# confusion matrix\n",
    "confusion_test = pd.crosstab(test_labels, pred_labels)\n",
    "confusion_test.index = [\"Actual: Cat\", \"Actual: Dog\", \"Actual: Horse\"]\n",
    "confusion_test.columns = [\"Predicted: Cat\", \"Predicted: Dog\", \"Predicted: Horse\"]\n",
    "\n",
    "display(confusion_test)"
   ]
  }
 ],
 "metadata": {
  "kernelspec": {
   "display_name": "cs484",
   "language": "python",
   "name": "python3"
  },
  "language_info": {
   "codemirror_mode": {
    "name": "ipython",
    "version": 3
   },
   "file_extension": ".py",
   "mimetype": "text/x-python",
   "name": "python",
   "nbconvert_exporter": "python",
   "pygments_lexer": "ipython3",
   "version": "3.7.16"
  }
 },
 "nbformat": 4,
 "nbformat_minor": 2
}
