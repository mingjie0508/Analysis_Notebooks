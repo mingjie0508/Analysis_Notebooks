{
  "nbformat": 4,
  "nbformat_minor": 0,
  "metadata": {
    "colab": {
      "provenance": [],
      "toc_visible": true
    },
    "kernelspec": {
      "name": "python3",
      "display_name": "Python 3"
    },
    "language_info": {
      "name": "python"
    }
  },
  "cells": [
    {
      "cell_type": "markdown",
      "source": [
        "# Data description"
      ],
      "metadata": {
        "id": "3wxRS5bFETq2"
      }
    },
    {
      "cell_type": "markdown",
      "source": [
        "This data set was imported from Kaggle: https://www.kaggle.com/datasets/johnsmith88/heart-disease-dataset\n",
        "\n",
        "This data set dates from 1988 and consists of four databases: Cleveland, Hungary, Switzerland, and Long Beach V. It contains 76 attributes, including the predicted attribute, but all published experiments refer to using a subset of 14 of them. The \"target\" field refers to the presence of heart disease in the patient. It is integer valued 0 = no disease and 1 = disease."
      ],
      "metadata": {
        "id": "xLN8RtT9ER1L"
      }
    },
    {
      "cell_type": "markdown",
      "source": [
        "Attributes:\n",
        "\n",
        "1. **age**: age of the patient [years]\n",
        "2. **sex**: sex of the patient [1: Male, 0: Female]\n",
        "3. **cp**: chest pain type [TA: Typical Angina, ATA: Atypical Angina, NAP: Non-Anginal Pain, ASY: Asymptomatic]\n",
        "4. **trestbps**: resting blood pressure [mm Hg]\n",
        "5. **chol**: serum cholesterol [mm/dl]\n",
        "6. **fbs**: fasting blood sugar [1: if FastingBS > 120 mg/dl, 0: otherwise]\n",
        "7. **restecg**: resting electrocardiogram results [Normal: Normal, ST: having ST-T wave abnormality (T wave inversions and/or ST elevation or depression of > 0.05 mV), LVH: showing probable or definite left ventricular hypertrophy by Estes' criteria]\n",
        "8. **thalach**: maximum heart rate achieved [Numeric value between 60 and 202]\n",
        "9. **exang**: exercise-induced angina [Y: Yes, N: No]\n",
        "10. **oldpeak**: oldpeak = ST [Numeric value measured in depression]\n",
        "11. **slope**: the slope of the peak exercise ST segment [Up: upsloping, Flat: flat, Down: downsloping]\n",
        "12. **ca**: number of major vessels colored by flourosopy [0-3]\n",
        "13. **thal**: [0: Normal, 1: fixed defect, 2: reversible defect]\n",
        "14. **target**: whether the patient has heart disease [1: heart disease, 0: Normal]"
      ],
      "metadata": {
        "id": "o0Lp6MfVE2SS"
      }
    },
    {
      "cell_type": "markdown",
      "source": [
        "# Preparation"
      ],
      "metadata": {
        "id": "VVmBLb7gKQPR"
      }
    },
    {
      "cell_type": "code",
      "execution_count": 3,
      "metadata": {
        "id": "E3mE1luVDuoK"
      },
      "outputs": [],
      "source": [
        "import pandas as pd\n",
        "import numpy as np\n",
        "from matplotlib import pyplot as plt\n",
        "import seaborn as sns\n",
        "from sklearn.model_selection import train_test_split\n",
        "from sklearn.linear_model import LogisticRegression\n",
        "from sklearn.tree  import DecisionTreeClassifier\n",
        "from sklearn.ensemble import RandomForestClassifier\n",
        "from lightgbm import LGBMClassifier\n",
        "from sklearn.metrics import accuracy_score,confusion_matrix,classification_report,f1_score\n",
        "from sklearn.metrics import classification_report\n",
        "from sklearn.metrics import accuracy_score\n",
        "from catboost import CatBoostClassifier\n",
        "from sklearn.linear_model import LogisticRegression\n",
        "from sklearn.neighbors import  KNeighborsClassifier\n",
        "from sklearn.ensemble import VotingClassifier\n",
        "from sklearn.metrics import accuracy_score, precision_score, recall_score, f1_score"
      ]
    },
    {
      "cell_type": "code",
      "source": [
        "# load dataset\n",
        "df = pd.read_csv(\"heart.csv\")\n",
        "df['sex'] = pd.Categorical(df.sex)\n",
        "df['cp'] = pd.Categorical(df.cp)\n",
        "df['fbs'] = pd.Categorical(df.fbs)\n",
        "df['restecg'] = pd.Categorical(df.restecg)\n",
        "df['exang'] = pd.Categorical(df.exang)\n",
        "df['slope'] = pd.Categorical(df.slope)\n",
        "df['thal'] = pd.Categorical(df.thal)\n",
        "\n",
        "# display the first few rows\n",
        "df.head()"
      ],
      "metadata": {
        "colab": {
          "base_uri": "https://localhost:8080/",
          "height": 206
        },
        "id": "-yiulCwtK3mU",
        "outputId": "2d7e41b3-aef7-43c0-8a0a-3c257e508793"
      },
      "execution_count": 133,
      "outputs": [
        {
          "output_type": "execute_result",
          "data": {
            "text/plain": [
              "   age sex cp  trestbps  chol fbs restecg  thalach exang  oldpeak slope  ca  \\\n",
              "0   52   1  0       125   212   0       1      168     0      1.0     2   2   \n",
              "1   53   1  0       140   203   1       0      155     1      3.1     0   0   \n",
              "2   70   1  0       145   174   0       1      125     1      2.6     0   0   \n",
              "3   61   1  0       148   203   0       1      161     0      0.0     2   1   \n",
              "4   62   0  0       138   294   1       1      106     0      1.9     1   3   \n",
              "\n",
              "  thal  target  \n",
              "0    3       0  \n",
              "1    3       0  \n",
              "2    3       0  \n",
              "3    3       0  \n",
              "4    2       0  "
            ],
            "text/html": [
              "\n",
              "  <div id=\"df-bb3d7552-6d08-4e2e-8a58-f52a0af3f9c5\">\n",
              "    <div class=\"colab-df-container\">\n",
              "      <div>\n",
              "<style scoped>\n",
              "    .dataframe tbody tr th:only-of-type {\n",
              "        vertical-align: middle;\n",
              "    }\n",
              "\n",
              "    .dataframe tbody tr th {\n",
              "        vertical-align: top;\n",
              "    }\n",
              "\n",
              "    .dataframe thead th {\n",
              "        text-align: right;\n",
              "    }\n",
              "</style>\n",
              "<table border=\"1\" class=\"dataframe\">\n",
              "  <thead>\n",
              "    <tr style=\"text-align: right;\">\n",
              "      <th></th>\n",
              "      <th>age</th>\n",
              "      <th>sex</th>\n",
              "      <th>cp</th>\n",
              "      <th>trestbps</th>\n",
              "      <th>chol</th>\n",
              "      <th>fbs</th>\n",
              "      <th>restecg</th>\n",
              "      <th>thalach</th>\n",
              "      <th>exang</th>\n",
              "      <th>oldpeak</th>\n",
              "      <th>slope</th>\n",
              "      <th>ca</th>\n",
              "      <th>thal</th>\n",
              "      <th>target</th>\n",
              "    </tr>\n",
              "  </thead>\n",
              "  <tbody>\n",
              "    <tr>\n",
              "      <th>0</th>\n",
              "      <td>52</td>\n",
              "      <td>1</td>\n",
              "      <td>0</td>\n",
              "      <td>125</td>\n",
              "      <td>212</td>\n",
              "      <td>0</td>\n",
              "      <td>1</td>\n",
              "      <td>168</td>\n",
              "      <td>0</td>\n",
              "      <td>1.0</td>\n",
              "      <td>2</td>\n",
              "      <td>2</td>\n",
              "      <td>3</td>\n",
              "      <td>0</td>\n",
              "    </tr>\n",
              "    <tr>\n",
              "      <th>1</th>\n",
              "      <td>53</td>\n",
              "      <td>1</td>\n",
              "      <td>0</td>\n",
              "      <td>140</td>\n",
              "      <td>203</td>\n",
              "      <td>1</td>\n",
              "      <td>0</td>\n",
              "      <td>155</td>\n",
              "      <td>1</td>\n",
              "      <td>3.1</td>\n",
              "      <td>0</td>\n",
              "      <td>0</td>\n",
              "      <td>3</td>\n",
              "      <td>0</td>\n",
              "    </tr>\n",
              "    <tr>\n",
              "      <th>2</th>\n",
              "      <td>70</td>\n",
              "      <td>1</td>\n",
              "      <td>0</td>\n",
              "      <td>145</td>\n",
              "      <td>174</td>\n",
              "      <td>0</td>\n",
              "      <td>1</td>\n",
              "      <td>125</td>\n",
              "      <td>1</td>\n",
              "      <td>2.6</td>\n",
              "      <td>0</td>\n",
              "      <td>0</td>\n",
              "      <td>3</td>\n",
              "      <td>0</td>\n",
              "    </tr>\n",
              "    <tr>\n",
              "      <th>3</th>\n",
              "      <td>61</td>\n",
              "      <td>1</td>\n",
              "      <td>0</td>\n",
              "      <td>148</td>\n",
              "      <td>203</td>\n",
              "      <td>0</td>\n",
              "      <td>1</td>\n",
              "      <td>161</td>\n",
              "      <td>0</td>\n",
              "      <td>0.0</td>\n",
              "      <td>2</td>\n",
              "      <td>1</td>\n",
              "      <td>3</td>\n",
              "      <td>0</td>\n",
              "    </tr>\n",
              "    <tr>\n",
              "      <th>4</th>\n",
              "      <td>62</td>\n",
              "      <td>0</td>\n",
              "      <td>0</td>\n",
              "      <td>138</td>\n",
              "      <td>294</td>\n",
              "      <td>1</td>\n",
              "      <td>1</td>\n",
              "      <td>106</td>\n",
              "      <td>0</td>\n",
              "      <td>1.9</td>\n",
              "      <td>1</td>\n",
              "      <td>3</td>\n",
              "      <td>2</td>\n",
              "      <td>0</td>\n",
              "    </tr>\n",
              "  </tbody>\n",
              "</table>\n",
              "</div>\n",
              "      <button class=\"colab-df-convert\" onclick=\"convertToInteractive('df-bb3d7552-6d08-4e2e-8a58-f52a0af3f9c5')\"\n",
              "              title=\"Convert this dataframe to an interactive table.\"\n",
              "              style=\"display:none;\">\n",
              "        \n",
              "  <svg xmlns=\"http://www.w3.org/2000/svg\" height=\"24px\"viewBox=\"0 0 24 24\"\n",
              "       width=\"24px\">\n",
              "    <path d=\"M0 0h24v24H0V0z\" fill=\"none\"/>\n",
              "    <path d=\"M18.56 5.44l.94 2.06.94-2.06 2.06-.94-2.06-.94-.94-2.06-.94 2.06-2.06.94zm-11 1L8.5 8.5l.94-2.06 2.06-.94-2.06-.94L8.5 2.5l-.94 2.06-2.06.94zm10 10l.94 2.06.94-2.06 2.06-.94-2.06-.94-.94-2.06-.94 2.06-2.06.94z\"/><path d=\"M17.41 7.96l-1.37-1.37c-.4-.4-.92-.59-1.43-.59-.52 0-1.04.2-1.43.59L10.3 9.45l-7.72 7.72c-.78.78-.78 2.05 0 2.83L4 21.41c.39.39.9.59 1.41.59.51 0 1.02-.2 1.41-.59l7.78-7.78 2.81-2.81c.8-.78.8-2.07 0-2.86zM5.41 20L4 18.59l7.72-7.72 1.47 1.35L5.41 20z\"/>\n",
              "  </svg>\n",
              "      </button>\n",
              "      \n",
              "  <style>\n",
              "    .colab-df-container {\n",
              "      display:flex;\n",
              "      flex-wrap:wrap;\n",
              "      gap: 12px;\n",
              "    }\n",
              "\n",
              "    .colab-df-convert {\n",
              "      background-color: #E8F0FE;\n",
              "      border: none;\n",
              "      border-radius: 50%;\n",
              "      cursor: pointer;\n",
              "      display: none;\n",
              "      fill: #1967D2;\n",
              "      height: 32px;\n",
              "      padding: 0 0 0 0;\n",
              "      width: 32px;\n",
              "    }\n",
              "\n",
              "    .colab-df-convert:hover {\n",
              "      background-color: #E2EBFA;\n",
              "      box-shadow: 0px 1px 2px rgba(60, 64, 67, 0.3), 0px 1px 3px 1px rgba(60, 64, 67, 0.15);\n",
              "      fill: #174EA6;\n",
              "    }\n",
              "\n",
              "    [theme=dark] .colab-df-convert {\n",
              "      background-color: #3B4455;\n",
              "      fill: #D2E3FC;\n",
              "    }\n",
              "\n",
              "    [theme=dark] .colab-df-convert:hover {\n",
              "      background-color: #434B5C;\n",
              "      box-shadow: 0px 1px 3px 1px rgba(0, 0, 0, 0.15);\n",
              "      filter: drop-shadow(0px 1px 2px rgba(0, 0, 0, 0.3));\n",
              "      fill: #FFFFFF;\n",
              "    }\n",
              "  </style>\n",
              "\n",
              "      <script>\n",
              "        const buttonEl =\n",
              "          document.querySelector('#df-bb3d7552-6d08-4e2e-8a58-f52a0af3f9c5 button.colab-df-convert');\n",
              "        buttonEl.style.display =\n",
              "          google.colab.kernel.accessAllowed ? 'block' : 'none';\n",
              "\n",
              "        async function convertToInteractive(key) {\n",
              "          const element = document.querySelector('#df-bb3d7552-6d08-4e2e-8a58-f52a0af3f9c5');\n",
              "          const dataTable =\n",
              "            await google.colab.kernel.invokeFunction('convertToInteractive',\n",
              "                                                     [key], {});\n",
              "          if (!dataTable) return;\n",
              "\n",
              "          const docLinkHtml = 'Like what you see? Visit the ' +\n",
              "            '<a target=\"_blank\" href=https://colab.research.google.com/notebooks/data_table.ipynb>data table notebook</a>'\n",
              "            + ' to learn more about interactive tables.';\n",
              "          element.innerHTML = '';\n",
              "          dataTable['output_type'] = 'display_data';\n",
              "          await google.colab.output.renderOutput(dataTable, element);\n",
              "          const docLink = document.createElement('div');\n",
              "          docLink.innerHTML = docLinkHtml;\n",
              "          element.appendChild(docLink);\n",
              "        }\n",
              "      </script>\n",
              "    </div>\n",
              "  </div>\n",
              "  "
            ]
          },
          "metadata": {},
          "execution_count": 133
        }
      ]
    },
    {
      "cell_type": "markdown",
      "source": [
        "# Exploratory Data Analysis"
      ],
      "metadata": {
        "id": "dRVtn7kdLBCl"
      }
    },
    {
      "cell_type": "code",
      "source": [
        "# check if the dataset contains null values\n",
        "df.isnull().sum()"
      ],
      "metadata": {
        "colab": {
          "base_uri": "https://localhost:8080/"
        },
        "id": "lvIRrtQxLCeX",
        "outputId": "d014a200-9c4a-4588-df83-4269a1264c3a"
      },
      "execution_count": 104,
      "outputs": [
        {
          "output_type": "execute_result",
          "data": {
            "text/plain": [
              "age         0\n",
              "sex         0\n",
              "cp          0\n",
              "trestbps    0\n",
              "chol        0\n",
              "fbs         0\n",
              "restecg     0\n",
              "thalach     0\n",
              "exang       0\n",
              "oldpeak     0\n",
              "slope       0\n",
              "ca          0\n",
              "thal        0\n",
              "target      0\n",
              "dtype: int64"
            ]
          },
          "metadata": {},
          "execution_count": 104
        }
      ]
    },
    {
      "cell_type": "code",
      "source": [
        "# check the type of each attribute\n",
        "df.info()"
      ],
      "metadata": {
        "colab": {
          "base_uri": "https://localhost:8080/"
        },
        "id": "_ocAE9NYLVoQ",
        "outputId": "5b7ffaaf-4ec4-4aa1-8062-ec81d450f9c5"
      },
      "execution_count": 134,
      "outputs": [
        {
          "output_type": "stream",
          "name": "stdout",
          "text": [
            "<class 'pandas.core.frame.DataFrame'>\n",
            "RangeIndex: 1025 entries, 0 to 1024\n",
            "Data columns (total 14 columns):\n",
            " #   Column    Non-Null Count  Dtype   \n",
            "---  ------    --------------  -----   \n",
            " 0   age       1025 non-null   int64   \n",
            " 1   sex       1025 non-null   category\n",
            " 2   cp        1025 non-null   category\n",
            " 3   trestbps  1025 non-null   int64   \n",
            " 4   chol      1025 non-null   int64   \n",
            " 5   fbs       1025 non-null   category\n",
            " 6   restecg   1025 non-null   category\n",
            " 7   thalach   1025 non-null   int64   \n",
            " 8   exang     1025 non-null   category\n",
            " 9   oldpeak   1025 non-null   float64 \n",
            " 10  slope     1025 non-null   category\n",
            " 11  ca        1025 non-null   int64   \n",
            " 12  thal      1025 non-null   category\n",
            " 13  target    1025 non-null   int64   \n",
            "dtypes: category(7), float64(1), int64(6)\n",
            "memory usage: 64.2 KB\n"
          ]
        }
      ]
    },
    {
      "cell_type": "code",
      "source": [
        "# plot the targets\n",
        "plt.figure(figsize=(5,5))\n",
        "heartDisease_countplot = sns.countplot(x=df.target, palette=['green', 'red'])\n",
        "heartDisease_countplot.set_title(\"Distribution of Target 'Heart Disease'\")\n",
        "heartDisease_countplot.set_xticklabels(['No', 'Yes'])"
      ],
      "metadata": {
        "colab": {
          "base_uri": "https://localhost:8080/",
          "height": 367
        },
        "id": "1KpNedFRLcpJ",
        "outputId": "ee774c36-0eef-4fb0-cb3d-8e4828de3867"
      },
      "execution_count": 106,
      "outputs": [
        {
          "output_type": "execute_result",
          "data": {
            "text/plain": [
              "[Text(0, 0, 'No'), Text(1, 0, 'Yes')]"
            ]
          },
          "metadata": {},
          "execution_count": 106
        },
        {
          "output_type": "display_data",
          "data": {
            "text/plain": [
              "<Figure size 360x360 with 1 Axes>"
            ],
            "image/png": "[encoded data removed]"
          },
          "metadata": {
            "needs_background": "light"
          }
        }
      ]
    },
    {
      "cell_type": "markdown",
      "source": [
        "The number of samples with heart disease is close to the number of samples without heart disease."
      ],
      "metadata": {
        "id": "aNn4JjqIMgld"
      }
    },
    {
      "cell_type": "code",
      "source": [
        "plt.figure(figsize=(5,5))\n",
        "sex_countplot = sns.countplot(x=df.sex, palette=['pink', 'brown'])\n",
        "sex_countplot.set_title(\"Sex Distribution\")\n",
        "sex_countplot.set_xticklabels(['Female', 'Male'])\n",
        "plt.xlabel('Sex')\n",
        "plt.ylabel('Count')"
      ],
      "metadata": {
        "colab": {
          "base_uri": "https://localhost:8080/",
          "height": 367
        },
        "id": "ZJygMm89M1X0",
        "outputId": "f67ac6ff-4d37-4199-f249-f47534fc409a"
      },
      "execution_count": 107,
      "outputs": [
        {
          "output_type": "execute_result",
          "data": {
            "text/plain": [
              "Text(0, 0.5, 'Count')"
            ]
          },
          "metadata": {},
          "execution_count": 107
        },
        {
          "output_type": "display_data",
          "data": {
            "text/plain": [
              "<Figure size 360x360 with 1 Axes>"
            ],
            "image/png": "[encoded data removed]"
          },
          "metadata": {
            "needs_background": "light"
          }
        }
      ]
    },
    {
      "cell_type": "markdown",
      "source": [
        "There are much more males than females in the data set."
      ],
      "metadata": {
        "id": "qQmHQJDrM9iS"
      }
    },
    {
      "cell_type": "code",
      "source": [
        "cp_count = df['cp'].value_counts()\n",
        "cp_type = {0: 'Typical Angina', 1: 'Atypical Angina', 2: 'Non-Anginal Pain', 3: 'Asymptomatic'}\n",
        "cp_count.rename(cp_type, inplace=True)\n",
        "print(cp_count)"
      ],
      "metadata": {
        "colab": {
          "base_uri": "https://localhost:8080/"
        },
        "id": "09YqR6sqOwPO",
        "outputId": "aec4f8db-0253-4a2f-b34f-8fe26bbc52ea"
      },
      "execution_count": 108,
      "outputs": [
        {
          "output_type": "stream",
          "name": "stdout",
          "text": [
            "Typical Angina      497\n",
            "Non-Anginal Pain    284\n",
            "Atypical Angina     167\n",
            "Asymptomatic         77\n",
            "Name: cp, dtype: int64\n"
          ]
        }
      ]
    },
    {
      "cell_type": "code",
      "source": [
        "plt.figure(figsize=(5,5))\n",
        "plt.pie(cp_count, labels=cp_count.index,\n",
        "        autopct='%1.2f%%', startangle=90, colors= ['lime','crimson', 'slateblue', 'deeppink'])\n",
        "plt.title(\"Count of Chest Pain Type\")"
      ],
      "metadata": {
        "colab": {
          "base_uri": "https://localhost:8080/",
          "height": 336
        },
        "id": "QzfXvkDYUOG1",
        "outputId": "41343ca7-c2b2-44b3-acc2-c5da474eb6fa"
      },
      "execution_count": 109,
      "outputs": [
        {
          "output_type": "execute_result",
          "data": {
            "text/plain": [
              "Text(0.5, 1.0, 'Count of Chest Pain Type')"
            ]
          },
          "metadata": {},
          "execution_count": 109
        },
        {
          "output_type": "display_data",
          "data": {
            "text/plain": [
              "<Figure size 360x360 with 1 Axes>"
            ],
            "image/png": "[encoded data removed]"
          },
          "metadata": {}
        }
      ]
    },
    {
      "cell_type": "markdown",
      "source": [
        "Typical Angina is the most common chest pain type in the data set."
      ],
      "metadata": {
        "id": "b0Tq-qNVU3e7"
      }
    },
    {
      "cell_type": "code",
      "source": [
        "plt.hist(df.trestbps)\n",
        "plt.title(\"Resting Blood Pressure\")\n",
        "plt.xlabel(\"Resting Blood Pressure (mm Hg)\")\n",
        "plt.ylabel(\"Frequency\")"
      ],
      "metadata": {
        "colab": {
          "base_uri": "https://localhost:8080/",
          "height": 312
        },
        "id": "luow9n4mWO54",
        "outputId": "ea66fc00-8e7b-452b-c824-48690deacb8a"
      },
      "execution_count": 110,
      "outputs": [
        {
          "output_type": "execute_result",
          "data": {
            "text/plain": [
              "Text(0, 0.5, 'Frequency')"
            ]
          },
          "metadata": {},
          "execution_count": 110
        },
        {
          "output_type": "display_data",
          "data": {
            "text/plain": [
              "<Figure size 432x288 with 1 Axes>"
            ],
            "image/png": "[encoded data removed]"
          },
          "metadata": {
            "needs_background": "light"
          }
        }
      ]
    },
    {
      "cell_type": "code",
      "source": [
        "plt.hist(df.chol)\n",
        "plt.title(\"serum cholestoral\")\n",
        "plt.xlabel(\"serum cholestoral (mg/dl)\")\n",
        "plt.ylabel(\"Frequency\")"
      ],
      "metadata": {
        "colab": {
          "base_uri": "https://localhost:8080/",
          "height": 312
        },
        "id": "N2Gg4vycXHrx",
        "outputId": "5dd841a7-3a98-446a-8796-103aaad8a450"
      },
      "execution_count": 111,
      "outputs": [
        {
          "output_type": "execute_result",
          "data": {
            "text/plain": [
              "Text(0, 0.5, 'Frequency')"
            ]
          },
          "metadata": {},
          "execution_count": 111
        },
        {
          "output_type": "display_data",
          "data": {
            "text/plain": [
              "<Figure size 432x288 with 1 Axes>"
            ],
            "image/png": "[encoded data removed]"
          },
          "metadata": {
            "needs_background": "light"
          }
        }
      ]
    },
    {
      "cell_type": "code",
      "source": [
        "plt.figure(figsize=(5,5))\n",
        "fbs_countplot = sns.countplot(x=df.fbs, palette=['lightgreen', 'green'])\n",
        "fbs_countplot.set_title(\"Fasting Blood Sugar\")\n",
        "fbs_countplot.set_xticklabels(['<= 120 mg/dl', '> 120 mg/dl'])\n",
        "plt.xlabel('Fasting Blood Sugar (mg/dl)')\n",
        "plt.ylabel('Count')"
      ],
      "metadata": {
        "colab": {
          "base_uri": "https://localhost:8080/",
          "height": 367
        },
        "id": "bCo_dLfpXirg",
        "outputId": "f190bc26-0be5-4a88-9505-4f990b1702a3"
      },
      "execution_count": 112,
      "outputs": [
        {
          "output_type": "execute_result",
          "data": {
            "text/plain": [
              "Text(0, 0.5, 'Count')"
            ]
          },
          "metadata": {},
          "execution_count": 112
        },
        {
          "output_type": "display_data",
          "data": {
            "text/plain": [
              "<Figure size 360x360 with 1 Axes>"
            ],
            "image/png": "[encoded data removed]"
          },
          "metadata": {
            "needs_background": "light"
          }
        }
      ]
    },
    {
      "cell_type": "code",
      "source": [
        "restecg_count = df['restecg'].value_counts()\n",
        "restecg_type = {0: 'Normal', 1: 'ST', 2: 'LVH'}\n",
        "restecg_count.rename(restecg_type, inplace=True)\n",
        "print(restecg_count)"
      ],
      "metadata": {
        "colab": {
          "base_uri": "https://localhost:8080/"
        },
        "id": "NuM2XlCda8Qp",
        "outputId": "30518e4a-51a0-4c08-94d0-e952e6f147fa"
      },
      "execution_count": 113,
      "outputs": [
        {
          "output_type": "stream",
          "name": "stdout",
          "text": [
            "ST        513\n",
            "Normal    497\n",
            "LVH        15\n",
            "Name: restecg, dtype: int64\n"
          ]
        }
      ]
    },
    {
      "cell_type": "code",
      "source": [
        "plt.figure(figsize=(5,5))\n",
        "plt.pie(restecg_count, labels=restecg_count.index,\n",
        "        autopct='%1.2f%%', startangle=90, colors= ['orange', 'red', 'green'])\n",
        "plt.title(\"Resting Electrocardiographic Results\")"
      ],
      "metadata": {
        "colab": {
          "base_uri": "https://localhost:8080/",
          "height": 336
        },
        "id": "Ko3u7hJKbJqO",
        "outputId": "259f12bd-2625-4159-d464-3546aa520487"
      },
      "execution_count": 114,
      "outputs": [
        {
          "output_type": "execute_result",
          "data": {
            "text/plain": [
              "Text(0.5, 1.0, 'Resting Electrocardiographic Results')"
            ]
          },
          "metadata": {},
          "execution_count": 114
        },
        {
          "output_type": "display_data",
          "data": {
            "text/plain": [
              "<Figure size 360x360 with 1 Axes>"
            ],
            "image/png": "[encoded data removed]"
          },
          "metadata": {}
        }
      ]
    },
    {
      "cell_type": "markdown",
      "source": [
        "Resting electrocardiographic is a non-invasive test that can detect abnormalities including arrhythmias,evidence of coronary heart disease, left ventricular hypertrophy and bundle branch blocks.\n",
        "\n",
        "Results:\n",
        "- *Normal*\n",
        "- *ST*: having ST-T wave abnormality (T wave inversions and/or ST elevation or depression of > 0.05 mV)\n",
        "- *LVH*: showing probable or definite left ventricular hypertrophy by Estes' criteria"
      ],
      "metadata": {
        "id": "19hxbOzJZk2s"
      }
    },
    {
      "cell_type": "code",
      "source": [
        "plt.hist(df.chol)\n",
        "plt.title(\"Maximum Heart Rate Achieved\")\n",
        "plt.xlabel(\"beat/s\")\n",
        "plt.ylabel(\"Frequency\")"
      ],
      "metadata": {
        "colab": {
          "base_uri": "https://localhost:8080/",
          "height": 312
        },
        "id": "Kd7Y2lJIaMuU",
        "outputId": "e0cbfd40-9ce2-4823-86cf-9b78eadc1e52"
      },
      "execution_count": 115,
      "outputs": [
        {
          "output_type": "execute_result",
          "data": {
            "text/plain": [
              "Text(0, 0.5, 'Frequency')"
            ]
          },
          "metadata": {},
          "execution_count": 115
        },
        {
          "output_type": "display_data",
          "data": {
            "text/plain": [
              "<Figure size 432x288 with 1 Axes>"
            ],
            "image/png": "[encoded data removed]"
          },
          "metadata": {
            "needs_background": "light"
          }
        }
      ]
    },
    {
      "cell_type": "code",
      "source": [
        "plt.figure(figsize=(5,5))\n",
        "exang_countplot = sns.countplot(x=df.exang, palette=['lightblue', 'blue'])\n",
        "exang_countplot.set_title(\"Exercise Induced Angina\")\n",
        "exang_countplot.set_xticklabels(['No', 'Yes'])\n",
        "plt.xlabel('Exercise Induced Angina')\n",
        "plt.ylabel('Count')"
      ],
      "metadata": {
        "colab": {
          "base_uri": "https://localhost:8080/",
          "height": 367
        },
        "id": "7EmFjWdjaeOw",
        "outputId": "eb09b2c1-0ecc-4f98-9675-2433871be754"
      },
      "execution_count": 116,
      "outputs": [
        {
          "output_type": "execute_result",
          "data": {
            "text/plain": [
              "Text(0, 0.5, 'Count')"
            ]
          },
          "metadata": {},
          "execution_count": 116
        },
        {
          "output_type": "display_data",
          "data": {
            "text/plain": [
              "<Figure size 360x360 with 1 Axes>"
            ],
            "image/png": "[encoded data removed]"
          },
          "metadata": {
            "needs_background": "light"
          }
        }
      ]
    },
    {
      "cell_type": "code",
      "source": [
        "plt.hist(df.oldpeak)\n",
        "plt.title(\"ST Depression Induced by Exercise Relative to Rest\")\n",
        "plt.ylabel(\"Frequency\")"
      ],
      "metadata": {
        "colab": {
          "base_uri": "https://localhost:8080/",
          "height": 298
        },
        "id": "iFRNEZ2_bjyh",
        "outputId": "1873050a-d775-4665-ea27-ea4c4d48648a"
      },
      "execution_count": 117,
      "outputs": [
        {
          "output_type": "execute_result",
          "data": {
            "text/plain": [
              "Text(0, 0.5, 'Frequency')"
            ]
          },
          "metadata": {},
          "execution_count": 117
        },
        {
          "output_type": "display_data",
          "data": {
            "text/plain": [
              "<Figure size 432x288 with 1 Axes>"
            ],
            "image/png": "[encoded data removed]"
          },
          "metadata": {
            "needs_background": "light"
          }
        }
      ]
    },
    {
      "cell_type": "code",
      "source": [
        "slope_count = df['slope'].value_counts()\n",
        "slope_type = {0: 'Upsloping', 1: 'Flat', 2: 'Downsloping'}\n",
        "slope_count.rename(slope_type, inplace=True)\n",
        "print(slope_count)"
      ],
      "metadata": {
        "colab": {
          "base_uri": "https://localhost:8080/"
        },
        "id": "xdrKG5l5cL2V",
        "outputId": "16596a81-0891-444c-9e30-584d2c2189d7"
      },
      "execution_count": 118,
      "outputs": [
        {
          "output_type": "stream",
          "name": "stdout",
          "text": [
            "Flat           482\n",
            "Downsloping    469\n",
            "Upsloping       74\n",
            "Name: slope, dtype: int64\n"
          ]
        }
      ]
    },
    {
      "cell_type": "code",
      "source": [
        "plt.figure(figsize=(5,5))\n",
        "plt.pie(slope_count, labels=slope_count.index,\n",
        "        autopct='%1.2f%%', startangle=90, colors= ['lime', 'darkgreen', 'lightblue'])\n",
        "plt.title(\"Slope of the Peak Exercise ST Segment\")"
      ],
      "metadata": {
        "colab": {
          "base_uri": "https://localhost:8080/",
          "height": 336
        },
        "id": "QwNXdTHccsRu",
        "outputId": "71b70987-1c00-4d24-e614-89ad998a3aa2"
      },
      "execution_count": 119,
      "outputs": [
        {
          "output_type": "execute_result",
          "data": {
            "text/plain": [
              "Text(0.5, 1.0, 'Slope of the Peak Exercise ST Segment')"
            ]
          },
          "metadata": {},
          "execution_count": 119
        },
        {
          "output_type": "display_data",
          "data": {
            "text/plain": [
              "<Figure size 360x360 with 1 Axes>"
            ],
            "image/png": "[encoded data removed]"
          },
          "metadata": {}
        }
      ]
    },
    {
      "cell_type": "code",
      "source": [
        "plt.figure(figsize=(7,5))\n",
        "ca_countplot = sns.countplot(x=df.ca)\n",
        "ca_countplot.set_title(\"Number of Major Vessels Colored by Flourosopy\")\n",
        "ca_countplot.set_xticklabels(['0', '1', '2', '3', '4'])\n",
        "plt.xlabel('Number of Major Vessels')\n",
        "plt.ylabel('Count')"
      ],
      "metadata": {
        "colab": {
          "base_uri": "https://localhost:8080/",
          "height": 367
        },
        "id": "Ds62HsT3dLaM",
        "outputId": "4289aa62-29a9-4b76-802d-50d28226e78f"
      },
      "execution_count": 120,
      "outputs": [
        {
          "output_type": "execute_result",
          "data": {
            "text/plain": [
              "Text(0, 0.5, 'Count')"
            ]
          },
          "metadata": {},
          "execution_count": 120
        },
        {
          "output_type": "display_data",
          "data": {
            "text/plain": [
              "<Figure size 504x360 with 1 Axes>"
            ],
            "image/png": "[encoded data removed]"
          },
          "metadata": {
            "needs_background": "light"
          }
        }
      ]
    },
    {
      "cell_type": "code",
      "source": [
        "thal_count = df['thal'].value_counts()\n",
        "thal_type = {0: 'Other', 1: 'Normal', 2: 'Fixed Defect', 3: 'Reversible Defect'}\n",
        "thal_count.rename(thal_type, inplace=True)\n",
        "print(thal_count)"
      ],
      "metadata": {
        "colab": {
          "base_uri": "https://localhost:8080/"
        },
        "id": "yNv4HVj3h5uz",
        "outputId": "561e3234-ecf9-4045-ece7-a069cf254cfd"
      },
      "execution_count": 121,
      "outputs": [
        {
          "output_type": "stream",
          "name": "stdout",
          "text": [
            "Fixed Defect         544\n",
            "Reversible Defect    410\n",
            "Normal                64\n",
            "Other                  7\n",
            "Name: thal, dtype: int64\n"
          ]
        }
      ]
    },
    {
      "cell_type": "code",
      "source": [
        "plt.figure(figsize=(5,5))\n",
        "plt.pie(thal_count, labels=thal_count.index,\n",
        "        autopct='%1.2f%%', startangle=90)\n",
        "plt.title(\"Defect Condition\")"
      ],
      "metadata": {
        "colab": {
          "base_uri": "https://localhost:8080/",
          "height": 336
        },
        "id": "j3gqkXuPiza_",
        "outputId": "b63dd8b5-ca30-433f-9497-1f8eda01d698"
      },
      "execution_count": 122,
      "outputs": [
        {
          "output_type": "execute_result",
          "data": {
            "text/plain": [
              "Text(0.5, 1.0, 'Defect Condition')"
            ]
          },
          "metadata": {},
          "execution_count": 122
        },
        {
          "output_type": "display_data",
          "data": {
            "text/plain": [
              "<Figure size 360x360 with 1 Axes>"
            ],
            "image/png": "[encoded data removed]"
          },
          "metadata": {}
        }
      ]
    },
    {
      "cell_type": "code",
      "source": [
        "Categorical = df.select_dtypes(include=['category'])\n",
        "Numerical = df.select_dtypes(include=['int64', 'float64'])"
      ],
      "metadata": {
        "id": "P4RoiQL1jSo_"
      },
      "execution_count": 136,
      "outputs": []
    },
    {
      "cell_type": "code",
      "source": [
        "# ploting numerical features with target\n",
        "for i in Numerical:\n",
        "    plt.figure(figsize=(10,5))\n",
        "    sns.countplot(x=i, data=df, hue='target')\n",
        "    plt.legend(['Normal', 'Heart Disease'])\n",
        "    plt.title(i)\n",
        "    plt.show()"
      ],
      "metadata": {
        "colab": {
          "base_uri": "https://localhost:8080/",
          "height": 1000
        },
        "id": "PGpU3opdjNnT",
        "outputId": "a756f8b1-a2ca-4893-97a9-2a90c546cf6f"
      },
      "execution_count": 124,
      "outputs": [
        {
          "output_type": "display_data",
          "data": {
            "text/plain": [
              "<Figure size 720x360 with 1 Axes>"
            ],
            "image/png": "[encoded data removed]"
          },
          "metadata": {
            "needs_background": "light"
          }
        },
        {
          "output_type": "display_data",
          "data": {
            "text/plain": [
              "<Figure size 720x360 with 1 Axes>"
            ],
            "image/png": "[encoded data removed]"
          },
          "metadata": {
            "needs_background": "light"
          }
        },
        {
          "output_type": "display_data",
          "data": {
            "text/plain": [
              "<Figure size 720x360 with 1 Axes>"
            ],
            "image/png": "[encoded data removed]"
          },
          "metadata": {
            "needs_background": "light"
          }
        },
        {
          "output_type": "display_data",
          "data": {
            "text/plain": [
              "<Figure size 720x360 with 1 Axes>"
            ],
            "image/png": "[encoded data removed]"
          },
          "metadata": {
            "needs_background": "light"
          }
        },
        {
          "output_type": "display_data",
          "data": {
            "text/plain": [
              "<Figure size 720x360 with 1 Axes>"
            ],
            "image/png": "[encoded data removed]"
          },
          "metadata": {
            "needs_background": "light"
          }
        },
        {
          "output_type": "display_data",
          "data": {
            "text/plain": [
              "<Figure size 720x360 with 1 Axes>"
            ],
            "image/png": "[encoded data removed]"
          },
          "metadata": {
            "needs_background": "light"
          }
        },
        {
          "output_type": "display_data",
          "data": {
            "text/plain": [
              "<Figure size 720x360 with 1 Axes>"
            ],
            "image/png": "[encoded data removed]"
          },
          "metadata": {
            "needs_background": "light"
          }
        }
      ]
    },
    {
      "cell_type": "code",
      "source": [
        "#here we compare betwwen our target and our Categorical features \n",
        "for i in Categorical:\n",
        "    plt.figure(figsize=(10,10))\n",
        "    sns.countplot(x=i, data=df, hue='target', edgecolor='black')\n",
        "    plt.legend(['Normal', 'Heart Disease'])\n",
        "    plt.title(i)\n",
        "    plt.show()"
      ],
      "metadata": {
        "colab": {
          "base_uri": "https://localhost:8080/",
          "height": 1000
        },
        "id": "Qozkt5GKmbCo",
        "outputId": "64cb113a-c901-4be8-e014-ac625a8163ca"
      },
      "execution_count": 137,
      "outputs": [
        {
          "output_type": "display_data",
          "data": {
            "text/plain": [
              "<Figure size 720x720 with 1 Axes>"
            ],
            "image/png": "[encoded data removed]"
          },
          "metadata": {
            "needs_background": "light"
          }
        },
        {
          "output_type": "display_data",
          "data": {
            "text/plain": [
              "<Figure size 720x720 with 1 Axes>"
            ],
            "image/png": "[encoded data removed]"
          },
          "metadata": {
            "needs_background": "light"
          }
        },
        {
          "output_type": "display_data",
          "data": {
            "text/plain": [
              "<Figure size 720x720 with 1 Axes>"
            ],
            "image/png": "[encoded data removed]"
          },
          "metadata": {
            "needs_background": "light"
          }
        },
        {
          "output_type": "display_data",
          "data": {
            "text/plain": [
              "<Figure size 720x720 with 1 Axes>"
            ],
            "image/png": "[encoded data removed]"
          },
          "metadata": {
            "needs_background": "light"
          }
        },
        {
          "output_type": "display_data",
          "data": {
            "text/plain": [
              "<Figure size 720x720 with 1 Axes>"
            ],
            "image/png": "[encoded data removed]"
          },
          "metadata": {
            "needs_background": "light"
          }
        },
        {
          "output_type": "display_data",
          "data": {
            "text/plain": [
              "<Figure size 720x720 with 1 Axes>"
            ],
            "image/png": "[encoded data removed]"
          },
          "metadata": {
            "needs_background": "light"
          }
        },
        {
          "output_type": "display_data",
          "data": {
            "text/plain": [
              "<Figure size 720x720 with 1 Axes>"
            ],
            "image/png": "[encoded data removed]"
          },
          "metadata": {
            "needs_background": "light"
          }
        }
      ]
    },
    {
      "cell_type": "markdown",
      "source": [
        "# Outliers"
      ],
      "metadata": {
        "id": "kZd1kIIWoPL2"
      }
    },
    {
      "cell_type": "code",
      "source": [
        "plt.figure(figsize=(15,9))\n",
        "sns.boxplot(data=df)"
      ],
      "metadata": {
        "colab": {
          "base_uri": "https://localhost:8080/",
          "height": 554
        },
        "id": "hL_htKQPoO1P",
        "outputId": "27bf0703-8f65-4039-93c8-bc8fd5fe8ec5"
      },
      "execution_count": 138,
      "outputs": [
        {
          "output_type": "execute_result",
          "data": {
            "text/plain": [
              "<AxesSubplot:>"
            ]
          },
          "metadata": {},
          "execution_count": 138
        },
        {
          "output_type": "display_data",
          "data": {
            "text/plain": [
              "<Figure size 1080x648 with 1 Axes>"
            ],
            "image/png": "[encoded data removed]"
          },
          "metadata": {
            "needs_background": "light"
          }
        }
      ]
    },
    {
      "cell_type": "markdown",
      "source": [
        "There are many outliers in trestbps (resting blood pressure) and chol (serum cholestoral)."
      ],
      "metadata": {
        "id": "2fPZZF30oizW"
      }
    },
    {
      "cell_type": "code",
      "source": [
        "def find_outliers_IQR(df):\n",
        "   q1=df.quantile(0.25)\n",
        "   q3=df.quantile(0.75)\n",
        "   IQR=q3-q1\n",
        "   outliers = df[((df<(q1-1.5*IQR)) | (df>(q3+1.5*IQR)))]\n",
        "   return outliers"
      ],
      "metadata": {
        "id": "0DzzRICimigu"
      },
      "execution_count": 139,
      "outputs": []
    },
    {
      "cell_type": "code",
      "source": [
        "df_num_name = ['age', 'trestbps', 'chol', 'thalach', 'oldpeak', 'ca']\n",
        "for char in df_num_name :\n",
        "    outliers = find_outliers_IQR(df[str(char)])\n",
        "    print(f\"-Check {char} outliers \")\n",
        "    print('number of outliers: '+ str(len(outliers)))\n",
        "    print('max outlier value: '+ str(outliers.max()))\n",
        "    print('min outlier value: '+ str(outliers.min())+ '\\n')"
      ],
      "metadata": {
        "colab": {
          "base_uri": "https://localhost:8080/"
        },
        "id": "MCp7nM8ipnYz",
        "outputId": "7f724dd2-b5a3-4531-90a0-786a1f3dbf26"
      },
      "execution_count": 141,
      "outputs": [
        {
          "output_type": "stream",
          "name": "stdout",
          "text": [
            "-Check age outliers \n",
            "number of outliers: 0\n",
            "max outlier value: nan\n",
            "min outlier value: nan\n",
            "\n",
            "-Check trestbps outliers \n",
            "number of outliers: 30\n",
            "max outlier value: 200\n",
            "min outlier value: 172\n",
            "\n",
            "-Check chol outliers \n",
            "number of outliers: 16\n",
            "max outlier value: 564\n",
            "min outlier value: 394\n",
            "\n",
            "-Check thalach outliers \n",
            "number of outliers: 4\n",
            "max outlier value: 71\n",
            "min outlier value: 71\n",
            "\n",
            "-Check oldpeak outliers \n",
            "number of outliers: 7\n",
            "max outlier value: 6.2\n",
            "min outlier value: 5.6\n",
            "\n",
            "-Check ca outliers \n",
            "number of outliers: 87\n",
            "max outlier value: 4\n",
            "min outlier value: 3\n",
            "\n"
          ]
        }
      ]
    },
    {
      "cell_type": "code",
      "source": [
        "df = df.drop(df[df['chol'] > 500].index) \n",
        "#after this we decide to drop this columns "
      ],
      "metadata": {
        "id": "1Am0mngKwGT3"
      },
      "execution_count": 163,
      "outputs": []
    },
    {
      "cell_type": "markdown",
      "source": [
        "# Encoding categorical features:"
      ],
      "metadata": {
        "id": "eRe5nGcAt35B"
      }
    },
    {
      "cell_type": "code",
      "source": [
        "from sklearn.preprocessing import LabelEncoder"
      ],
      "metadata": {
        "id": "AD9qtCILt6q0"
      },
      "execution_count": 142,
      "outputs": []
    },
    {
      "cell_type": "code",
      "source": [
        "sex_le = LabelEncoder()\n",
        "cp_le = LabelEncoder()\n",
        "fbs_le = LabelEncoder()\n",
        "restecg_le = LabelEncoder()\n",
        "exang_le = LabelEncoder()\n",
        "slope_le = LabelEncoder()\n",
        "thal_le = LabelEncoder()"
      ],
      "metadata": {
        "id": "pv09dNb3t7oH"
      },
      "execution_count": 143,
      "outputs": []
    },
    {
      "cell_type": "code",
      "source": [
        "df['sex'] = sex_le.fit_transform(df['sex'])\n",
        "df['cp'] = cp_le.fit_transform(df['cp'])\n",
        "df['fbs'] = fbs_le.fit_transform(df['fbs'])\n",
        "df['restecg'] = restecg_le.fit_transform(df['restecg'])\n",
        "df['exang'] = exang_le.fit_transform(df['exang'])\n",
        "df['slope'] = slope_le.fit_transform(df['slope'])\n",
        "df['thal'] = thal_le.fit_transform(df['thal'])"
      ],
      "metadata": {
        "id": "G6uiS2AfuW_V"
      },
      "execution_count": 164,
      "outputs": []
    },
    {
      "cell_type": "code",
      "source": [
        "df.info()"
      ],
      "metadata": {
        "colab": {
          "base_uri": "https://localhost:8080/"
        },
        "id": "aux3qFAfu0fz",
        "outputId": "2e07ff2b-8b2b-4daf-a7f1-0d0bb98e18ca"
      },
      "execution_count": 165,
      "outputs": [
        {
          "output_type": "stream",
          "name": "stdout",
          "text": [
            "<class 'pandas.core.frame.DataFrame'>\n",
            "Int64Index: 1022 entries, 0 to 1024\n",
            "Data columns (total 14 columns):\n",
            " #   Column    Non-Null Count  Dtype  \n",
            "---  ------    --------------  -----  \n",
            " 0   age       1022 non-null   int64  \n",
            " 1   sex       1022 non-null   int64  \n",
            " 2   cp        1022 non-null   int64  \n",
            " 3   trestbps  1022 non-null   int64  \n",
            " 4   chol      1022 non-null   int64  \n",
            " 5   fbs       1022 non-null   int64  \n",
            " 6   restecg   1022 non-null   int64  \n",
            " 7   thalach   1022 non-null   int64  \n",
            " 8   exang     1022 non-null   int64  \n",
            " 9   oldpeak   1022 non-null   float64\n",
            " 10  slope     1022 non-null   int64  \n",
            " 11  ca        1022 non-null   int64  \n",
            " 12  thal      1022 non-null   int64  \n",
            " 13  target    1022 non-null   int64  \n",
            "dtypes: float64(1), int64(13)\n",
            "memory usage: 119.8 KB\n"
          ]
        }
      ]
    },
    {
      "cell_type": "markdown",
      "source": [
        "# Split Data"
      ],
      "metadata": {
        "id": "3N2CDWe8u7jC"
      }
    },
    {
      "cell_type": "code",
      "source": [
        "x = df.drop('target', axis=1)\n",
        "y = df.target"
      ],
      "metadata": {
        "id": "NAzujL8gu-8x"
      },
      "execution_count": 166,
      "outputs": []
    },
    {
      "cell_type": "code",
      "source": [
        "from sklearn.model_selection import train_test_split\n",
        "X_train,X_test,y_train,y_test = train_test_split(x,y,test_size=0.2,random_state=21)"
      ],
      "metadata": {
        "id": "NIuyiRv3vFi0"
      },
      "execution_count": 167,
      "outputs": []
    },
    {
      "cell_type": "code",
      "source": [
        "from sklearn.preprocessing import StandardScaler\n",
        "std_scaler = StandardScaler()\n",
        "std_scaler.fit(x)\n",
        "X_train_std=std_scaler.transform(X_train)\n",
        "X_test_std=std_scaler.transform(X_test)\n",
        "\n",
        "X_train = pd.DataFrame(X_train_std, columns=x.columns)\n",
        "X_test = pd.DataFrame(X_test_std, columns=x.columns)"
      ],
      "metadata": {
        "id": "4FDemP1WvG9N"
      },
      "execution_count": 168,
      "outputs": []
    },
    {
      "cell_type": "code",
      "source": [
        "display(X_train.head())\n",
        "display(X_test.head())"
      ],
      "metadata": {
        "colab": {
          "base_uri": "https://localhost:8080/",
          "height": 395
        },
        "id": "brfbTvP2vN27",
        "outputId": "f71f2411-d279-4891-ce4b-f38999734dff"
      },
      "execution_count": 169,
      "outputs": [
        {
          "output_type": "display_data",
          "data": {
            "text/plain": [
              "        age       sex        cp  trestbps      chol      fbs   restecg  \\\n",
              "0 -1.037737 -1.519027  0.058953 -0.094826 -0.227354 -0.41960 -1.007012   \n",
              "1  1.060428  0.658316 -0.912818 -0.209042  0.368431 -0.41960  0.888322   \n",
              "2  0.066560  0.658316 -0.912818  0.019390  2.217418 -0.41960  0.888322   \n",
              "3  0.839569  0.658316  0.058953 -0.209042 -0.761506  2.38322 -1.007012   \n",
              "4 -0.264729  0.658316 -0.912818 -0.380366 -0.679329 -0.41960  0.888322   \n",
              "\n",
              "    thalach     exang   oldpeak     slope        ca      thal  \n",
              "0  1.125851 -0.713864 -0.399677 -0.625394 -0.733622 -0.519069  \n",
              "1 -1.914898  1.400828 -0.739855 -0.625394  0.236316  1.093358  \n",
              "2 -0.742038  1.400828  0.110591 -0.625394  0.236316  1.093358  \n",
              "3 -0.394524 -0.713864 -0.909945  0.992714 -0.733622 -0.519069  \n",
              "4  0.821776 -0.713864 -0.059498  0.992714  1.206253  1.093358  "
            ],
            "text/html": [
              "\n",
              "  <div id=\"df-86cd4fb4-b790-444c-babd-541245156f45\">\n",
              "    <div class=\"colab-df-container\">\n",
              "      <div>\n",
              "<style scoped>\n",
              "    .dataframe tbody tr th:only-of-type {\n",
              "        vertical-align: middle;\n",
              "    }\n",
              "\n",
              "    .dataframe tbody tr th {\n",
              "        vertical-align: top;\n",
              "    }\n",
              "\n",
              "    .dataframe thead th {\n",
              "        text-align: right;\n",
              "    }\n",
              "</style>\n",
              "<table border=\"1\" class=\"dataframe\">\n",
              "  <thead>\n",
              "    <tr style=\"text-align: right;\">\n",
              "      <th></th>\n",
              "      <th>age</th>\n",
              "      <th>sex</th>\n",
              "      <th>cp</th>\n",
              "      <th>trestbps</th>\n",
              "      <th>chol</th>\n",
              "      <th>fbs</th>\n",
              "      <th>restecg</th>\n",
              "      <th>thalach</th>\n",
              "      <th>exang</th>\n",
              "      <th>oldpeak</th>\n",
              "      <th>slope</th>\n",
              "      <th>ca</th>\n",
              "      <th>thal</th>\n",
              "    </tr>\n",
              "  </thead>\n",
              "  <tbody>\n",
              "    <tr>\n",
              "      <th>0</th>\n",
              "      <td>-1.037737</td>\n",
              "      <td>-1.519027</td>\n",
              "      <td>0.058953</td>\n",
              "      <td>-0.094826</td>\n",
              "      <td>-0.227354</td>\n",
              "      <td>-0.41960</td>\n",
              "      <td>-1.007012</td>\n",
              "      <td>1.125851</td>\n",
              "      <td>-0.713864</td>\n",
              "      <td>-0.399677</td>\n",
              "      <td>-0.625394</td>\n",
              "      <td>-0.733622</td>\n",
              "      <td>-0.519069</td>\n",
              "    </tr>\n",
              "    <tr>\n",
              "      <th>1</th>\n",
              "      <td>1.060428</td>\n",
              "      <td>0.658316</td>\n",
              "      <td>-0.912818</td>\n",
              "      <td>-0.209042</td>\n",
              "      <td>0.368431</td>\n",
              "      <td>-0.41960</td>\n",
              "      <td>0.888322</td>\n",
              "      <td>-1.914898</td>\n",
              "      <td>1.400828</td>\n",
              "      <td>-0.739855</td>\n",
              "      <td>-0.625394</td>\n",
              "      <td>0.236316</td>\n",
              "      <td>1.093358</td>\n",
              "    </tr>\n",
              "    <tr>\n",
              "      <th>2</th>\n",
              "      <td>0.066560</td>\n",
              "      <td>0.658316</td>\n",
              "      <td>-0.912818</td>\n",
              "      <td>0.019390</td>\n",
              "      <td>2.217418</td>\n",
              "      <td>-0.41960</td>\n",
              "      <td>0.888322</td>\n",
              "      <td>-0.742038</td>\n",
              "      <td>1.400828</td>\n",
              "      <td>0.110591</td>\n",
              "      <td>-0.625394</td>\n",
              "      <td>0.236316</td>\n",
              "      <td>1.093358</td>\n",
              "    </tr>\n",
              "    <tr>\n",
              "      <th>3</th>\n",
              "      <td>0.839569</td>\n",
              "      <td>0.658316</td>\n",
              "      <td>0.058953</td>\n",
              "      <td>-0.209042</td>\n",
              "      <td>-0.761506</td>\n",
              "      <td>2.38322</td>\n",
              "      <td>-1.007012</td>\n",
              "      <td>-0.394524</td>\n",
              "      <td>-0.713864</td>\n",
              "      <td>-0.909945</td>\n",
              "      <td>0.992714</td>\n",
              "      <td>-0.733622</td>\n",
              "      <td>-0.519069</td>\n",
              "    </tr>\n",
              "    <tr>\n",
              "      <th>4</th>\n",
              "      <td>-0.264729</td>\n",
              "      <td>0.658316</td>\n",
              "      <td>-0.912818</td>\n",
              "      <td>-0.380366</td>\n",
              "      <td>-0.679329</td>\n",
              "      <td>-0.41960</td>\n",
              "      <td>0.888322</td>\n",
              "      <td>0.821776</td>\n",
              "      <td>-0.713864</td>\n",
              "      <td>-0.059498</td>\n",
              "      <td>0.992714</td>\n",
              "      <td>1.206253</td>\n",
              "      <td>1.093358</td>\n",
              "    </tr>\n",
              "  </tbody>\n",
              "</table>\n",
              "</div>\n",
              "      <button class=\"colab-df-convert\" onclick=\"convertToInteractive('df-86cd4fb4-b790-444c-babd-541245156f45')\"\n",
              "              title=\"Convert this dataframe to an interactive table.\"\n",
              "              style=\"display:none;\">\n",
              "        \n",
              "  <svg xmlns=\"http://www.w3.org/2000/svg\" height=\"24px\"viewBox=\"0 0 24 24\"\n",
              "       width=\"24px\">\n",
              "    <path d=\"M0 0h24v24H0V0z\" fill=\"none\"/>\n",
              "    <path d=\"M18.56 5.44l.94 2.06.94-2.06 2.06-.94-2.06-.94-.94-2.06-.94 2.06-2.06.94zm-11 1L8.5 8.5l.94-2.06 2.06-.94-2.06-.94L8.5 2.5l-.94 2.06-2.06.94zm10 10l.94 2.06.94-2.06 2.06-.94-2.06-.94-.94-2.06-.94 2.06-2.06.94z\"/><path d=\"M17.41 7.96l-1.37-1.37c-.4-.4-.92-.59-1.43-.59-.52 0-1.04.2-1.43.59L10.3 9.45l-7.72 7.72c-.78.78-.78 2.05 0 2.83L4 21.41c.39.39.9.59 1.41.59.51 0 1.02-.2 1.41-.59l7.78-7.78 2.81-2.81c.8-.78.8-2.07 0-2.86zM5.41 20L4 18.59l7.72-7.72 1.47 1.35L5.41 20z\"/>\n",
              "  </svg>\n",
              "      </button>\n",
              "      \n",
              "  <style>\n",
              "    .colab-df-container {\n",
              "      display:flex;\n",
              "      flex-wrap:wrap;\n",
              "      gap: 12px;\n",
              "    }\n",
              "\n",
              "    .colab-df-convert {\n",
              "      background-color: #E8F0FE;\n",
              "      border: none;\n",
              "      border-radius: 50%;\n",
              "      cursor: pointer;\n",
              "      display: none;\n",
              "      fill: #1967D2;\n",
              "      height: 32px;\n",
              "      padding: 0 0 0 0;\n",
              "      width: 32px;\n",
              "    }\n",
              "\n",
              "    .colab-df-convert:hover {\n",
              "      background-color: #E2EBFA;\n",
              "      box-shadow: 0px 1px 2px rgba(60, 64, 67, 0.3), 0px 1px 3px 1px rgba(60, 64, 67, 0.15);\n",
              "      fill: #174EA6;\n",
              "    }\n",
              "\n",
              "    [theme=dark] .colab-df-convert {\n",
              "      background-color: #3B4455;\n",
              "      fill: #D2E3FC;\n",
              "    }\n",
              "\n",
              "    [theme=dark] .colab-df-convert:hover {\n",
              "      background-color: #434B5C;\n",
              "      box-shadow: 0px 1px 3px 1px rgba(0, 0, 0, 0.15);\n",
              "      filter: drop-shadow(0px 1px 2px rgba(0, 0, 0, 0.3));\n",
              "      fill: #FFFFFF;\n",
              "    }\n",
              "  </style>\n",
              "\n",
              "      <script>\n",
              "        const buttonEl =\n",
              "          document.querySelector('#df-86cd4fb4-b790-444c-babd-541245156f45 button.colab-df-convert');\n",
              "        buttonEl.style.display =\n",
              "          google.colab.kernel.accessAllowed ? 'block' : 'none';\n",
              "\n",
              "        async function convertToInteractive(key) {\n",
              "          const element = document.querySelector('#df-86cd4fb4-b790-444c-babd-541245156f45');\n",
              "          const dataTable =\n",
              "            await google.colab.kernel.invokeFunction('convertToInteractive',\n",
              "                                                     [key], {});\n",
              "          if (!dataTable) return;\n",
              "\n",
              "          const docLinkHtml = 'Like what you see? Visit the ' +\n",
              "            '<a target=\"_blank\" href=https://colab.research.google.com/notebooks/data_table.ipynb>data table notebook</a>'\n",
              "            + ' to learn more about interactive tables.';\n",
              "          element.innerHTML = '';\n",
              "          dataTable['output_type'] = 'display_data';\n",
              "          await google.colab.output.renderOutput(dataTable, element);\n",
              "          const docLink = document.createElement('div');\n",
              "          docLink.innerHTML = docLinkHtml;\n",
              "          element.appendChild(docLink);\n",
              "        }\n",
              "      </script>\n",
              "    </div>\n",
              "  </div>\n",
              "  "
            ]
          },
          "metadata": {}
        },
        {
          "output_type": "display_data",
          "data": {
            "text/plain": [
              "        age       sex        cp  trestbps      chol     fbs   restecg  \\\n",
              "0  1.612577  0.658316  1.030724  0.476254  0.183532 -0.4196 -1.007012   \n",
              "1  0.618709  0.658316 -0.912818  0.476254  0.984760 -0.4196 -1.007012   \n",
              "2  0.397850  0.658316  0.058953 -0.380366 -0.514975 -0.4196  0.888322   \n",
              "3 -1.037737  0.658316 -0.912818 -0.951447  0.306798 -0.4196 -1.007012   \n",
              "4 -0.043869  0.658316 -0.912818 -1.236987 -0.124633 -0.4196  0.888322   \n",
              "\n",
              "    thalach     exang   oldpeak     slope        ca      thal  \n",
              "0 -0.133888 -0.713864  0.790949 -0.625394  2.176191  1.093358  \n",
              "1  0.908654 -0.713864  0.110591 -0.625394  1.206253  1.093358  \n",
              "2 -0.220767 -0.713864 -0.569766 -0.625394  3.146129  1.093358  \n",
              "3  1.560243 -0.713864 -0.909945  0.992714 -0.733622 -0.519069  \n",
              "4 -1.002673  1.400828  1.471306 -0.625394  0.236316  1.093358  "
            ],
            "text/html": [
              "\n",
              "  <div id=\"df-d8d430f8-f029-4a25-9044-541c391bae2d\">\n",
              "    <div class=\"colab-df-container\">\n",
              "      <div>\n",
              "<style scoped>\n",
              "    .dataframe tbody tr th:only-of-type {\n",
              "        vertical-align: middle;\n",
              "    }\n",
              "\n",
              "    .dataframe tbody tr th {\n",
              "        vertical-align: top;\n",
              "    }\n",
              "\n",
              "    .dataframe thead th {\n",
              "        text-align: right;\n",
              "    }\n",
              "</style>\n",
              "<table border=\"1\" class=\"dataframe\">\n",
              "  <thead>\n",
              "    <tr style=\"text-align: right;\">\n",
              "      <th></th>\n",
              "      <th>age</th>\n",
              "      <th>sex</th>\n",
              "      <th>cp</th>\n",
              "      <th>trestbps</th>\n",
              "      <th>chol</th>\n",
              "      <th>fbs</th>\n",
              "      <th>restecg</th>\n",
              "      <th>thalach</th>\n",
              "      <th>exang</th>\n",
              "      <th>oldpeak</th>\n",
              "      <th>slope</th>\n",
              "      <th>ca</th>\n",
              "      <th>thal</th>\n",
              "    </tr>\n",
              "  </thead>\n",
              "  <tbody>\n",
              "    <tr>\n",
              "      <th>0</th>\n",
              "      <td>1.612577</td>\n",
              "      <td>0.658316</td>\n",
              "      <td>1.030724</td>\n",
              "      <td>0.476254</td>\n",
              "      <td>0.183532</td>\n",
              "      <td>-0.4196</td>\n",
              "      <td>-1.007012</td>\n",
              "      <td>-0.133888</td>\n",
              "      <td>-0.713864</td>\n",
              "      <td>0.790949</td>\n",
              "      <td>-0.625394</td>\n",
              "      <td>2.176191</td>\n",
              "      <td>1.093358</td>\n",
              "    </tr>\n",
              "    <tr>\n",
              "      <th>1</th>\n",
              "      <td>0.618709</td>\n",
              "      <td>0.658316</td>\n",
              "      <td>-0.912818</td>\n",
              "      <td>0.476254</td>\n",
              "      <td>0.984760</td>\n",
              "      <td>-0.4196</td>\n",
              "      <td>-1.007012</td>\n",
              "      <td>0.908654</td>\n",
              "      <td>-0.713864</td>\n",
              "      <td>0.110591</td>\n",
              "      <td>-0.625394</td>\n",
              "      <td>1.206253</td>\n",
              "      <td>1.093358</td>\n",
              "    </tr>\n",
              "    <tr>\n",
              "      <th>2</th>\n",
              "      <td>0.397850</td>\n",
              "      <td>0.658316</td>\n",
              "      <td>0.058953</td>\n",
              "      <td>-0.380366</td>\n",
              "      <td>-0.514975</td>\n",
              "      <td>-0.4196</td>\n",
              "      <td>0.888322</td>\n",
              "      <td>-0.220767</td>\n",
              "      <td>-0.713864</td>\n",
              "      <td>-0.569766</td>\n",
              "      <td>-0.625394</td>\n",
              "      <td>3.146129</td>\n",
              "      <td>1.093358</td>\n",
              "    </tr>\n",
              "    <tr>\n",
              "      <th>3</th>\n",
              "      <td>-1.037737</td>\n",
              "      <td>0.658316</td>\n",
              "      <td>-0.912818</td>\n",
              "      <td>-0.951447</td>\n",
              "      <td>0.306798</td>\n",
              "      <td>-0.4196</td>\n",
              "      <td>-1.007012</td>\n",
              "      <td>1.560243</td>\n",
              "      <td>-0.713864</td>\n",
              "      <td>-0.909945</td>\n",
              "      <td>0.992714</td>\n",
              "      <td>-0.733622</td>\n",
              "      <td>-0.519069</td>\n",
              "    </tr>\n",
              "    <tr>\n",
              "      <th>4</th>\n",
              "      <td>-0.043869</td>\n",
              "      <td>0.658316</td>\n",
              "      <td>-0.912818</td>\n",
              "      <td>-1.236987</td>\n",
              "      <td>-0.124633</td>\n",
              "      <td>-0.4196</td>\n",
              "      <td>0.888322</td>\n",
              "      <td>-1.002673</td>\n",
              "      <td>1.400828</td>\n",
              "      <td>1.471306</td>\n",
              "      <td>-0.625394</td>\n",
              "      <td>0.236316</td>\n",
              "      <td>1.093358</td>\n",
              "    </tr>\n",
              "  </tbody>\n",
              "</table>\n",
              "</div>\n",
              "      <button class=\"colab-df-convert\" onclick=\"convertToInteractive('df-d8d430f8-f029-4a25-9044-541c391bae2d')\"\n",
              "              title=\"Convert this dataframe to an interactive table.\"\n",
              "              style=\"display:none;\">\n",
              "        \n",
              "  <svg xmlns=\"http://www.w3.org/2000/svg\" height=\"24px\"viewBox=\"0 0 24 24\"\n",
              "       width=\"24px\">\n",
              "    <path d=\"M0 0h24v24H0V0z\" fill=\"none\"/>\n",
              "    <path d=\"M18.56 5.44l.94 2.06.94-2.06 2.06-.94-2.06-.94-.94-2.06-.94 2.06-2.06.94zm-11 1L8.5 8.5l.94-2.06 2.06-.94-2.06-.94L8.5 2.5l-.94 2.06-2.06.94zm10 10l.94 2.06.94-2.06 2.06-.94-2.06-.94-.94-2.06-.94 2.06-2.06.94z\"/><path d=\"M17.41 7.96l-1.37-1.37c-.4-.4-.92-.59-1.43-.59-.52 0-1.04.2-1.43.59L10.3 9.45l-7.72 7.72c-.78.78-.78 2.05 0 2.83L4 21.41c.39.39.9.59 1.41.59.51 0 1.02-.2 1.41-.59l7.78-7.78 2.81-2.81c.8-.78.8-2.07 0-2.86zM5.41 20L4 18.59l7.72-7.72 1.47 1.35L5.41 20z\"/>\n",
              "  </svg>\n",
              "      </button>\n",
              "      \n",
              "  <style>\n",
              "    .colab-df-container {\n",
              "      display:flex;\n",
              "      flex-wrap:wrap;\n",
              "      gap: 12px;\n",
              "    }\n",
              "\n",
              "    .colab-df-convert {\n",
              "      background-color: #E8F0FE;\n",
              "      border: none;\n",
              "      border-radius: 50%;\n",
              "      cursor: pointer;\n",
              "      display: none;\n",
              "      fill: #1967D2;\n",
              "      height: 32px;\n",
              "      padding: 0 0 0 0;\n",
              "      width: 32px;\n",
              "    }\n",
              "\n",
              "    .colab-df-convert:hover {\n",
              "      background-color: #E2EBFA;\n",
              "      box-shadow: 0px 1px 2px rgba(60, 64, 67, 0.3), 0px 1px 3px 1px rgba(60, 64, 67, 0.15);\n",
              "      fill: #174EA6;\n",
              "    }\n",
              "\n",
              "    [theme=dark] .colab-df-convert {\n",
              "      background-color: #3B4455;\n",
              "      fill: #D2E3FC;\n",
              "    }\n",
              "\n",
              "    [theme=dark] .colab-df-convert:hover {\n",
              "      background-color: #434B5C;\n",
              "      box-shadow: 0px 1px 3px 1px rgba(0, 0, 0, 0.15);\n",
              "      filter: drop-shadow(0px 1px 2px rgba(0, 0, 0, 0.3));\n",
              "      fill: #FFFFFF;\n",
              "    }\n",
              "  </style>\n",
              "\n",
              "      <script>\n",
              "        const buttonEl =\n",
              "          document.querySelector('#df-d8d430f8-f029-4a25-9044-541c391bae2d button.colab-df-convert');\n",
              "        buttonEl.style.display =\n",
              "          google.colab.kernel.accessAllowed ? 'block' : 'none';\n",
              "\n",
              "        async function convertToInteractive(key) {\n",
              "          const element = document.querySelector('#df-d8d430f8-f029-4a25-9044-541c391bae2d');\n",
              "          const dataTable =\n",
              "            await google.colab.kernel.invokeFunction('convertToInteractive',\n",
              "                                                     [key], {});\n",
              "          if (!dataTable) return;\n",
              "\n",
              "          const docLinkHtml = 'Like what you see? Visit the ' +\n",
              "            '<a target=\"_blank\" href=https://colab.research.google.com/notebooks/data_table.ipynb>data table notebook</a>'\n",
              "            + ' to learn more about interactive tables.';\n",
              "          element.innerHTML = '';\n",
              "          dataTable['output_type'] = 'display_data';\n",
              "          await google.colab.output.renderOutput(dataTable, element);\n",
              "          const docLink = document.createElement('div');\n",
              "          docLink.innerHTML = docLinkHtml;\n",
              "          element.appendChild(docLink);\n",
              "        }\n",
              "      </script>\n",
              "    </div>\n",
              "  </div>\n",
              "  "
            ]
          },
          "metadata": {}
        }
      ]
    },
    {
      "cell_type": "markdown",
      "source": [
        "# Modeling"
      ],
      "metadata": {
        "id": "qLf3gz0jt7Wv"
      }
    },
    {
      "cell_type": "markdown",
      "source": [
        "## Logistic Regression"
      ],
      "metadata": {
        "id": "xAtT-qeyvUXZ"
      }
    },
    {
      "cell_type": "code",
      "source": [
        "lr = LogisticRegression(C = 80)\n",
        "lr.fit(X_train , y_train)"
      ],
      "metadata": {
        "colab": {
          "base_uri": "https://localhost:8080/",
          "height": 74
        },
        "id": "R-iS_NNxvXsX",
        "outputId": "d38cbdf3-d34d-4b66-eb1e-929e31d107b4"
      },
      "execution_count": 170,
      "outputs": [
        {
          "output_type": "execute_result",
          "data": {
            "text/plain": [
              "LogisticRegression(C=80)"
            ],
            "text/html": [
              "<style>#sk-container-id-3 {color: black;background-color: white;}#sk-container-id-3 pre{padding: 0;}#sk-container-id-3 div.sk-toggleable {background-color: white;}#sk-container-id-3 label.sk-toggleable__label {cursor: pointer;display: block;width: 100%;margin-bottom: 0;padding: 0.3em;box-sizing: border-box;text-align: center;}#sk-container-id-3 label.sk-toggleable__label-arrow:before {content: \"▸\";float: left;margin-right: 0.25em;color: #696969;}#sk-container-id-3 label.sk-toggleable__label-arrow:hover:before {color: black;}#sk-container-id-3 div.sk-estimator:hover label.sk-toggleable__label-arrow:before {color: black;}#sk-container-id-3 div.sk-toggleable__content {max-height: 0;max-width: 0;overflow: hidden;text-align: left;background-color: #f0f8ff;}#sk-container-id-3 div.sk-toggleable__content pre {margin: 0.2em;color: black;border-radius: 0.25em;background-color: #f0f8ff;}#sk-container-id-3 input.sk-toggleable__control:checked~div.sk-toggleable__content {max-height: 200px;max-width: 100%;overflow: auto;}#sk-container-id-3 input.sk-toggleable__control:checked~label.sk-toggleable__label-arrow:before {content: \"▾\";}#sk-container-id-3 div.sk-estimator input.sk-toggleable__control:checked~label.sk-toggleable__label {background-color: #d4ebff;}#sk-container-id-3 div.sk-label input.sk-toggleable__control:checked~label.sk-toggleable__label {background-color: #d4ebff;}#sk-container-id-3 input.sk-hidden--visually {border: 0;clip: rect(1px 1px 1px 1px);clip: rect(1px, 1px, 1px, 1px);height: 1px;margin: -1px;overflow: hidden;padding: 0;position: absolute;width: 1px;}#sk-container-id-3 div.sk-estimator {font-family: monospace;background-color: #f0f8ff;border: 1px dotted black;border-radius: 0.25em;box-sizing: border-box;margin-bottom: 0.5em;}#sk-container-id-3 div.sk-estimator:hover {background-color: #d4ebff;}#sk-container-id-3 div.sk-parallel-item::after {content: \"\";width: 100%;border-bottom: 1px solid gray;flex-grow: 1;}#sk-container-id-3 div.sk-label:hover label.sk-toggleable__label {background-color: #d4ebff;}#sk-container-id-3 div.sk-serial::before {content: \"\";position: absolute;border-left: 1px solid gray;box-sizing: border-box;top: 0;bottom: 0;left: 50%;z-index: 0;}#sk-container-id-3 div.sk-serial {display: flex;flex-direction: column;align-items: center;background-color: white;padding-right: 0.2em;padding-left: 0.2em;position: relative;}#sk-container-id-3 div.sk-item {position: relative;z-index: 1;}#sk-container-id-3 div.sk-parallel {display: flex;align-items: stretch;justify-content: center;background-color: white;position: relative;}#sk-container-id-3 div.sk-item::before, #sk-container-id-3 div.sk-parallel-item::before {content: \"\";position: absolute;border-left: 1px solid gray;box-sizing: border-box;top: 0;bottom: 0;left: 50%;z-index: -1;}#sk-container-id-3 div.sk-parallel-item {display: flex;flex-direction: column;z-index: 1;position: relative;background-color: white;}#sk-container-id-3 div.sk-parallel-item:first-child::after {align-self: flex-end;width: 50%;}#sk-container-id-3 div.sk-parallel-item:last-child::after {align-self: flex-start;width: 50%;}#sk-container-id-3 div.sk-parallel-item:only-child::after {width: 0;}#sk-container-id-3 div.sk-dashed-wrapped {border: 1px dashed gray;margin: 0 0.4em 0.5em 0.4em;box-sizing: border-box;padding-bottom: 0.4em;background-color: white;}#sk-container-id-3 div.sk-label label {font-family: monospace;font-weight: bold;display: inline-block;line-height: 1.2em;}#sk-container-id-3 div.sk-label-container {text-align: center;}#sk-container-id-3 div.sk-container {/* jupyter's `normalize.less` sets `[hidden] { display: none; }` but bootstrap.min.css set `[hidden] { display: none !important; }` so we also need the `!important` here to be able to override the default hidden behavior on the sphinx rendered scikit-learn.org. See: https://github.com/scikit-learn/scikit-learn/issues/21755 */display: inline-block !important;position: relative;}#sk-container-id-3 div.sk-text-repr-fallback {display: none;}</style><div id=\"sk-container-id-3\" class=\"sk-top-container\"><div class=\"sk-text-repr-fallback\"><pre>LogisticRegression(C=80)</pre><b>In a Jupyter environment, please rerun this cell to show the HTML representation or trust the notebook. <br />On GitHub, the HTML representation is unable to render, please try loading this page with nbviewer.org.</b></div><div class=\"sk-container\" hidden><div class=\"sk-item\"><div class=\"sk-estimator sk-toggleable\"><input class=\"sk-toggleable__control sk-hidden--visually\" id=\"sk-estimator-id-3\" type=\"checkbox\" checked><label for=\"sk-estimator-id-3\" class=\"sk-toggleable__label sk-toggleable__label-arrow\">LogisticRegression</label><div class=\"sk-toggleable__content\"><pre>LogisticRegression(C=80)</pre></div></div></div></div></div>"
            ]
          },
          "metadata": {},
          "execution_count": 170
        }
      ]
    },
    {
      "cell_type": "code",
      "source": [
        "print('Logisitic train accuracy:', lr.score(X_train , y_train))"
      ],
      "metadata": {
        "colab": {
          "base_uri": "https://localhost:8080/"
        },
        "id": "bzG37l8NvkyI",
        "outputId": "9ea1e384-86e8-4676-fa96-61c8c77f64d1"
      },
      "execution_count": 184,
      "outputs": [
        {
          "output_type": "stream",
          "name": "stdout",
          "text": [
            "Logisitic train accuracy: 0.8543451652386781\n"
          ]
        }
      ]
    },
    {
      "cell_type": "code",
      "source": [
        "print('Logistic test accuracy:', lr.score(X_test , y_test))"
      ],
      "metadata": {
        "colab": {
          "base_uri": "https://localhost:8080/"
        },
        "id": "4cqmYyb7vmAp",
        "outputId": "6f3e7c27-d8b7-4e1e-cf91-3f4e57a8374d"
      },
      "execution_count": 185,
      "outputs": [
        {
          "output_type": "stream",
          "name": "stdout",
          "text": [
            "Logistic test accuracy: 0.8292682926829268\n"
          ]
        }
      ]
    },
    {
      "cell_type": "code",
      "source": [
        "lr.predict(X_test)"
      ],
      "metadata": {
        "colab": {
          "base_uri": "https://localhost:8080/"
        },
        "id": "ByV8ByYrvqu8",
        "outputId": "dc2420b2-9a44-45c9-e3f9-0df9eeb473ca"
      },
      "execution_count": 173,
      "outputs": [
        {
          "output_type": "execute_result",
          "data": {
            "text/plain": [
              "array([0, 0, 0, 1, 0, 1, 0, 0, 1, 1, 1, 0, 0, 0, 0, 0, 1, 0, 0, 1, 1, 0,\n",
              "       0, 0, 0, 0, 0, 0, 0, 0, 0, 0, 1, 0, 0, 1, 1, 0, 0, 0, 0, 0, 1, 1,\n",
              "       0, 0, 1, 1, 1, 0, 1, 0, 1, 0, 0, 1, 0, 1, 0, 0, 1, 0, 1, 1, 1, 0,\n",
              "       1, 1, 1, 1, 1, 0, 1, 0, 0, 0, 1, 0, 1, 1, 1, 0, 1, 1, 1, 1, 0, 1,\n",
              "       1, 0, 1, 0, 1, 0, 0, 0, 0, 1, 1, 0, 1, 1, 1, 0, 0, 1, 1, 0, 1, 0,\n",
              "       0, 0, 1, 0, 1, 0, 1, 1, 0, 1, 1, 1, 0, 0, 0, 0, 1, 0, 1, 1, 1, 1,\n",
              "       0, 0, 1, 0, 0, 1, 1, 1, 1, 1, 0, 0, 0, 1, 0, 1, 1, 0, 1, 1, 1, 1,\n",
              "       0, 1, 1, 1, 1, 1, 0, 1, 0, 0, 0, 0, 1, 1, 0, 1, 0, 0, 0, 1, 1, 0,\n",
              "       0, 0, 1, 0, 1, 0, 0, 0, 0, 1, 1, 0, 1, 0, 0, 0, 0, 0, 0, 1, 1, 1,\n",
              "       0, 0, 1, 0, 1, 1, 0])"
            ]
          },
          "metadata": {},
          "execution_count": 173
        }
      ]
    },
    {
      "cell_type": "code",
      "source": [
        "Y_pred = lr.predict(X_test)\n",
        "data = pd.DataFrame({\"Y_test\" : y_test , \"Y_pred\": Y_pred})\n",
        "data.head(10)"
      ],
      "metadata": {
        "colab": {
          "base_uri": "https://localhost:8080/",
          "height": 363
        },
        "id": "C3CPHNFqv8by",
        "outputId": "1226a880-4499-42af-c44b-fdd939806251"
      },
      "execution_count": 176,
      "outputs": [
        {
          "output_type": "execute_result",
          "data": {
            "text/plain": [
              "     Y_test  Y_pred\n",
              "550       0       0\n",
              "441       0       0\n",
              "521       1       0\n",
              "721       1       1\n",
              "791       0       0\n",
              "869       1       1\n",
              "373       0       0\n",
              "790       0       0\n",
              "565       1       1\n",
              "657       1       1"
            ],
            "text/html": [
              "\n",
              "  <div id=\"df-5d4bf1cd-e2de-4aa0-adbc-a86d818d98f5\">\n",
              "    <div class=\"colab-df-container\">\n",
              "      <div>\n",
              "<style scoped>\n",
              "    .dataframe tbody tr th:only-of-type {\n",
              "        vertical-align: middle;\n",
              "    }\n",
              "\n",
              "    .dataframe tbody tr th {\n",
              "        vertical-align: top;\n",
              "    }\n",
              "\n",
              "    .dataframe thead th {\n",
              "        text-align: right;\n",
              "    }\n",
              "</style>\n",
              "<table border=\"1\" class=\"dataframe\">\n",
              "  <thead>\n",
              "    <tr style=\"text-align: right;\">\n",
              "      <th></th>\n",
              "      <th>Y_test</th>\n",
              "      <th>Y_pred</th>\n",
              "    </tr>\n",
              "  </thead>\n",
              "  <tbody>\n",
              "    <tr>\n",
              "      <th>550</th>\n",
              "      <td>0</td>\n",
              "      <td>0</td>\n",
              "    </tr>\n",
              "    <tr>\n",
              "      <th>441</th>\n",
              "      <td>0</td>\n",
              "      <td>0</td>\n",
              "    </tr>\n",
              "    <tr>\n",
              "      <th>521</th>\n",
              "      <td>1</td>\n",
              "      <td>0</td>\n",
              "    </tr>\n",
              "    <tr>\n",
              "      <th>721</th>\n",
              "      <td>1</td>\n",
              "      <td>1</td>\n",
              "    </tr>\n",
              "    <tr>\n",
              "      <th>791</th>\n",
              "      <td>0</td>\n",
              "      <td>0</td>\n",
              "    </tr>\n",
              "    <tr>\n",
              "      <th>869</th>\n",
              "      <td>1</td>\n",
              "      <td>1</td>\n",
              "    </tr>\n",
              "    <tr>\n",
              "      <th>373</th>\n",
              "      <td>0</td>\n",
              "      <td>0</td>\n",
              "    </tr>\n",
              "    <tr>\n",
              "      <th>790</th>\n",
              "      <td>0</td>\n",
              "      <td>0</td>\n",
              "    </tr>\n",
              "    <tr>\n",
              "      <th>565</th>\n",
              "      <td>1</td>\n",
              "      <td>1</td>\n",
              "    </tr>\n",
              "    <tr>\n",
              "      <th>657</th>\n",
              "      <td>1</td>\n",
              "      <td>1</td>\n",
              "    </tr>\n",
              "  </tbody>\n",
              "</table>\n",
              "</div>\n",
              "      <button class=\"colab-df-convert\" onclick=\"convertToInteractive('df-5d4bf1cd-e2de-4aa0-adbc-a86d818d98f5')\"\n",
              "              title=\"Convert this dataframe to an interactive table.\"\n",
              "              style=\"display:none;\">\n",
              "        \n",
              "  <svg xmlns=\"http://www.w3.org/2000/svg\" height=\"24px\"viewBox=\"0 0 24 24\"\n",
              "       width=\"24px\">\n",
              "    <path d=\"M0 0h24v24H0V0z\" fill=\"none\"/>\n",
              "    <path d=\"M18.56 5.44l.94 2.06.94-2.06 2.06-.94-2.06-.94-.94-2.06-.94 2.06-2.06.94zm-11 1L8.5 8.5l.94-2.06 2.06-.94-2.06-.94L8.5 2.5l-.94 2.06-2.06.94zm10 10l.94 2.06.94-2.06 2.06-.94-2.06-.94-.94-2.06-.94 2.06-2.06.94z\"/><path d=\"M17.41 7.96l-1.37-1.37c-.4-.4-.92-.59-1.43-.59-.52 0-1.04.2-1.43.59L10.3 9.45l-7.72 7.72c-.78.78-.78 2.05 0 2.83L4 21.41c.39.39.9.59 1.41.59.51 0 1.02-.2 1.41-.59l7.78-7.78 2.81-2.81c.8-.78.8-2.07 0-2.86zM5.41 20L4 18.59l7.72-7.72 1.47 1.35L5.41 20z\"/>\n",
              "  </svg>\n",
              "      </button>\n",
              "      \n",
              "  <style>\n",
              "    .colab-df-container {\n",
              "      display:flex;\n",
              "      flex-wrap:wrap;\n",
              "      gap: 12px;\n",
              "    }\n",
              "\n",
              "    .colab-df-convert {\n",
              "      background-color: #E8F0FE;\n",
              "      border: none;\n",
              "      border-radius: 50%;\n",
              "      cursor: pointer;\n",
              "      display: none;\n",
              "      fill: #1967D2;\n",
              "      height: 32px;\n",
              "      padding: 0 0 0 0;\n",
              "      width: 32px;\n",
              "    }\n",
              "\n",
              "    .colab-df-convert:hover {\n",
              "      background-color: #E2EBFA;\n",
              "      box-shadow: 0px 1px 2px rgba(60, 64, 67, 0.3), 0px 1px 3px 1px rgba(60, 64, 67, 0.15);\n",
              "      fill: #174EA6;\n",
              "    }\n",
              "\n",
              "    [theme=dark] .colab-df-convert {\n",
              "      background-color: #3B4455;\n",
              "      fill: #D2E3FC;\n",
              "    }\n",
              "\n",
              "    [theme=dark] .colab-df-convert:hover {\n",
              "      background-color: #434B5C;\n",
              "      box-shadow: 0px 1px 3px 1px rgba(0, 0, 0, 0.15);\n",
              "      filter: drop-shadow(0px 1px 2px rgba(0, 0, 0, 0.3));\n",
              "      fill: #FFFFFF;\n",
              "    }\n",
              "  </style>\n",
              "\n",
              "      <script>\n",
              "        const buttonEl =\n",
              "          document.querySelector('#df-5d4bf1cd-e2de-4aa0-adbc-a86d818d98f5 button.colab-df-convert');\n",
              "        buttonEl.style.display =\n",
              "          google.colab.kernel.accessAllowed ? 'block' : 'none';\n",
              "\n",
              "        async function convertToInteractive(key) {\n",
              "          const element = document.querySelector('#df-5d4bf1cd-e2de-4aa0-adbc-a86d818d98f5');\n",
              "          const dataTable =\n",
              "            await google.colab.kernel.invokeFunction('convertToInteractive',\n",
              "                                                     [key], {});\n",
              "          if (!dataTable) return;\n",
              "\n",
              "          const docLinkHtml = 'Like what you see? Visit the ' +\n",
              "            '<a target=\"_blank\" href=https://colab.research.google.com/notebooks/data_table.ipynb>data table notebook</a>'\n",
              "            + ' to learn more about interactive tables.';\n",
              "          element.innerHTML = '';\n",
              "          dataTable['output_type'] = 'display_data';\n",
              "          await google.colab.output.renderOutput(dataTable, element);\n",
              "          const docLink = document.createElement('div');\n",
              "          docLink.innerHTML = docLinkHtml;\n",
              "          element.appendChild(docLink);\n",
              "        }\n",
              "      </script>\n",
              "    </div>\n",
              "  </div>\n",
              "  "
            ]
          },
          "metadata": {},
          "execution_count": 176
        }
      ]
    },
    {
      "cell_type": "markdown",
      "source": [
        "## KNN"
      ],
      "metadata": {
        "id": "i_dSPw9QvsMP"
      }
    },
    {
      "cell_type": "code",
      "source": [
        "knn = KNeighborsClassifier(n_neighbors=10)"
      ],
      "metadata": {
        "id": "w89DU8F1wrL-"
      },
      "execution_count": 177,
      "outputs": []
    },
    {
      "cell_type": "code",
      "source": [
        "knn.fit(X_train , y_train)"
      ],
      "metadata": {
        "colab": {
          "base_uri": "https://localhost:8080/",
          "height": 74
        },
        "id": "kdXkqez7wybp",
        "outputId": "936a21b4-7d43-4a30-ae14-be77df09d541"
      },
      "execution_count": 178,
      "outputs": [
        {
          "output_type": "execute_result",
          "data": {
            "text/plain": [
              "KNeighborsClassifier(n_neighbors=10)"
            ],
            "text/html": [
              "<style>#sk-container-id-4 {color: black;background-color: white;}#sk-container-id-4 pre{padding: 0;}#sk-container-id-4 div.sk-toggleable {background-color: white;}#sk-container-id-4 label.sk-toggleable__label {cursor: pointer;display: block;width: 100%;margin-bottom: 0;padding: 0.3em;box-sizing: border-box;text-align: center;}#sk-container-id-4 label.sk-toggleable__label-arrow:before {content: \"▸\";float: left;margin-right: 0.25em;color: #696969;}#sk-container-id-4 label.sk-toggleable__label-arrow:hover:before {color: black;}#sk-container-id-4 div.sk-estimator:hover label.sk-toggleable__label-arrow:before {color: black;}#sk-container-id-4 div.sk-toggleable__content {max-height: 0;max-width: 0;overflow: hidden;text-align: left;background-color: #f0f8ff;}#sk-container-id-4 div.sk-toggleable__content pre {margin: 0.2em;color: black;border-radius: 0.25em;background-color: #f0f8ff;}#sk-container-id-4 input.sk-toggleable__control:checked~div.sk-toggleable__content {max-height: 200px;max-width: 100%;overflow: auto;}#sk-container-id-4 input.sk-toggleable__control:checked~label.sk-toggleable__label-arrow:before {content: \"▾\";}#sk-container-id-4 div.sk-estimator input.sk-toggleable__control:checked~label.sk-toggleable__label {background-color: #d4ebff;}#sk-container-id-4 div.sk-label input.sk-toggleable__control:checked~label.sk-toggleable__label {background-color: #d4ebff;}#sk-container-id-4 input.sk-hidden--visually {border: 0;clip: rect(1px 1px 1px 1px);clip: rect(1px, 1px, 1px, 1px);height: 1px;margin: -1px;overflow: hidden;padding: 0;position: absolute;width: 1px;}#sk-container-id-4 div.sk-estimator {font-family: monospace;background-color: #f0f8ff;border: 1px dotted black;border-radius: 0.25em;box-sizing: border-box;margin-bottom: 0.5em;}#sk-container-id-4 div.sk-estimator:hover {background-color: #d4ebff;}#sk-container-id-4 div.sk-parallel-item::after {content: \"\";width: 100%;border-bottom: 1px solid gray;flex-grow: 1;}#sk-container-id-4 div.sk-label:hover label.sk-toggleable__label {background-color: #d4ebff;}#sk-container-id-4 div.sk-serial::before {content: \"\";position: absolute;border-left: 1px solid gray;box-sizing: border-box;top: 0;bottom: 0;left: 50%;z-index: 0;}#sk-container-id-4 div.sk-serial {display: flex;flex-direction: column;align-items: center;background-color: white;padding-right: 0.2em;padding-left: 0.2em;position: relative;}#sk-container-id-4 div.sk-item {position: relative;z-index: 1;}#sk-container-id-4 div.sk-parallel {display: flex;align-items: stretch;justify-content: center;background-color: white;position: relative;}#sk-container-id-4 div.sk-item::before, #sk-container-id-4 div.sk-parallel-item::before {content: \"\";position: absolute;border-left: 1px solid gray;box-sizing: border-box;top: 0;bottom: 0;left: 50%;z-index: -1;}#sk-container-id-4 div.sk-parallel-item {display: flex;flex-direction: column;z-index: 1;position: relative;background-color: white;}#sk-container-id-4 div.sk-parallel-item:first-child::after {align-self: flex-end;width: 50%;}#sk-container-id-4 div.sk-parallel-item:last-child::after {align-self: flex-start;width: 50%;}#sk-container-id-4 div.sk-parallel-item:only-child::after {width: 0;}#sk-container-id-4 div.sk-dashed-wrapped {border: 1px dashed gray;margin: 0 0.4em 0.5em 0.4em;box-sizing: border-box;padding-bottom: 0.4em;background-color: white;}#sk-container-id-4 div.sk-label label {font-family: monospace;font-weight: bold;display: inline-block;line-height: 1.2em;}#sk-container-id-4 div.sk-label-container {text-align: center;}#sk-container-id-4 div.sk-container {/* jupyter's `normalize.less` sets `[hidden] { display: none; }` but bootstrap.min.css set `[hidden] { display: none !important; }` so we also need the `!important` here to be able to override the default hidden behavior on the sphinx rendered scikit-learn.org. See: https://github.com/scikit-learn/scikit-learn/issues/21755 */display: inline-block !important;position: relative;}#sk-container-id-4 div.sk-text-repr-fallback {display: none;}</style><div id=\"sk-container-id-4\" class=\"sk-top-container\"><div class=\"sk-text-repr-fallback\"><pre>KNeighborsClassifier(n_neighbors=10)</pre><b>In a Jupyter environment, please rerun this cell to show the HTML representation or trust the notebook. <br />On GitHub, the HTML representation is unable to render, please try loading this page with nbviewer.org.</b></div><div class=\"sk-container\" hidden><div class=\"sk-item\"><div class=\"sk-estimator sk-toggleable\"><input class=\"sk-toggleable__control sk-hidden--visually\" id=\"sk-estimator-id-4\" type=\"checkbox\" checked><label for=\"sk-estimator-id-4\" class=\"sk-toggleable__label sk-toggleable__label-arrow\">KNeighborsClassifier</label><div class=\"sk-toggleable__content\"><pre>KNeighborsClassifier(n_neighbors=10)</pre></div></div></div></div></div>"
            ]
          },
          "metadata": {},
          "execution_count": 178
        }
      ]
    },
    {
      "cell_type": "code",
      "source": [
        "print('KNN train accuracy:', knn.score(X_train , y_train))"
      ],
      "metadata": {
        "colab": {
          "base_uri": "https://localhost:8080/"
        },
        "id": "VhxukSdKw1KM",
        "outputId": "78b14206-7141-4fd4-e29f-a6161f84028a"
      },
      "execution_count": 181,
      "outputs": [
        {
          "output_type": "stream",
          "name": "stdout",
          "text": [
            "KNN train accuracy: 0.8886168910648715\n"
          ]
        }
      ]
    },
    {
      "cell_type": "code",
      "source": [
        "print('KNN test accuracy:', knn.score(X_test , y_test))"
      ],
      "metadata": {
        "colab": {
          "base_uri": "https://localhost:8080/"
        },
        "id": "sozg9fnRw4Cj",
        "outputId": "24d809f6-9ade-42d9-c594-22104b9cc37f"
      },
      "execution_count": 182,
      "outputs": [
        {
          "output_type": "stream",
          "name": "stdout",
          "text": [
            "KNN test accuracy: 0.8439024390243902\n"
          ]
        }
      ]
    },
    {
      "cell_type": "markdown",
      "source": [
        "## Decision Tree"
      ],
      "metadata": {
        "id": "hKqvrOg9yfok"
      }
    },
    {
      "cell_type": "code",
      "source": [
        "dt = DecisionTreeClassifier(max_features=9, max_depth=4)"
      ],
      "metadata": {
        "id": "lulGbX_Cyugi"
      },
      "execution_count": 190,
      "outputs": []
    },
    {
      "cell_type": "code",
      "source": [
        "dt.fit(X_train , y_train)"
      ],
      "metadata": {
        "colab": {
          "base_uri": "https://localhost:8080/",
          "height": 74
        },
        "id": "WP7o2n-kyxjb",
        "outputId": "79aa0a19-5f23-4e36-a538-6365676159a3"
      },
      "execution_count": 191,
      "outputs": [
        {
          "output_type": "execute_result",
          "data": {
            "text/plain": [
              "DecisionTreeClassifier(max_depth=4, max_features=9)"
            ],
            "text/html": [
              "<style>#sk-container-id-6 {color: black;background-color: white;}#sk-container-id-6 pre{padding: 0;}#sk-container-id-6 div.sk-toggleable {background-color: white;}#sk-container-id-6 label.sk-toggleable__label {cursor: pointer;display: block;width: 100%;margin-bottom: 0;padding: 0.3em;box-sizing: border-box;text-align: center;}#sk-container-id-6 label.sk-toggleable__label-arrow:before {content: \"▸\";float: left;margin-right: 0.25em;color: #696969;}#sk-container-id-6 label.sk-toggleable__label-arrow:hover:before {color: black;}#sk-container-id-6 div.sk-estimator:hover label.sk-toggleable__label-arrow:before {color: black;}#sk-container-id-6 div.sk-toggleable__content {max-height: 0;max-width: 0;overflow: hidden;text-align: left;background-color: #f0f8ff;}#sk-container-id-6 div.sk-toggleable__content pre {margin: 0.2em;color: black;border-radius: 0.25em;background-color: #f0f8ff;}#sk-container-id-6 input.sk-toggleable__control:checked~div.sk-toggleable__content {max-height: 200px;max-width: 100%;overflow: auto;}#sk-container-id-6 input.sk-toggleable__control:checked~label.sk-toggleable__label-arrow:before {content: \"▾\";}#sk-container-id-6 div.sk-estimator input.sk-toggleable__control:checked~label.sk-toggleable__label {background-color: #d4ebff;}#sk-container-id-6 div.sk-label input.sk-toggleable__control:checked~label.sk-toggleable__label {background-color: #d4ebff;}#sk-container-id-6 input.sk-hidden--visually {border: 0;clip: rect(1px 1px 1px 1px);clip: rect(1px, 1px, 1px, 1px);height: 1px;margin: -1px;overflow: hidden;padding: 0;position: absolute;width: 1px;}#sk-container-id-6 div.sk-estimator {font-family: monospace;background-color: #f0f8ff;border: 1px dotted black;border-radius: 0.25em;box-sizing: border-box;margin-bottom: 0.5em;}#sk-container-id-6 div.sk-estimator:hover {background-color: #d4ebff;}#sk-container-id-6 div.sk-parallel-item::after {content: \"\";width: 100%;border-bottom: 1px solid gray;flex-grow: 1;}#sk-container-id-6 div.sk-label:hover label.sk-toggleable__label {background-color: #d4ebff;}#sk-container-id-6 div.sk-serial::before {content: \"\";position: absolute;border-left: 1px solid gray;box-sizing: border-box;top: 0;bottom: 0;left: 50%;z-index: 0;}#sk-container-id-6 div.sk-serial {display: flex;flex-direction: column;align-items: center;background-color: white;padding-right: 0.2em;padding-left: 0.2em;position: relative;}#sk-container-id-6 div.sk-item {position: relative;z-index: 1;}#sk-container-id-6 div.sk-parallel {display: flex;align-items: stretch;justify-content: center;background-color: white;position: relative;}#sk-container-id-6 div.sk-item::before, #sk-container-id-6 div.sk-parallel-item::before {content: \"\";position: absolute;border-left: 1px solid gray;box-sizing: border-box;top: 0;bottom: 0;left: 50%;z-index: -1;}#sk-container-id-6 div.sk-parallel-item {display: flex;flex-direction: column;z-index: 1;position: relative;background-color: white;}#sk-container-id-6 div.sk-parallel-item:first-child::after {align-self: flex-end;width: 50%;}#sk-container-id-6 div.sk-parallel-item:last-child::after {align-self: flex-start;width: 50%;}#sk-container-id-6 div.sk-parallel-item:only-child::after {width: 0;}#sk-container-id-6 div.sk-dashed-wrapped {border: 1px dashed gray;margin: 0 0.4em 0.5em 0.4em;box-sizing: border-box;padding-bottom: 0.4em;background-color: white;}#sk-container-id-6 div.sk-label label {font-family: monospace;font-weight: bold;display: inline-block;line-height: 1.2em;}#sk-container-id-6 div.sk-label-container {text-align: center;}#sk-container-id-6 div.sk-container {/* jupyter's `normalize.less` sets `[hidden] { display: none; }` but bootstrap.min.css set `[hidden] { display: none !important; }` so we also need the `!important` here to be able to override the default hidden behavior on the sphinx rendered scikit-learn.org. See: https://github.com/scikit-learn/scikit-learn/issues/21755 */display: inline-block !important;position: relative;}#sk-container-id-6 div.sk-text-repr-fallback {display: none;}</style><div id=\"sk-container-id-6\" class=\"sk-top-container\"><div class=\"sk-text-repr-fallback\"><pre>DecisionTreeClassifier(max_depth=4, max_features=9)</pre><b>In a Jupyter environment, please rerun this cell to show the HTML representation or trust the notebook. <br />On GitHub, the HTML representation is unable to render, please try loading this page with nbviewer.org.</b></div><div class=\"sk-container\" hidden><div class=\"sk-item\"><div class=\"sk-estimator sk-toggleable\"><input class=\"sk-toggleable__control sk-hidden--visually\" id=\"sk-estimator-id-6\" type=\"checkbox\" checked><label for=\"sk-estimator-id-6\" class=\"sk-toggleable__label sk-toggleable__label-arrow\">DecisionTreeClassifier</label><div class=\"sk-toggleable__content\"><pre>DecisionTreeClassifier(max_depth=4, max_features=9)</pre></div></div></div></div></div>"
            ]
          },
          "metadata": {},
          "execution_count": 191
        }
      ]
    },
    {
      "cell_type": "code",
      "source": [
        "print('Decision tree train accuracy:', dt.score(X_train , y_train))"
      ],
      "metadata": {
        "colab": {
          "base_uri": "https://localhost:8080/"
        },
        "id": "TBPqzyX4yz_a",
        "outputId": "b4bac423-a038-4c55-a943-b871bebaf066"
      },
      "execution_count": 192,
      "outputs": [
        {
          "output_type": "stream",
          "name": "stdout",
          "text": [
            "Decision tree train accuracy: 0.8678090575275398\n"
          ]
        }
      ]
    },
    {
      "cell_type": "code",
      "source": [
        "print('Decision tree test accuracy:', dt.score(X_test , y_test))"
      ],
      "metadata": {
        "colab": {
          "base_uri": "https://localhost:8080/"
        },
        "id": "uNhB6T-HzDZG",
        "outputId": "b52f87d1-7a5a-47e5-e45a-f27b04698836"
      },
      "execution_count": 193,
      "outputs": [
        {
          "output_type": "stream",
          "name": "stdout",
          "text": [
            "Decision tree test accuracy: 0.8829268292682927\n"
          ]
        }
      ]
    },
    {
      "cell_type": "code",
      "source": [
        "from sklearn import tree\n",
        "fig = plt.figure(figsize = (15,12))\n",
        "tree.plot_tree(dt , filled= True)"
      ],
      "metadata": {
        "colab": {
          "base_uri": "https://localhost:8080/",
          "height": 1000
        },
        "id": "XEz4sfluzJvS",
        "outputId": "54dd4652-2118-4255-8fd8-bf4c53bf417e"
      },
      "execution_count": 194,
      "outputs": [
        {
          "output_type": "execute_result",
          "data": {
            "text/plain": [
              "[Text(0.5267857142857143, 0.9, 'x[2] <= -0.427\\ngini = 0.499\\nsamples = 817\\nvalue = [392, 425]'),\n",
              " Text(0.2857142857142857, 0.7, 'x[11] <= -0.249\\ngini = 0.375\\nsamples = 392\\nvalue = [294, 98]'),\n",
              " Text(0.14285714285714285, 0.5, 'x[7] <= -0.09\\ngini = 0.5\\nsamples = 174\\nvalue = [89, 85]'),\n",
              " Text(0.07142857142857142, 0.3, 'x[9] <= -0.315\\ngini = 0.394\\nsamples = 89\\nvalue = [65, 24]'),\n",
              " Text(0.03571428571428571, 0.1, 'gini = 0.444\\nsamples = 24\\nvalue = [8, 16]'),\n",
              " Text(0.10714285714285714, 0.1, 'gini = 0.216\\nsamples = 65\\nvalue = [57, 8]'),\n",
              " Text(0.21428571428571427, 0.3, 'x[12] <= 0.287\\ngini = 0.405\\nsamples = 85\\nvalue = [24, 61]'),\n",
              " Text(0.17857142857142858, 0.1, 'gini = 0.271\\nsamples = 62\\nvalue = [10, 52]'),\n",
              " Text(0.25, 0.1, 'gini = 0.476\\nsamples = 23\\nvalue = [14, 9]'),\n",
              " Text(0.42857142857142855, 0.5, 'x[3] <= -1.294\\ngini = 0.112\\nsamples = 218\\nvalue = [205, 13]'),\n",
              " Text(0.35714285714285715, 0.3, 'x[4] <= -0.238\\ngini = 0.49\\nsamples = 14\\nvalue = [8, 6]'),\n",
              " Text(0.32142857142857145, 0.1, 'gini = 0.0\\nsamples = 6\\nvalue = [0, 6]'),\n",
              " Text(0.39285714285714285, 0.1, 'gini = 0.0\\nsamples = 8\\nvalue = [8, 0]'),\n",
              " Text(0.5, 0.3, 'x[0] <= 1.005\\ngini = 0.066\\nsamples = 204\\nvalue = [197, 7]'),\n",
              " Text(0.4642857142857143, 0.1, 'gini = 0.025\\nsamples = 158\\nvalue = [156, 2]'),\n",
              " Text(0.5357142857142857, 0.1, 'gini = 0.194\\nsamples = 46\\nvalue = [41, 5]'),\n",
              " Text(0.7678571428571429, 0.7, 'x[0] <= 0.232\\ngini = 0.355\\nsamples = 425\\nvalue = [98, 327]'),\n",
              " Text(0.6785714285714286, 0.5, 'x[9] <= 2.109\\ngini = 0.196\\nsamples = 263\\nvalue = [29, 234]'),\n",
              " Text(0.6428571428571429, 0.3, 'x[7] <= -0.286\\ngini = 0.163\\nsamples = 257\\nvalue = [23, 234]'),\n",
              " Text(0.6071428571428571, 0.1, 'gini = 0.485\\nsamples = 29\\nvalue = [12, 17]'),\n",
              " Text(0.6785714285714286, 0.1, 'gini = 0.092\\nsamples = 228\\nvalue = [11, 217]'),\n",
              " Text(0.7142857142857143, 0.3, 'gini = 0.0\\nsamples = 6\\nvalue = [6, 0]'),\n",
              " Text(0.8571428571428571, 0.5, 'x[1] <= -0.43\\ngini = 0.489\\nsamples = 162\\nvalue = [69, 93]'),\n",
              " Text(0.7857142857142857, 0.3, 'x[0] <= 0.895\\ngini = 0.231\\nsamples = 60\\nvalue = [8, 52]'),\n",
              " Text(0.75, 0.1, 'gini = 0.48\\nsamples = 20\\nvalue = [8, 12]'),\n",
              " Text(0.8214285714285714, 0.1, 'gini = 0.0\\nsamples = 40\\nvalue = [0, 40]'),\n",
              " Text(0.9285714285714286, 0.3, 'x[4] <= 0.009\\ngini = 0.481\\nsamples = 102\\nvalue = [61, 41]'),\n",
              " Text(0.8928571428571429, 0.1, 'gini = 0.496\\nsamples = 66\\nvalue = [30, 36]'),\n",
              " Text(0.9642857142857143, 0.1, 'gini = 0.239\\nsamples = 36\\nvalue = [31, 5]')]"
            ]
          },
          "metadata": {},
          "execution_count": 194
        },
        {
          "output_type": "display_data",
          "data": {
            "text/plain": [
              "<Figure size 1080x864 with 1 Axes>"
            ],
            "image/png": "[encoded data removed]"
          },
          "metadata": {
            "needs_background": "light"
          }
        }
      ]
    },
    {
      "cell_type": "code",
      "source": [
        "Y_pred = dt.predict(X_test)\n",
        "data = pd.DataFrame({\"Y_test\" : y_test , \"Y_pred\": Y_pred})\n",
        "data.head(10)"
      ],
      "metadata": {
        "colab": {
          "base_uri": "https://localhost:8080/",
          "height": 363
        },
        "id": "DT6OmoIHzNF9",
        "outputId": "1de6d065-728f-4cc9-e0c0-3fe912fbffaa"
      },
      "execution_count": 195,
      "outputs": [
        {
          "output_type": "execute_result",
          "data": {
            "text/plain": [
              "     Y_test  Y_pred\n",
              "550       0       0\n",
              "441       0       0\n",
              "521       1       1\n",
              "721       1       1\n",
              "791       0       0\n",
              "869       1       1\n",
              "373       0       0\n",
              "790       0       0\n",
              "565       1       1\n",
              "657       1       1"
            ],
            "text/html": [
              "\n",
              "  <div id=\"df-dd021e77-095b-451d-a91d-7fc7036a8034\">\n",
              "    <div class=\"colab-df-container\">\n",
              "      <div>\n",
              "<style scoped>\n",
              "    .dataframe tbody tr th:only-of-type {\n",
              "        vertical-align: middle;\n",
              "    }\n",
              "\n",
              "    .dataframe tbody tr th {\n",
              "        vertical-align: top;\n",
              "    }\n",
              "\n",
              "    .dataframe thead th {\n",
              "        text-align: right;\n",
              "    }\n",
              "</style>\n",
              "<table border=\"1\" class=\"dataframe\">\n",
              "  <thead>\n",
              "    <tr style=\"text-align: right;\">\n",
              "      <th></th>\n",
              "      <th>Y_test</th>\n",
              "      <th>Y_pred</th>\n",
              "    </tr>\n",
              "  </thead>\n",
              "  <tbody>\n",
              "    <tr>\n",
              "      <th>550</th>\n",
              "      <td>0</td>\n",
              "      <td>0</td>\n",
              "    </tr>\n",
              "    <tr>\n",
              "      <th>441</th>\n",
              "      <td>0</td>\n",
              "      <td>0</td>\n",
              "    </tr>\n",
              "    <tr>\n",
              "      <th>521</th>\n",
              "      <td>1</td>\n",
              "      <td>1</td>\n",
              "    </tr>\n",
              "    <tr>\n",
              "      <th>721</th>\n",
              "      <td>1</td>\n",
              "      <td>1</td>\n",
              "    </tr>\n",
              "    <tr>\n",
              "      <th>791</th>\n",
              "      <td>0</td>\n",
              "      <td>0</td>\n",
              "    </tr>\n",
              "    <tr>\n",
              "      <th>869</th>\n",
              "      <td>1</td>\n",
              "      <td>1</td>\n",
              "    </tr>\n",
              "    <tr>\n",
              "      <th>373</th>\n",
              "      <td>0</td>\n",
              "      <td>0</td>\n",
              "    </tr>\n",
              "    <tr>\n",
              "      <th>790</th>\n",
              "      <td>0</td>\n",
              "      <td>0</td>\n",
              "    </tr>\n",
              "    <tr>\n",
              "      <th>565</th>\n",
              "      <td>1</td>\n",
              "      <td>1</td>\n",
              "    </tr>\n",
              "    <tr>\n",
              "      <th>657</th>\n",
              "      <td>1</td>\n",
              "      <td>1</td>\n",
              "    </tr>\n",
              "  </tbody>\n",
              "</table>\n",
              "</div>\n",
              "      <button class=\"colab-df-convert\" onclick=\"convertToInteractive('df-dd021e77-095b-451d-a91d-7fc7036a8034')\"\n",
              "              title=\"Convert this dataframe to an interactive table.\"\n",
              "              style=\"display:none;\">\n",
              "        \n",
              "  <svg xmlns=\"http://www.w3.org/2000/svg\" height=\"24px\"viewBox=\"0 0 24 24\"\n",
              "       width=\"24px\">\n",
              "    <path d=\"M0 0h24v24H0V0z\" fill=\"none\"/>\n",
              "    <path d=\"M18.56 5.44l.94 2.06.94-2.06 2.06-.94-2.06-.94-.94-2.06-.94 2.06-2.06.94zm-11 1L8.5 8.5l.94-2.06 2.06-.94-2.06-.94L8.5 2.5l-.94 2.06-2.06.94zm10 10l.94 2.06.94-2.06 2.06-.94-2.06-.94-.94-2.06-.94 2.06-2.06.94z\"/><path d=\"M17.41 7.96l-1.37-1.37c-.4-.4-.92-.59-1.43-.59-.52 0-1.04.2-1.43.59L10.3 9.45l-7.72 7.72c-.78.78-.78 2.05 0 2.83L4 21.41c.39.39.9.59 1.41.59.51 0 1.02-.2 1.41-.59l7.78-7.78 2.81-2.81c.8-.78.8-2.07 0-2.86zM5.41 20L4 18.59l7.72-7.72 1.47 1.35L5.41 20z\"/>\n",
              "  </svg>\n",
              "      </button>\n",
              "      \n",
              "  <style>\n",
              "    .colab-df-container {\n",
              "      display:flex;\n",
              "      flex-wrap:wrap;\n",
              "      gap: 12px;\n",
              "    }\n",
              "\n",
              "    .colab-df-convert {\n",
              "      background-color: #E8F0FE;\n",
              "      border: none;\n",
              "      border-radius: 50%;\n",
              "      cursor: pointer;\n",
              "      display: none;\n",
              "      fill: #1967D2;\n",
              "      height: 32px;\n",
              "      padding: 0 0 0 0;\n",
              "      width: 32px;\n",
              "    }\n",
              "\n",
              "    .colab-df-convert:hover {\n",
              "      background-color: #E2EBFA;\n",
              "      box-shadow: 0px 1px 2px rgba(60, 64, 67, 0.3), 0px 1px 3px 1px rgba(60, 64, 67, 0.15);\n",
              "      fill: #174EA6;\n",
              "    }\n",
              "\n",
              "    [theme=dark] .colab-df-convert {\n",
              "      background-color: #3B4455;\n",
              "      fill: #D2E3FC;\n",
              "    }\n",
              "\n",
              "    [theme=dark] .colab-df-convert:hover {\n",
              "      background-color: #434B5C;\n",
              "      box-shadow: 0px 1px 3px 1px rgba(0, 0, 0, 0.15);\n",
              "      filter: drop-shadow(0px 1px 2px rgba(0, 0, 0, 0.3));\n",
              "      fill: #FFFFFF;\n",
              "    }\n",
              "  </style>\n",
              "\n",
              "      <script>\n",
              "        const buttonEl =\n",
              "          document.querySelector('#df-dd021e77-095b-451d-a91d-7fc7036a8034 button.colab-df-convert');\n",
              "        buttonEl.style.display =\n",
              "          google.colab.kernel.accessAllowed ? 'block' : 'none';\n",
              "\n",
              "        async function convertToInteractive(key) {\n",
              "          const element = document.querySelector('#df-dd021e77-095b-451d-a91d-7fc7036a8034');\n",
              "          const dataTable =\n",
              "            await google.colab.kernel.invokeFunction('convertToInteractive',\n",
              "                                                     [key], {});\n",
              "          if (!dataTable) return;\n",
              "\n",
              "          const docLinkHtml = 'Like what you see? Visit the ' +\n",
              "            '<a target=\"_blank\" href=https://colab.research.google.com/notebooks/data_table.ipynb>data table notebook</a>'\n",
              "            + ' to learn more about interactive tables.';\n",
              "          element.innerHTML = '';\n",
              "          dataTable['output_type'] = 'display_data';\n",
              "          await google.colab.output.renderOutput(dataTable, element);\n",
              "          const docLink = document.createElement('div');\n",
              "          docLink.innerHTML = docLinkHtml;\n",
              "          element.appendChild(docLink);\n",
              "        }\n",
              "      </script>\n",
              "    </div>\n",
              "  </div>\n",
              "  "
            ]
          },
          "metadata": {},
          "execution_count": 195
        }
      ]
    },
    {
      "cell_type": "code",
      "source": [
        "def f_importances(coef, names, top=-1):\n",
        "    imp = coef\n",
        "    imp, names = zip(*sorted(list(zip(imp, names))))\n",
        "\n",
        "    # Show all features\n",
        "    if top == -1:\n",
        "        top = len(names)\n",
        "\n",
        "    plt.barh(range(top), imp[::-1][0:top], align='center')\n",
        "    plt.yticks(range(top), names[::-1][0:top])\n",
        "    plt.title('feature importances for dt')\n",
        "    plt.show()\n",
        "\n",
        "features_names = list(df.columns)\n",
        "f_importances(abs(dt.feature_importances_), features_names, top=7)"
      ],
      "metadata": {
        "colab": {
          "base_uri": "https://localhost:8080/",
          "height": 281
        },
        "id": "RwHUQ3R_zSTz",
        "outputId": "e6fbc0b6-e36f-4551-effc-b6b35c57edb6"
      },
      "execution_count": 196,
      "outputs": [
        {
          "output_type": "display_data",
          "data": {
            "text/plain": [
              "<Figure size 432x288 with 1 Axes>"
            ],
            "image/png": "[encoded data removed]"
          },
          "metadata": {
            "needs_background": "light"
          }
        }
      ]
    },
    {
      "cell_type": "code",
      "source": [
        "#Classification Report#:it seems it is very good \n",
        "from sklearn.metrics import classification_report\n",
        "\n",
        "print(classification_report(y_test, Y_pred))"
      ],
      "metadata": {
        "colab": {
          "base_uri": "https://localhost:8080/"
        },
        "id": "eTDoJe0QziPP",
        "outputId": "ab5b6a18-6618-4a59-e354-29b3a58b3de0"
      },
      "execution_count": 197,
      "outputs": [
        {
          "output_type": "stream",
          "name": "stdout",
          "text": [
            "              precision    recall  f1-score   support\n",
            "\n",
            "           0       0.91      0.86      0.88       107\n",
            "           1       0.86      0.91      0.88        98\n",
            "\n",
            "    accuracy                           0.88       205\n",
            "   macro avg       0.88      0.88      0.88       205\n",
            "weighted avg       0.88      0.88      0.88       205\n",
            "\n"
          ]
        }
      ]
    },
    {
      "cell_type": "markdown",
      "source": [
        "## Random Forest"
      ],
      "metadata": {
        "id": "CoSbDzu4zwk9"
      }
    },
    {
      "cell_type": "code",
      "source": [
        "rf = RandomForestClassifier(max_features=7, max_depth=3)"
      ],
      "metadata": {
        "id": "iUbiY-68zyUm"
      },
      "execution_count": 198,
      "outputs": []
    },
    {
      "cell_type": "code",
      "source": [
        "rf.fit(X_train , y_train)"
      ],
      "metadata": {
        "colab": {
          "base_uri": "https://localhost:8080/",
          "height": 74
        },
        "id": "wOJHecrLz1Q4",
        "outputId": "5fc3eba5-81c6-46e7-fa97-01a85db367a5"
      },
      "execution_count": 206,
      "outputs": [
        {
          "output_type": "execute_result",
          "data": {
            "text/plain": [
              "RandomForestClassifier(max_depth=3, max_features=7)"
            ],
            "text/html": [
              "<style>#sk-container-id-8 {color: black;background-color: white;}#sk-container-id-8 pre{padding: 0;}#sk-container-id-8 div.sk-toggleable {background-color: white;}#sk-container-id-8 label.sk-toggleable__label {cursor: pointer;display: block;width: 100%;margin-bottom: 0;padding: 0.3em;box-sizing: border-box;text-align: center;}#sk-container-id-8 label.sk-toggleable__label-arrow:before {content: \"▸\";float: left;margin-right: 0.25em;color: #696969;}#sk-container-id-8 label.sk-toggleable__label-arrow:hover:before {color: black;}#sk-container-id-8 div.sk-estimator:hover label.sk-toggleable__label-arrow:before {color: black;}#sk-container-id-8 div.sk-toggleable__content {max-height: 0;max-width: 0;overflow: hidden;text-align: left;background-color: #f0f8ff;}#sk-container-id-8 div.sk-toggleable__content pre {margin: 0.2em;color: black;border-radius: 0.25em;background-color: #f0f8ff;}#sk-container-id-8 input.sk-toggleable__control:checked~div.sk-toggleable__content {max-height: 200px;max-width: 100%;overflow: auto;}#sk-container-id-8 input.sk-toggleable__control:checked~label.sk-toggleable__label-arrow:before {content: \"▾\";}#sk-container-id-8 div.sk-estimator input.sk-toggleable__control:checked~label.sk-toggleable__label {background-color: #d4ebff;}#sk-container-id-8 div.sk-label input.sk-toggleable__control:checked~label.sk-toggleable__label {background-color: #d4ebff;}#sk-container-id-8 input.sk-hidden--visually {border: 0;clip: rect(1px 1px 1px 1px);clip: rect(1px, 1px, 1px, 1px);height: 1px;margin: -1px;overflow: hidden;padding: 0;position: absolute;width: 1px;}#sk-container-id-8 div.sk-estimator {font-family: monospace;background-color: #f0f8ff;border: 1px dotted black;border-radius: 0.25em;box-sizing: border-box;margin-bottom: 0.5em;}#sk-container-id-8 div.sk-estimator:hover {background-color: #d4ebff;}#sk-container-id-8 div.sk-parallel-item::after {content: \"\";width: 100%;border-bottom: 1px solid gray;flex-grow: 1;}#sk-container-id-8 div.sk-label:hover label.sk-toggleable__label {background-color: #d4ebff;}#sk-container-id-8 div.sk-serial::before {content: \"\";position: absolute;border-left: 1px solid gray;box-sizing: border-box;top: 0;bottom: 0;left: 50%;z-index: 0;}#sk-container-id-8 div.sk-serial {display: flex;flex-direction: column;align-items: center;background-color: white;padding-right: 0.2em;padding-left: 0.2em;position: relative;}#sk-container-id-8 div.sk-item {position: relative;z-index: 1;}#sk-container-id-8 div.sk-parallel {display: flex;align-items: stretch;justify-content: center;background-color: white;position: relative;}#sk-container-id-8 div.sk-item::before, #sk-container-id-8 div.sk-parallel-item::before {content: \"\";position: absolute;border-left: 1px solid gray;box-sizing: border-box;top: 0;bottom: 0;left: 50%;z-index: -1;}#sk-container-id-8 div.sk-parallel-item {display: flex;flex-direction: column;z-index: 1;position: relative;background-color: white;}#sk-container-id-8 div.sk-parallel-item:first-child::after {align-self: flex-end;width: 50%;}#sk-container-id-8 div.sk-parallel-item:last-child::after {align-self: flex-start;width: 50%;}#sk-container-id-8 div.sk-parallel-item:only-child::after {width: 0;}#sk-container-id-8 div.sk-dashed-wrapped {border: 1px dashed gray;margin: 0 0.4em 0.5em 0.4em;box-sizing: border-box;padding-bottom: 0.4em;background-color: white;}#sk-container-id-8 div.sk-label label {font-family: monospace;font-weight: bold;display: inline-block;line-height: 1.2em;}#sk-container-id-8 div.sk-label-container {text-align: center;}#sk-container-id-8 div.sk-container {/* jupyter's `normalize.less` sets `[hidden] { display: none; }` but bootstrap.min.css set `[hidden] { display: none !important; }` so we also need the `!important` here to be able to override the default hidden behavior on the sphinx rendered scikit-learn.org. See: https://github.com/scikit-learn/scikit-learn/issues/21755 */display: inline-block !important;position: relative;}#sk-container-id-8 div.sk-text-repr-fallback {display: none;}</style><div id=\"sk-container-id-8\" class=\"sk-top-container\"><div class=\"sk-text-repr-fallback\"><pre>RandomForestClassifier(max_depth=3, max_features=7)</pre><b>In a Jupyter environment, please rerun this cell to show the HTML representation or trust the notebook. <br />On GitHub, the HTML representation is unable to render, please try loading this page with nbviewer.org.</b></div><div class=\"sk-container\" hidden><div class=\"sk-item\"><div class=\"sk-estimator sk-toggleable\"><input class=\"sk-toggleable__control sk-hidden--visually\" id=\"sk-estimator-id-8\" type=\"checkbox\" checked><label for=\"sk-estimator-id-8\" class=\"sk-toggleable__label sk-toggleable__label-arrow\">RandomForestClassifier</label><div class=\"sk-toggleable__content\"><pre>RandomForestClassifier(max_depth=3, max_features=7)</pre></div></div></div></div></div>"
            ]
          },
          "metadata": {},
          "execution_count": 206
        }
      ]
    },
    {
      "cell_type": "code",
      "source": [
        "print('Random forest train accuracy:', rf.score(X_train , y_train))"
      ],
      "metadata": {
        "colab": {
          "base_uri": "https://localhost:8080/"
        },
        "id": "Fw3hUsK-z89r",
        "outputId": "bba36af6-c9eb-411f-b1cd-4a9b5d68c190"
      },
      "execution_count": 207,
      "outputs": [
        {
          "output_type": "stream",
          "name": "stdout",
          "text": [
            "Random forest train accuracy: 0.8812729498164015\n"
          ]
        }
      ]
    },
    {
      "cell_type": "code",
      "source": [
        "print('Random forest test accuracy:', rf.score(X_test , y_test))"
      ],
      "metadata": {
        "colab": {
          "base_uri": "https://localhost:8080/"
        },
        "id": "q0wosBk-z49e",
        "outputId": "68b41e7e-bf1a-406a-e921-d166eba1a01e"
      },
      "execution_count": 208,
      "outputs": [
        {
          "output_type": "stream",
          "name": "stdout",
          "text": [
            "Random forest test accuracy: 0.848780487804878\n"
          ]
        }
      ]
    },
    {
      "cell_type": "code",
      "source": [
        "def f_importances(coef, names, top=-1):\n",
        "    imp = coef\n",
        "    imp, names = zip(*sorted(list(zip(imp, names))))\n",
        "\n",
        "    # Show all features\n",
        "    if top == -1:\n",
        "        top = len(names)\n",
        "\n",
        "    plt.barh(range(top), imp[::-1][0:top], align='center')\n",
        "    plt.yticks(range(top), names[::-1][0:top])\n",
        "    plt.title('feature importances')\n",
        "    plt.show()\n",
        "\n",
        "# whatever your features are called\n",
        "features_names = list(df.columns)\n",
        "f_importances(abs(rf.feature_importances_), features_names, top=8)"
      ],
      "metadata": {
        "colab": {
          "base_uri": "https://localhost:8080/",
          "height": 281
        },
        "id": "kWFO2nSm0P8j",
        "outputId": "69a98d20-74b8-4826-9485-4d5ee9307dd6"
      },
      "execution_count": 209,
      "outputs": [
        {
          "output_type": "display_data",
          "data": {
            "text/plain": [
              "<Figure size 432x288 with 1 Axes>"
            ],
            "image/png": "[encoded data removed]"
          },
          "metadata": {
            "needs_background": "light"
          }
        }
      ]
    },
    {
      "cell_type": "code",
      "source": [
        "from sklearn.metrics import accuracy_score, precision_score, recall_score, f1_score\n",
        "Accuracy, Precision, Recall, F1= {}, {}, {}, {}\n",
        "models = {}\n",
        "models['Logistic Regression'] = LogisticRegression(penalty='l1', solver='liblinear', max_iter=1000)\n",
        "models['K-Nearest Neighbor'] = KNeighborsClassifier(n_neighbors=6, algorithm='kd_tree', metric='manhattan')\n",
        "models['Decision Trees'] = DecisionTreeClassifier(criterion='gini', max_depth=4)\n",
        "models['Random Forest'] = RandomForestClassifier(n_estimators = 85, min_samples_split= 8, min_samples_leaf= 3, max_features= 'auto',\n",
        "                                      max_depth= 50, bootstrap= True, random_state=125)"
      ],
      "metadata": {
        "id": "0jGBcp7k0XYV"
      },
      "execution_count": 210,
      "outputs": []
    },
    {
      "cell_type": "code",
      "source": [
        "for key in models.keys():\n",
        "\n",
        "    # Fit the classifier model\n",
        "    models[key].fit(X_train, y_train)\n",
        "    \n",
        "    # Prediction \n",
        "    predictions = models[key].predict(X_test)\n",
        "    \n",
        "    # Calculate Accuracy, Precision and Recall Metrics\n",
        "    Accuracy[key] = accuracy_score(predictions, y_test)\n",
        "    Precision[key] = precision_score(predictions, y_test)\n",
        "    Recall[key] = recall_score(predictions, y_test)\n",
        "    F1[key] = f1_score(predictions, y_test)"
      ],
      "metadata": {
        "colab": {
          "base_uri": "https://localhost:8080/"
        },
        "id": "aStIeJQi0a0R",
        "outputId": "1dddcb57-802a-45fb-cfc5-233fc85f4ce2"
      },
      "execution_count": 211,
      "outputs": [
        {
          "output_type": "stream",
          "name": "stderr",
          "text": [
            "/usr/local/lib/python3.8/dist-packages/sklearn/ensemble/_forest.py:424: FutureWarning: `max_features='auto'` has been deprecated in 1.1 and will be removed in 1.3. To keep the past behaviour, explicitly set `max_features='sqrt'` or remove this parameter as it is also the default value for RandomForestClassifiers and ExtraTreesClassifiers.\n",
            "  warn(\n"
          ]
        }
      ]
    },
    {
      "cell_type": "code",
      "source": [
        "df_model = pd.DataFrame(index=models.keys(), columns=['Accuracy', 'Precision', 'Recall', 'F1 Score'])\n",
        "df_model['Accuracy'] = Accuracy.values()\n",
        "df_model['Precision'] = Precision.values()\n",
        "df_model['Recall'] = Recall.values()\n",
        "df_model['F1 Score'] = F1.values()\n",
        "df_model.sort_values"
      ],
      "metadata": {
        "colab": {
          "base_uri": "https://localhost:8080/"
        },
        "id": "nl4nHlQx0dHQ",
        "outputId": "19683bad-47c8-4f3f-e4ba-2a2c607f1e77"
      },
      "execution_count": 212,
      "outputs": [
        {
          "output_type": "execute_result",
          "data": {
            "text/plain": [
              "<bound method DataFrame.sort_values of                      Accuracy  Precision    Recall  F1 Score\n",
              "Logistic Regression  0.829268   0.816327  0.824742  0.820513\n",
              "K-Nearest Neighbor   0.853659   0.775510  0.904762  0.835165\n",
              "Decision Trees       0.863415   0.887755  0.836538  0.861386\n",
              "Random Forest        0.951220   0.908163  0.988889  0.946809>"
            ]
          },
          "metadata": {},
          "execution_count": 212
        }
      ]
    },
    {
      "cell_type": "code",
      "source": [
        "plt.rcParams[\"figure.figsize\"] = (15,8)\n",
        "ax = df_model.sort_values(by='Accuracy',ascending=False).plot.bar(rot=0)\n",
        "ax.title.set_text('Comparaison of Models')\n",
        "ax.legend(ncol= len(models.keys()), bbox_to_anchor=(0, 1), loc='upper left',prop={'size': 13})"
      ],
      "metadata": {
        "colab": {
          "base_uri": "https://localhost:8080/",
          "height": 516
        },
        "id": "J8X0_W9P0yRs",
        "outputId": "3d0e3135-4463-4c3a-f320-ed7f84b94911"
      },
      "execution_count": 213,
      "outputs": [
        {
          "output_type": "execute_result",
          "data": {
            "text/plain": [
              "<matplotlib.legend.Legend at 0x7f70f3aa9d30>"
            ]
          },
          "metadata": {},
          "execution_count": 213
        },
        {
          "output_type": "display_data",
          "data": {
            "text/plain": [
              "<Figure size 1080x576 with 1 Axes>"
            ],
            "image/png": "[encoded data removed]"
          },
          "metadata": {
            "needs_background": "light"
          }
        }
      ]
    },
    {
      "cell_type": "markdown",
      "source": [
        "In this experiments, random forest has the highest accuracy."
      ],
      "metadata": {
        "id": "kJ1Zmar-03Rn"
      }
    },
    {
      "cell_type": "markdown",
      "source": [
        "## XGBoost"
      ],
      "metadata": {
        "id": "2tvdxhk10ajJ"
      }
    },
    {
      "cell_type": "code",
      "source": [
        "from xgboost import XGBClassifier"
      ],
      "metadata": {
        "id": "BtTJxQ7B023F"
      },
      "execution_count": 214,
      "outputs": []
    },
    {
      "cell_type": "code",
      "source": [
        "xgb = XGBClassifier(max_depth = 7 , learning_rate = 0.25 , objective = 'binary:logistic' , n_estimators= 5, random_state=42)"
      ],
      "metadata": {
        "id": "gSCxn9Bb1DOZ"
      },
      "execution_count": 215,
      "outputs": []
    },
    {
      "cell_type": "code",
      "source": [
        "xgb.fit(X_train , y_train)"
      ],
      "metadata": {
        "colab": {
          "base_uri": "https://localhost:8080/",
          "height": 248
        },
        "id": "UJp4vVKC1FLU",
        "outputId": "4eaed458-99a7-4bb8-d35d-9d962abb7dff"
      },
      "execution_count": 216,
      "outputs": [
        {
          "output_type": "execute_result",
          "data": {
            "text/plain": [
              "XGBClassifier(base_score=None, booster=None, callbacks=None,\n",
              "              colsample_bylevel=None, colsample_bynode=None,\n",
              "              colsample_bytree=None, early_stopping_rounds=None,\n",
              "              enable_categorical=False, eval_metric=None, feature_types=None,\n",
              "              gamma=None, gpu_id=None, grow_policy=None, importance_type=None,\n",
              "              interaction_constraints=None, learning_rate=0.25, max_bin=None,\n",
              "              max_cat_threshold=None, max_cat_to_onehot=None,\n",
              "              max_delta_step=None, max_depth=7, max_leaves=None,\n",
              "              min_child_weight=None, missing=nan, monotone_constraints=None,\n",
              "              n_estimators=5, n_jobs=None, num_parallel_tree=None,\n",
              "              predictor=None, random_state=42, ...)"
            ],
            "text/html": [
              "<style>#sk-container-id-9 {color: black;background-color: white;}#sk-container-id-9 pre{padding: 0;}#sk-container-id-9 div.sk-toggleable {background-color: white;}#sk-container-id-9 label.sk-toggleable__label {cursor: pointer;display: block;width: 100%;margin-bottom: 0;padding: 0.3em;box-sizing: border-box;text-align: center;}#sk-container-id-9 label.sk-toggleable__label-arrow:before {content: \"▸\";float: left;margin-right: 0.25em;color: #696969;}#sk-container-id-9 label.sk-toggleable__label-arrow:hover:before {color: black;}#sk-container-id-9 div.sk-estimator:hover label.sk-toggleable__label-arrow:before {color: black;}#sk-container-id-9 div.sk-toggleable__content {max-height: 0;max-width: 0;overflow: hidden;text-align: left;background-color: #f0f8ff;}#sk-container-id-9 div.sk-toggleable__content pre {margin: 0.2em;color: black;border-radius: 0.25em;background-color: #f0f8ff;}#sk-container-id-9 input.sk-toggleable__control:checked~div.sk-toggleable__content {max-height: 200px;max-width: 100%;overflow: auto;}#sk-container-id-9 input.sk-toggleable__control:checked~label.sk-toggleable__label-arrow:before {content: \"▾\";}#sk-container-id-9 div.sk-estimator input.sk-toggleable__control:checked~label.sk-toggleable__label {background-color: #d4ebff;}#sk-container-id-9 div.sk-label input.sk-toggleable__control:checked~label.sk-toggleable__label {background-color: #d4ebff;}#sk-container-id-9 input.sk-hidden--visually {border: 0;clip: rect(1px 1px 1px 1px);clip: rect(1px, 1px, 1px, 1px);height: 1px;margin: -1px;overflow: hidden;padding: 0;position: absolute;width: 1px;}#sk-container-id-9 div.sk-estimator {font-family: monospace;background-color: #f0f8ff;border: 1px dotted black;border-radius: 0.25em;box-sizing: border-box;margin-bottom: 0.5em;}#sk-container-id-9 div.sk-estimator:hover {background-color: #d4ebff;}#sk-container-id-9 div.sk-parallel-item::after {content: \"\";width: 100%;border-bottom: 1px solid gray;flex-grow: 1;}#sk-container-id-9 div.sk-label:hover label.sk-toggleable__label {background-color: #d4ebff;}#sk-container-id-9 div.sk-serial::before {content: \"\";position: absolute;border-left: 1px solid gray;box-sizing: border-box;top: 0;bottom: 0;left: 50%;z-index: 0;}#sk-container-id-9 div.sk-serial {display: flex;flex-direction: column;align-items: center;background-color: white;padding-right: 0.2em;padding-left: 0.2em;position: relative;}#sk-container-id-9 div.sk-item {position: relative;z-index: 1;}#sk-container-id-9 div.sk-parallel {display: flex;align-items: stretch;justify-content: center;background-color: white;position: relative;}#sk-container-id-9 div.sk-item::before, #sk-container-id-9 div.sk-parallel-item::before {content: \"\";position: absolute;border-left: 1px solid gray;box-sizing: border-box;top: 0;bottom: 0;left: 50%;z-index: -1;}#sk-container-id-9 div.sk-parallel-item {display: flex;flex-direction: column;z-index: 1;position: relative;background-color: white;}#sk-container-id-9 div.sk-parallel-item:first-child::after {align-self: flex-end;width: 50%;}#sk-container-id-9 div.sk-parallel-item:last-child::after {align-self: flex-start;width: 50%;}#sk-container-id-9 div.sk-parallel-item:only-child::after {width: 0;}#sk-container-id-9 div.sk-dashed-wrapped {border: 1px dashed gray;margin: 0 0.4em 0.5em 0.4em;box-sizing: border-box;padding-bottom: 0.4em;background-color: white;}#sk-container-id-9 div.sk-label label {font-family: monospace;font-weight: bold;display: inline-block;line-height: 1.2em;}#sk-container-id-9 div.sk-label-container {text-align: center;}#sk-container-id-9 div.sk-container {/* jupyter's `normalize.less` sets `[hidden] { display: none; }` but bootstrap.min.css set `[hidden] { display: none !important; }` so we also need the `!important` here to be able to override the default hidden behavior on the sphinx rendered scikit-learn.org. See: https://github.com/scikit-learn/scikit-learn/issues/21755 */display: inline-block !important;position: relative;}#sk-container-id-9 div.sk-text-repr-fallback {display: none;}</style><div id=\"sk-container-id-9\" class=\"sk-top-container\"><div class=\"sk-text-repr-fallback\"><pre>XGBClassifier(base_score=None, booster=None, callbacks=None,\n",
              "              colsample_bylevel=None, colsample_bynode=None,\n",
              "              colsample_bytree=None, early_stopping_rounds=None,\n",
              "              enable_categorical=False, eval_metric=None, feature_types=None,\n",
              "              gamma=None, gpu_id=None, grow_policy=None, importance_type=None,\n",
              "              interaction_constraints=None, learning_rate=0.25, max_bin=None,\n",
              "              max_cat_threshold=None, max_cat_to_onehot=None,\n",
              "              max_delta_step=None, max_depth=7, max_leaves=None,\n",
              "              min_child_weight=None, missing=nan, monotone_constraints=None,\n",
              "              n_estimators=5, n_jobs=None, num_parallel_tree=None,\n",
              "              predictor=None, random_state=42, ...)</pre><b>In a Jupyter environment, please rerun this cell to show the HTML representation or trust the notebook. <br />On GitHub, the HTML representation is unable to render, please try loading this page with nbviewer.org.</b></div><div class=\"sk-container\" hidden><div class=\"sk-item\"><div class=\"sk-estimator sk-toggleable\"><input class=\"sk-toggleable__control sk-hidden--visually\" id=\"sk-estimator-id-9\" type=\"checkbox\" checked><label for=\"sk-estimator-id-9\" class=\"sk-toggleable__label sk-toggleable__label-arrow\">XGBClassifier</label><div class=\"sk-toggleable__content\"><pre>XGBClassifier(base_score=None, booster=None, callbacks=None,\n",
              "              colsample_bylevel=None, colsample_bynode=None,\n",
              "              colsample_bytree=None, early_stopping_rounds=None,\n",
              "              enable_categorical=False, eval_metric=None, feature_types=None,\n",
              "              gamma=None, gpu_id=None, grow_policy=None, importance_type=None,\n",
              "              interaction_constraints=None, learning_rate=0.25, max_bin=None,\n",
              "              max_cat_threshold=None, max_cat_to_onehot=None,\n",
              "              max_delta_step=None, max_depth=7, max_leaves=None,\n",
              "              min_child_weight=None, missing=nan, monotone_constraints=None,\n",
              "              n_estimators=5, n_jobs=None, num_parallel_tree=None,\n",
              "              predictor=None, random_state=42, ...)</pre></div></div></div></div></div>"
            ]
          },
          "metadata": {},
          "execution_count": 216
        }
      ]
    },
    {
      "cell_type": "code",
      "source": [
        "print('XGBoost train accuracy:', xgb.score(X_train , y_train))"
      ],
      "metadata": {
        "colab": {
          "base_uri": "https://localhost:8080/"
        },
        "id": "AebXHtIv1G9O",
        "outputId": "c85b4feb-f099-4e99-efa2-4cdc74326fa4"
      },
      "execution_count": 217,
      "outputs": [
        {
          "output_type": "stream",
          "name": "stdout",
          "text": [
            "XGBoost train accuracy: 0.988984088127295\n"
          ]
        }
      ]
    },
    {
      "cell_type": "code",
      "source": [
        "print('XGBoost test accuracy:', xgb.score(X_test , y_test))"
      ],
      "metadata": {
        "colab": {
          "base_uri": "https://localhost:8080/"
        },
        "id": "B8_S74Pd1Ml6",
        "outputId": "e56067b5-facf-4c6a-974c-d92bc36f7abd"
      },
      "execution_count": 218,
      "outputs": [
        {
          "output_type": "stream",
          "name": "stdout",
          "text": [
            "XGBoost test accuracy: 0.9658536585365853\n"
          ]
        }
      ]
    },
    {
      "cell_type": "code",
      "source": [
        "from matplotlib import pyplot as plt\n",
        "\n",
        "def f_importances(coef, names, top=-1):\n",
        "    imp = coef\n",
        "    imp, names = zip(*sorted(list(zip(imp, names))))\n",
        "\n",
        "    # Show all features\n",
        "    if top == -1:\n",
        "        top = len(names)\n",
        "\n",
        "    plt.barh(range(top), imp[::-1][0:top], align='center')\n",
        "    plt.yticks(range(top), names[::-1][0:top])\n",
        "    plt.title('feature importances')\n",
        "    plt.show()\n",
        "\n",
        "# whatever your features are called\n",
        "features_names = list(df.columns)\n",
        "f_importances(abs(xgb.feature_importances_), features_names, top=6)\n"
      ],
      "metadata": {
        "colab": {
          "base_uri": "https://localhost:8080/",
          "height": 499
        },
        "id": "_Y5xXbCW1Tgh",
        "outputId": "e9bfb67e-0c19-46d3-fbc2-8c801236c8eb"
      },
      "execution_count": 219,
      "outputs": [
        {
          "output_type": "display_data",
          "data": {
            "text/plain": [
              "<Figure size 1080x576 with 1 Axes>"
            ],
            "image/png": "[encoded data removed]"
          },
          "metadata": {
            "needs_background": "light"
          }
        }
      ]
    },
    {
      "cell_type": "markdown",
      "source": [
        "## Adaboost"
      ],
      "metadata": {
        "id": "xW2BF_Sz1Zyt"
      }
    },
    {
      "cell_type": "code",
      "source": [
        "from sklearn.ensemble import AdaBoostClassifier"
      ],
      "metadata": {
        "id": "5vhrpy2A1bLB"
      },
      "execution_count": 221,
      "outputs": []
    },
    {
      "cell_type": "code",
      "source": [
        "ada = AdaBoostClassifier(n_estimators=3, learning_rate=0.2)"
      ],
      "metadata": {
        "id": "ayOl8TGs1dmo"
      },
      "execution_count": 222,
      "outputs": []
    },
    {
      "cell_type": "code",
      "source": [
        "ada.fit(X_train , y_train)"
      ],
      "metadata": {
        "colab": {
          "base_uri": "https://localhost:8080/",
          "height": 74
        },
        "id": "cRgxF8mA1f-E",
        "outputId": "d71dddc3-2e0f-4642-f542-452b1214d9fc"
      },
      "execution_count": 228,
      "outputs": [
        {
          "output_type": "execute_result",
          "data": {
            "text/plain": [
              "AdaBoostClassifier(learning_rate=0.2, n_estimators=3)"
            ],
            "text/html": [
              "<style>#sk-container-id-11 {color: black;background-color: white;}#sk-container-id-11 pre{padding: 0;}#sk-container-id-11 div.sk-toggleable {background-color: white;}#sk-container-id-11 label.sk-toggleable__label {cursor: pointer;display: block;width: 100%;margin-bottom: 0;padding: 0.3em;box-sizing: border-box;text-align: center;}#sk-container-id-11 label.sk-toggleable__label-arrow:before {content: \"▸\";float: left;margin-right: 0.25em;color: #696969;}#sk-container-id-11 label.sk-toggleable__label-arrow:hover:before {color: black;}#sk-container-id-11 div.sk-estimator:hover label.sk-toggleable__label-arrow:before {color: black;}#sk-container-id-11 div.sk-toggleable__content {max-height: 0;max-width: 0;overflow: hidden;text-align: left;background-color: #f0f8ff;}#sk-container-id-11 div.sk-toggleable__content pre {margin: 0.2em;color: black;border-radius: 0.25em;background-color: #f0f8ff;}#sk-container-id-11 input.sk-toggleable__control:checked~div.sk-toggleable__content {max-height: 200px;max-width: 100%;overflow: auto;}#sk-container-id-11 input.sk-toggleable__control:checked~label.sk-toggleable__label-arrow:before {content: \"▾\";}#sk-container-id-11 div.sk-estimator input.sk-toggleable__control:checked~label.sk-toggleable__label {background-color: #d4ebff;}#sk-container-id-11 div.sk-label input.sk-toggleable__control:checked~label.sk-toggleable__label {background-color: #d4ebff;}#sk-container-id-11 input.sk-hidden--visually {border: 0;clip: rect(1px 1px 1px 1px);clip: rect(1px, 1px, 1px, 1px);height: 1px;margin: -1px;overflow: hidden;padding: 0;position: absolute;width: 1px;}#sk-container-id-11 div.sk-estimator {font-family: monospace;background-color: #f0f8ff;border: 1px dotted black;border-radius: 0.25em;box-sizing: border-box;margin-bottom: 0.5em;}#sk-container-id-11 div.sk-estimator:hover {background-color: #d4ebff;}#sk-container-id-11 div.sk-parallel-item::after {content: \"\";width: 100%;border-bottom: 1px solid gray;flex-grow: 1;}#sk-container-id-11 div.sk-label:hover label.sk-toggleable__label {background-color: #d4ebff;}#sk-container-id-11 div.sk-serial::before {content: \"\";position: absolute;border-left: 1px solid gray;box-sizing: border-box;top: 0;bottom: 0;left: 50%;z-index: 0;}#sk-container-id-11 div.sk-serial {display: flex;flex-direction: column;align-items: center;background-color: white;padding-right: 0.2em;padding-left: 0.2em;position: relative;}#sk-container-id-11 div.sk-item {position: relative;z-index: 1;}#sk-container-id-11 div.sk-parallel {display: flex;align-items: stretch;justify-content: center;background-color: white;position: relative;}#sk-container-id-11 div.sk-item::before, #sk-container-id-11 div.sk-parallel-item::before {content: \"\";position: absolute;border-left: 1px solid gray;box-sizing: border-box;top: 0;bottom: 0;left: 50%;z-index: -1;}#sk-container-id-11 div.sk-parallel-item {display: flex;flex-direction: column;z-index: 1;position: relative;background-color: white;}#sk-container-id-11 div.sk-parallel-item:first-child::after {align-self: flex-end;width: 50%;}#sk-container-id-11 div.sk-parallel-item:last-child::after {align-self: flex-start;width: 50%;}#sk-container-id-11 div.sk-parallel-item:only-child::after {width: 0;}#sk-container-id-11 div.sk-dashed-wrapped {border: 1px dashed gray;margin: 0 0.4em 0.5em 0.4em;box-sizing: border-box;padding-bottom: 0.4em;background-color: white;}#sk-container-id-11 div.sk-label label {font-family: monospace;font-weight: bold;display: inline-block;line-height: 1.2em;}#sk-container-id-11 div.sk-label-container {text-align: center;}#sk-container-id-11 div.sk-container {/* jupyter's `normalize.less` sets `[hidden] { display: none; }` but bootstrap.min.css set `[hidden] { display: none !important; }` so we also need the `!important` here to be able to override the default hidden behavior on the sphinx rendered scikit-learn.org. See: https://github.com/scikit-learn/scikit-learn/issues/21755 */display: inline-block !important;position: relative;}#sk-container-id-11 div.sk-text-repr-fallback {display: none;}</style><div id=\"sk-container-id-11\" class=\"sk-top-container\"><div class=\"sk-text-repr-fallback\"><pre>AdaBoostClassifier(learning_rate=0.2, n_estimators=3)</pre><b>In a Jupyter environment, please rerun this cell to show the HTML representation or trust the notebook. <br />On GitHub, the HTML representation is unable to render, please try loading this page with nbviewer.org.</b></div><div class=\"sk-container\" hidden><div class=\"sk-item\"><div class=\"sk-estimator sk-toggleable\"><input class=\"sk-toggleable__control sk-hidden--visually\" id=\"sk-estimator-id-11\" type=\"checkbox\" checked><label for=\"sk-estimator-id-11\" class=\"sk-toggleable__label sk-toggleable__label-arrow\">AdaBoostClassifier</label><div class=\"sk-toggleable__content\"><pre>AdaBoostClassifier(learning_rate=0.2, n_estimators=3)</pre></div></div></div></div></div>"
            ]
          },
          "metadata": {},
          "execution_count": 228
        }
      ]
    },
    {
      "cell_type": "code",
      "source": [
        "print('Adaboost train accuracy:', ada.score(X_train , y_train))"
      ],
      "metadata": {
        "colab": {
          "base_uri": "https://localhost:8080/"
        },
        "id": "XA8ayBrK14dB",
        "outputId": "1ba83dff-192f-47d6-b45d-d4342f55c10f"
      },
      "execution_count": 229,
      "outputs": [
        {
          "output_type": "stream",
          "name": "stdout",
          "text": [
            "Adaboost train accuracy: 0.824969400244798\n"
          ]
        }
      ]
    },
    {
      "cell_type": "code",
      "source": [
        "print('Adaboost test accuracy:', ada.score(X_test , y_test))"
      ],
      "metadata": {
        "colab": {
          "base_uri": "https://localhost:8080/"
        },
        "id": "oLRNkZJU2A9L",
        "outputId": "5eef7c7a-0644-4547-c52f-905c87b943de"
      },
      "execution_count": 230,
      "outputs": [
        {
          "output_type": "stream",
          "name": "stdout",
          "text": [
            "Adaboost test accuracy: 0.8731707317073171\n"
          ]
        }
      ]
    },
    {
      "cell_type": "markdown",
      "source": [
        "## Ensemble Voting"
      ],
      "metadata": {
        "id": "P1j4VivY2Iqh"
      }
    },
    {
      "cell_type": "code",
      "source": [
        "clf2 = KNeighborsClassifier(n_neighbors=4)\n",
        "clf3 = XGBClassifier(max_depth = 5 , learning_rate = 0.3 , objective = 'binary:logistic' , n_estimators= 5, random_state=42)\n",
        "clf4 = RandomForestClassifier(n_estimators=3 , max_depth=6  , max_features=4)"
      ],
      "metadata": {
        "id": "BlXXXrv-2Hhf"
      },
      "execution_count": 237,
      "outputs": []
    },
    {
      "cell_type": "code",
      "source": [
        "v_clf = VotingClassifier(estimators=[('KNeighborsClassifier' , clf2), (\"XGBClassifier\" , clf3), \n",
        "                                     (\"RandomForestClassifier\" , clf4)] , voting = \"hard\")"
      ],
      "metadata": {
        "id": "8S8t-qj02gs-"
      },
      "execution_count": 239,
      "outputs": []
    },
    {
      "cell_type": "code",
      "source": [
        "v_clf.fit(X_train , y_train)"
      ],
      "metadata": {
        "colab": {
          "base_uri": "https://localhost:8080/",
          "height": 109
        },
        "id": "d-4CgCYa2jZ0",
        "outputId": "ee7a888f-dc2e-4563-86f3-47c798aaf34d"
      },
      "execution_count": 240,
      "outputs": [
        {
          "output_type": "execute_result",
          "data": {
            "text/plain": [
              "VotingClassifier(estimators=[('KNeighborsClassifier',\n",
              "                              KNeighborsClassifier(n_neighbors=4)),\n",
              "                             ('XGBClassifier',\n",
              "                              XGBClassifier(base_score=None, booster=None,\n",
              "                                            callbacks=None,\n",
              "                                            colsample_bylevel=None,\n",
              "                                            colsample_bynode=None,\n",
              "                                            colsample_bytree=None,\n",
              "                                            early_stopping_rounds=None,\n",
              "                                            enable_categorical=False,\n",
              "                                            eval_metric=None,\n",
              "                                            feature_types=None, gamma=None,\n",
              "                                            gpu_id=None, grow_po...\n",
              "                                            learning_rate=0.3, max_bin=None,\n",
              "                                            max_cat_threshold=None,\n",
              "                                            max_cat_to_onehot=None,\n",
              "                                            max_delta_step=None, max_depth=5,\n",
              "                                            max_leaves=None,\n",
              "                                            min_child_weight=None, missing=nan,\n",
              "                                            monotone_constraints=None,\n",
              "                                            n_estimators=5, n_jobs=None,\n",
              "                                            num_parallel_tree=None,\n",
              "                                            predictor=None, random_state=42, ...)),\n",
              "                             ('RandomForestClassifier',\n",
              "                              RandomForestClassifier(max_depth=6,\n",
              "                                                     max_features=4,\n",
              "                                                     n_estimators=3))])"
            ],
            "text/html": [
              "<style>#sk-container-id-13 {color: black;background-color: white;}#sk-container-id-13 pre{padding: 0;}#sk-container-id-13 div.sk-toggleable {background-color: white;}#sk-container-id-13 label.sk-toggleable__label {cursor: pointer;display: block;width: 100%;margin-bottom: 0;padding: 0.3em;box-sizing: border-box;text-align: center;}#sk-container-id-13 label.sk-toggleable__label-arrow:before {content: \"▸\";float: left;margin-right: 0.25em;color: #696969;}#sk-container-id-13 label.sk-toggleable__label-arrow:hover:before {color: black;}#sk-container-id-13 div.sk-estimator:hover label.sk-toggleable__label-arrow:before {color: black;}#sk-container-id-13 div.sk-toggleable__content {max-height: 0;max-width: 0;overflow: hidden;text-align: left;background-color: #f0f8ff;}#sk-container-id-13 div.sk-toggleable__content pre {margin: 0.2em;color: black;border-radius: 0.25em;background-color: #f0f8ff;}#sk-container-id-13 input.sk-toggleable__control:checked~div.sk-toggleable__content {max-height: 200px;max-width: 100%;overflow: auto;}#sk-container-id-13 input.sk-toggleable__control:checked~label.sk-toggleable__label-arrow:before {content: \"▾\";}#sk-container-id-13 div.sk-estimator input.sk-toggleable__control:checked~label.sk-toggleable__label {background-color: #d4ebff;}#sk-container-id-13 div.sk-label input.sk-toggleable__control:checked~label.sk-toggleable__label {background-color: #d4ebff;}#sk-container-id-13 input.sk-hidden--visually {border: 0;clip: rect(1px 1px 1px 1px);clip: rect(1px, 1px, 1px, 1px);height: 1px;margin: -1px;overflow: hidden;padding: 0;position: absolute;width: 1px;}#sk-container-id-13 div.sk-estimator {font-family: monospace;background-color: #f0f8ff;border: 1px dotted black;border-radius: 0.25em;box-sizing: border-box;margin-bottom: 0.5em;}#sk-container-id-13 div.sk-estimator:hover {background-color: #d4ebff;}#sk-container-id-13 div.sk-parallel-item::after {content: \"\";width: 100%;border-bottom: 1px solid gray;flex-grow: 1;}#sk-container-id-13 div.sk-label:hover label.sk-toggleable__label {background-color: #d4ebff;}#sk-container-id-13 div.sk-serial::before {content: \"\";position: absolute;border-left: 1px solid gray;box-sizing: border-box;top: 0;bottom: 0;left: 50%;z-index: 0;}#sk-container-id-13 div.sk-serial {display: flex;flex-direction: column;align-items: center;background-color: white;padding-right: 0.2em;padding-left: 0.2em;position: relative;}#sk-container-id-13 div.sk-item {position: relative;z-index: 1;}#sk-container-id-13 div.sk-parallel {display: flex;align-items: stretch;justify-content: center;background-color: white;position: relative;}#sk-container-id-13 div.sk-item::before, #sk-container-id-13 div.sk-parallel-item::before {content: \"\";position: absolute;border-left: 1px solid gray;box-sizing: border-box;top: 0;bottom: 0;left: 50%;z-index: -1;}#sk-container-id-13 div.sk-parallel-item {display: flex;flex-direction: column;z-index: 1;position: relative;background-color: white;}#sk-container-id-13 div.sk-parallel-item:first-child::after {align-self: flex-end;width: 50%;}#sk-container-id-13 div.sk-parallel-item:last-child::after {align-self: flex-start;width: 50%;}#sk-container-id-13 div.sk-parallel-item:only-child::after {width: 0;}#sk-container-id-13 div.sk-dashed-wrapped {border: 1px dashed gray;margin: 0 0.4em 0.5em 0.4em;box-sizing: border-box;padding-bottom: 0.4em;background-color: white;}#sk-container-id-13 div.sk-label label {font-family: monospace;font-weight: bold;display: inline-block;line-height: 1.2em;}#sk-container-id-13 div.sk-label-container {text-align: center;}#sk-container-id-13 div.sk-container {/* jupyter's `normalize.less` sets `[hidden] { display: none; }` but bootstrap.min.css set `[hidden] { display: none !important; }` so we also need the `!important` here to be able to override the default hidden behavior on the sphinx rendered scikit-learn.org. See: https://github.com/scikit-learn/scikit-learn/issues/21755 */display: inline-block !important;position: relative;}#sk-container-id-13 div.sk-text-repr-fallback {display: none;}</style><div id=\"sk-container-id-13\" class=\"sk-top-container\"><div class=\"sk-text-repr-fallback\"><pre>VotingClassifier(estimators=[(&#x27;KNeighborsClassifier&#x27;,\n",
              "                              KNeighborsClassifier(n_neighbors=4)),\n",
              "                             (&#x27;XGBClassifier&#x27;,\n",
              "                              XGBClassifier(base_score=None, booster=None,\n",
              "                                            callbacks=None,\n",
              "                                            colsample_bylevel=None,\n",
              "                                            colsample_bynode=None,\n",
              "                                            colsample_bytree=None,\n",
              "                                            early_stopping_rounds=None,\n",
              "                                            enable_categorical=False,\n",
              "                                            eval_metric=None,\n",
              "                                            feature_types=None, gamma=None,\n",
              "                                            gpu_id=None, grow_po...\n",
              "                                            learning_rate=0.3, max_bin=None,\n",
              "                                            max_cat_threshold=None,\n",
              "                                            max_cat_to_onehot=None,\n",
              "                                            max_delta_step=None, max_depth=5,\n",
              "                                            max_leaves=None,\n",
              "                                            min_child_weight=None, missing=nan,\n",
              "                                            monotone_constraints=None,\n",
              "                                            n_estimators=5, n_jobs=None,\n",
              "                                            num_parallel_tree=None,\n",
              "                                            predictor=None, random_state=42, ...)),\n",
              "                             (&#x27;RandomForestClassifier&#x27;,\n",
              "                              RandomForestClassifier(max_depth=6,\n",
              "                                                     max_features=4,\n",
              "                                                     n_estimators=3))])</pre><b>In a Jupyter environment, please rerun this cell to show the HTML representation or trust the notebook. <br />On GitHub, the HTML representation is unable to render, please try loading this page with nbviewer.org.</b></div><div class=\"sk-container\" hidden><div class=\"sk-item sk-dashed-wrapped\"><div class=\"sk-label-container\"><div class=\"sk-label sk-toggleable\"><input class=\"sk-toggleable__control sk-hidden--visually\" id=\"sk-estimator-id-17\" type=\"checkbox\" ><label for=\"sk-estimator-id-17\" class=\"sk-toggleable__label sk-toggleable__label-arrow\">VotingClassifier</label><div class=\"sk-toggleable__content\"><pre>VotingClassifier(estimators=[(&#x27;KNeighborsClassifier&#x27;,\n",
              "                              KNeighborsClassifier(n_neighbors=4)),\n",
              "                             (&#x27;XGBClassifier&#x27;,\n",
              "                              XGBClassifier(base_score=None, booster=None,\n",
              "                                            callbacks=None,\n",
              "                                            colsample_bylevel=None,\n",
              "                                            colsample_bynode=None,\n",
              "                                            colsample_bytree=None,\n",
              "                                            early_stopping_rounds=None,\n",
              "                                            enable_categorical=False,\n",
              "                                            eval_metric=None,\n",
              "                                            feature_types=None, gamma=None,\n",
              "                                            gpu_id=None, grow_po...\n",
              "                                            learning_rate=0.3, max_bin=None,\n",
              "                                            max_cat_threshold=None,\n",
              "                                            max_cat_to_onehot=None,\n",
              "                                            max_delta_step=None, max_depth=5,\n",
              "                                            max_leaves=None,\n",
              "                                            min_child_weight=None, missing=nan,\n",
              "                                            monotone_constraints=None,\n",
              "                                            n_estimators=5, n_jobs=None,\n",
              "                                            num_parallel_tree=None,\n",
              "                                            predictor=None, random_state=42, ...)),\n",
              "                             (&#x27;RandomForestClassifier&#x27;,\n",
              "                              RandomForestClassifier(max_depth=6,\n",
              "                                                     max_features=4,\n",
              "                                                     n_estimators=3))])</pre></div></div></div><div class=\"sk-parallel\"><div class=\"sk-parallel-item\"><div class=\"sk-item\"><div class=\"sk-label-container\"><div class=\"sk-label sk-toggleable\"><label>KNeighborsClassifier</label></div></div><div class=\"sk-serial\"><div class=\"sk-item\"><div class=\"sk-estimator sk-toggleable\"><input class=\"sk-toggleable__control sk-hidden--visually\" id=\"sk-estimator-id-18\" type=\"checkbox\" ><label for=\"sk-estimator-id-18\" class=\"sk-toggleable__label sk-toggleable__label-arrow\">KNeighborsClassifier</label><div class=\"sk-toggleable__content\"><pre>KNeighborsClassifier(n_neighbors=4)</pre></div></div></div></div></div></div><div class=\"sk-parallel-item\"><div class=\"sk-item\"><div class=\"sk-label-container\"><div class=\"sk-label sk-toggleable\"><label>XGBClassifier</label></div></div><div class=\"sk-serial\"><div class=\"sk-item\"><div class=\"sk-estimator sk-toggleable\"><input class=\"sk-toggleable__control sk-hidden--visually\" id=\"sk-estimator-id-19\" type=\"checkbox\" ><label for=\"sk-estimator-id-19\" class=\"sk-toggleable__label sk-toggleable__label-arrow\">XGBClassifier</label><div class=\"sk-toggleable__content\"><pre>XGBClassifier(base_score=None, booster=None, callbacks=None,\n",
              "              colsample_bylevel=None, colsample_bynode=None,\n",
              "              colsample_bytree=None, early_stopping_rounds=None,\n",
              "              enable_categorical=False, eval_metric=None, feature_types=None,\n",
              "              gamma=None, gpu_id=None, grow_policy=None, importance_type=None,\n",
              "              interaction_constraints=None, learning_rate=0.3, max_bin=None,\n",
              "              max_cat_threshold=None, max_cat_to_onehot=None,\n",
              "              max_delta_step=None, max_depth=5, max_leaves=None,\n",
              "              min_child_weight=None, missing=nan, monotone_constraints=None,\n",
              "              n_estimators=5, n_jobs=None, num_parallel_tree=None,\n",
              "              predictor=None, random_state=42, ...)</pre></div></div></div></div></div></div><div class=\"sk-parallel-item\"><div class=\"sk-item\"><div class=\"sk-label-container\"><div class=\"sk-label sk-toggleable\"><label>RandomForestClassifier</label></div></div><div class=\"sk-serial\"><div class=\"sk-item\"><div class=\"sk-estimator sk-toggleable\"><input class=\"sk-toggleable__control sk-hidden--visually\" id=\"sk-estimator-id-20\" type=\"checkbox\" ><label for=\"sk-estimator-id-20\" class=\"sk-toggleable__label sk-toggleable__label-arrow\">RandomForestClassifier</label><div class=\"sk-toggleable__content\"><pre>RandomForestClassifier(max_depth=6, max_features=4, n_estimators=3)</pre></div></div></div></div></div></div></div></div></div></div>"
            ]
          },
          "metadata": {},
          "execution_count": 240
        }
      ]
    },
    {
      "cell_type": "code",
      "source": [
        "print('Ensemble voting train accuracy:', v_clf.score(X_train , y_train))"
      ],
      "metadata": {
        "colab": {
          "base_uri": "https://localhost:8080/"
        },
        "id": "o0mkjW012q6p",
        "outputId": "c0622095-2b4d-4945-ec05-770e7edb872b"
      },
      "execution_count": 241,
      "outputs": [
        {
          "output_type": "stream",
          "name": "stdout",
          "text": [
            "Ensemble voting train accuracy: 0.981640146878825\n"
          ]
        }
      ]
    },
    {
      "cell_type": "code",
      "source": [
        "print('Ensemble voting test accuracy:', v_clf.score(X_test , y_test))"
      ],
      "metadata": {
        "colab": {
          "base_uri": "https://localhost:8080/"
        },
        "id": "_cBkHtsJ2tkn",
        "outputId": "5439165a-e087-4d29-bebb-2529afd46fdc"
      },
      "execution_count": 242,
      "outputs": [
        {
          "output_type": "stream",
          "name": "stdout",
          "text": [
            "Ensemble voting test accuracy: 0.926829268292683\n"
          ]
        }
      ]
    },
    {
      "cell_type": "markdown",
      "source": [
        "## Light GBM"
      ],
      "metadata": {
        "id": "GSpz2AVn3HfH"
      }
    },
    {
      "cell_type": "code",
      "source": [
        "from sklearn.metrics import roc_auc_score\n",
        "lgbm_clf = LGBMClassifier(n_estimators=500)\n",
        "evals = [(X_test, y_test)]\n",
        "lgbm_clf.fit(X_train, y_train, early_stopping_rounds=500, eval_metric=\"auc\", eval_set=evals, verbose=True)\n",
        "lgbm_roc_score = roc_auc_score(y_test, lgbm_clf.predict_proba(X_test)[:,1],average='macro')"
      ],
      "metadata": {
        "colab": {
          "base_uri": "https://localhost:8080/"
        },
        "id": "t43XAapX3LXG",
        "outputId": "107fed35-cbd8-49fe-8194-4e1f63c54788"
      },
      "execution_count": 244,
      "outputs": [
        {
          "output_type": "stream",
          "name": "stdout",
          "text": [
            "[1]\tvalid_0's binary_logloss: 0.629367\tvalid_0's auc: 0.967099\n",
            "Training until validation scores don't improve for 500 rounds.\n",
            "[2]\tvalid_0's binary_logloss: 0.577726\tvalid_0's auc: 0.969245\n",
            "[3]\tvalid_0's binary_logloss: 0.532885\tvalid_0's auc: 0.973155\n",
            "[4]\tvalid_0's binary_logloss: 0.498033\tvalid_0's auc: 0.97139\n",
            "[5]\tvalid_0's binary_logloss: 0.46191\tvalid_0's auc: 0.971724\n",
            "[6]\tvalid_0's binary_logloss: 0.436824\tvalid_0's auc: 0.973298\n",
            "[7]\tvalid_0's binary_logloss: 0.410291\tvalid_0's auc: 0.974347\n",
            "[8]\tvalid_0's binary_logloss: 0.389107\tvalid_0's auc: 0.97573\n",
            "[9]\tvalid_0's binary_logloss: 0.369844\tvalid_0's auc: 0.976063\n",
            "[10]\tvalid_0's binary_logloss: 0.348428\tvalid_0's auc: 0.977446\n",
            "[11]\tvalid_0's binary_logloss: 0.332129\tvalid_0's auc: 0.979926\n",
            "[12]\tvalid_0's binary_logloss: 0.314851\tvalid_0's auc: 0.982024\n",
            "[13]\tvalid_0's binary_logloss: 0.301462\tvalid_0's auc: 0.983168\n",
            "[14]\tvalid_0's binary_logloss: 0.288902\tvalid_0's auc: 0.982834\n",
            "[15]\tvalid_0's binary_logloss: 0.277126\tvalid_0's auc: 0.984742\n",
            "[16]\tvalid_0's binary_logloss: 0.266508\tvalid_0's auc: 0.984742\n",
            "[17]\tvalid_0's binary_logloss: 0.254188\tvalid_0's auc: 0.985791\n",
            "[18]\tvalid_0's binary_logloss: 0.244512\tvalid_0's auc: 0.98684\n",
            "[19]\tvalid_0's binary_logloss: 0.232734\tvalid_0's auc: 0.989319\n",
            "[20]\tvalid_0's binary_logloss: 0.223304\tvalid_0's auc: 0.990368\n",
            "[21]\tvalid_0's binary_logloss: 0.212033\tvalid_0's auc: 0.99218\n",
            "[22]\tvalid_0's binary_logloss: 0.203778\tvalid_0's auc: 0.99342\n",
            "[23]\tvalid_0's binary_logloss: 0.195392\tvalid_0's auc: 0.994183\n",
            "[24]\tvalid_0's binary_logloss: 0.188342\tvalid_0's auc: 0.994469\n",
            "[25]\tvalid_0's binary_logloss: 0.179206\tvalid_0's auc: 0.996758\n",
            "[26]\tvalid_0's binary_logloss: 0.171264\tvalid_0's auc: 0.996662\n",
            "[27]\tvalid_0's binary_logloss: 0.163047\tvalid_0's auc: 0.998283\n",
            "[28]\tvalid_0's binary_logloss: 0.156377\tvalid_0's auc: 0.998856\n",
            "[29]\tvalid_0's binary_logloss: 0.148205\tvalid_0's auc: 0.999142\n",
            "[30]\tvalid_0's binary_logloss: 0.143439\tvalid_0's auc: 0.999237\n",
            "[31]\tvalid_0's binary_logloss: 0.137084\tvalid_0's auc: 0.999809\n",
            "[32]\tvalid_0's binary_logloss: 0.133059\tvalid_0's auc: 0.999905\n",
            "[33]\tvalid_0's binary_logloss: 0.1282\tvalid_0's auc: 0.999905\n",
            "[34]\tvalid_0's binary_logloss: 0.122983\tvalid_0's auc: 1\n",
            "[35]\tvalid_0's binary_logloss: 0.118321\tvalid_0's auc: 1\n",
            "[36]\tvalid_0's binary_logloss: 0.112927\tvalid_0's auc: 1\n",
            "[37]\tvalid_0's binary_logloss: 0.107972\tvalid_0's auc: 1\n",
            "[38]\tvalid_0's binary_logloss: 0.102697\tvalid_0's auc: 1\n",
            "[39]\tvalid_0's binary_logloss: 0.0989057\tvalid_0's auc: 1\n",
            "[40]\tvalid_0's binary_logloss: 0.0946979\tvalid_0's auc: 1\n",
            "[41]\tvalid_0's binary_logloss: 0.0901353\tvalid_0's auc: 1\n",
            "[42]\tvalid_0's binary_logloss: 0.0868051\tvalid_0's auc: 1\n",
            "[43]\tvalid_0's binary_logloss: 0.083265\tvalid_0's auc: 1\n",
            "[44]\tvalid_0's binary_logloss: 0.0798733\tvalid_0's auc: 1\n",
            "[45]\tvalid_0's binary_logloss: 0.0766801\tvalid_0's auc: 1\n",
            "[46]\tvalid_0's binary_logloss: 0.0745222\tvalid_0's auc: 1\n",
            "[47]\tvalid_0's binary_logloss: 0.071976\tvalid_0's auc: 1\n",
            "[48]\tvalid_0's binary_logloss: 0.0690866\tvalid_0's auc: 1\n",
            "[49]\tvalid_0's binary_logloss: 0.0666399\tvalid_0's auc: 1\n",
            "[50]\tvalid_0's binary_logloss: 0.063818\tvalid_0's auc: 1\n",
            "[51]\tvalid_0's binary_logloss: 0.0606423\tvalid_0's auc: 1\n",
            "[52]\tvalid_0's binary_logloss: 0.0583924\tvalid_0's auc: 1\n",
            "[53]\tvalid_0's binary_logloss: 0.055188\tvalid_0's auc: 1\n",
            "[54]\tvalid_0's binary_logloss: 0.0525631\tvalid_0's auc: 1\n",
            "[55]\tvalid_0's binary_logloss: 0.0502638\tvalid_0's auc: 1\n",
            "[56]\tvalid_0's binary_logloss: 0.0480608\tvalid_0's auc: 1\n",
            "[57]\tvalid_0's binary_logloss: 0.0464651\tvalid_0's auc: 1\n",
            "[58]\tvalid_0's binary_logloss: 0.0445956\tvalid_0's auc: 1\n",
            "[59]\tvalid_0's binary_logloss: 0.0430425\tvalid_0's auc: 1\n",
            "[60]\tvalid_0's binary_logloss: 0.04152\tvalid_0's auc: 1\n",
            "[61]\tvalid_0's binary_logloss: 0.0395743\tvalid_0's auc: 1\n",
            "[62]\tvalid_0's binary_logloss: 0.0382154\tvalid_0's auc: 1\n",
            "[63]\tvalid_0's binary_logloss: 0.0370501\tvalid_0's auc: 1\n",
            "[64]\tvalid_0's binary_logloss: 0.0358311\tvalid_0's auc: 1\n",
            "[65]\tvalid_0's binary_logloss: 0.0340138\tvalid_0's auc: 1\n",
            "[66]\tvalid_0's binary_logloss: 0.0329225\tvalid_0's auc: 1\n",
            "[67]\tvalid_0's binary_logloss: 0.0314327\tvalid_0's auc: 1\n",
            "[68]\tvalid_0's binary_logloss: 0.0298165\tvalid_0's auc: 1\n",
            "[69]\tvalid_0's binary_logloss: 0.0287309\tvalid_0's auc: 1\n",
            "[70]\tvalid_0's binary_logloss: 0.0278599\tvalid_0's auc: 1\n",
            "[71]\tvalid_0's binary_logloss: 0.0269536\tvalid_0's auc: 1\n",
            "[72]\tvalid_0's binary_logloss: 0.0260395\tvalid_0's auc: 1\n",
            "[73]\tvalid_0's binary_logloss: 0.0249618\tvalid_0's auc: 1\n",
            "[74]\tvalid_0's binary_logloss: 0.0239271\tvalid_0's auc: 1\n",
            "[75]\tvalid_0's binary_logloss: 0.0230161\tvalid_0's auc: 1\n",
            "[76]\tvalid_0's binary_logloss: 0.0222733\tvalid_0's auc: 1\n",
            "[77]\tvalid_0's binary_logloss: 0.0217534\tvalid_0's auc: 1\n",
            "[78]\tvalid_0's binary_logloss: 0.0206637\tvalid_0's auc: 1\n",
            "[79]\tvalid_0's binary_logloss: 0.0199427\tvalid_0's auc: 1\n",
            "[80]\tvalid_0's binary_logloss: 0.0192356\tvalid_0's auc: 1\n",
            "[81]\tvalid_0's binary_logloss: 0.0182585\tvalid_0's auc: 1\n",
            "[82]\tvalid_0's binary_logloss: 0.0173885\tvalid_0's auc: 1\n",
            "[83]\tvalid_0's binary_logloss: 0.0166101\tvalid_0's auc: 1\n",
            "[84]\tvalid_0's binary_logloss: 0.0156854\tvalid_0's auc: 1\n",
            "[85]\tvalid_0's binary_logloss: 0.0151091\tvalid_0's auc: 1\n",
            "[86]\tvalid_0's binary_logloss: 0.0144216\tvalid_0's auc: 1\n",
            "[87]\tvalid_0's binary_logloss: 0.0136321\tvalid_0's auc: 1\n",
            "[88]\tvalid_0's binary_logloss: 0.012971\tvalid_0's auc: 1\n",
            "[89]\tvalid_0's binary_logloss: 0.0127847\tvalid_0's auc: 1\n",
            "[90]\tvalid_0's binary_logloss: 0.0122416\tvalid_0's auc: 1\n",
            "[91]\tvalid_0's binary_logloss: 0.0120688\tvalid_0's auc: 1\n",
            "[92]\tvalid_0's binary_logloss: 0.0115975\tvalid_0's auc: 1\n",
            "[93]\tvalid_0's binary_logloss: 0.0111495\tvalid_0's auc: 1\n",
            "[94]\tvalid_0's binary_logloss: 0.0110904\tvalid_0's auc: 1\n",
            "[95]\tvalid_0's binary_logloss: 0.0104417\tvalid_0's auc: 1\n",
            "[96]\tvalid_0's binary_logloss: 0.0100775\tvalid_0's auc: 1\n",
            "[97]\tvalid_0's binary_logloss: 0.00996534\tvalid_0's auc: 1\n",
            "[98]\tvalid_0's binary_logloss: 0.00962908\tvalid_0's auc: 1\n",
            "[99]\tvalid_0's binary_logloss: 0.00937415\tvalid_0's auc: 1\n",
            "[100]\tvalid_0's binary_logloss: 0.00883951\tvalid_0's auc: 1\n",
            "[101]\tvalid_0's binary_logloss: 0.00839995\tvalid_0's auc: 1\n",
            "[102]\tvalid_0's binary_logloss: 0.00819071\tvalid_0's auc: 1\n",
            "[103]\tvalid_0's binary_logloss: 0.00797333\tvalid_0's auc: 1\n",
            "[104]\tvalid_0's binary_logloss: 0.00795401\tvalid_0's auc: 1\n",
            "[105]\tvalid_0's binary_logloss: 0.00754403\tvalid_0's auc: 1\n",
            "[106]\tvalid_0's binary_logloss: 0.0075971\tvalid_0's auc: 1\n",
            "[107]\tvalid_0's binary_logloss: 0.00724303\tvalid_0's auc: 1\n",
            "[108]\tvalid_0's binary_logloss: 0.00709845\tvalid_0's auc: 1\n",
            "[109]\tvalid_0's binary_logloss: 0.00675777\tvalid_0's auc: 1\n",
            "[110]\tvalid_0's binary_logloss: 0.0065685\tvalid_0's auc: 1\n",
            "[111]\tvalid_0's binary_logloss: 0.00646309\tvalid_0's auc: 1\n",
            "[112]\tvalid_0's binary_logloss: 0.00641445\tvalid_0's auc: 1\n",
            "[113]\tvalid_0's binary_logloss: 0.00628334\tvalid_0's auc: 1\n",
            "[114]\tvalid_0's binary_logloss: 0.00587623\tvalid_0's auc: 1\n",
            "[115]\tvalid_0's binary_logloss: 0.00564321\tvalid_0's auc: 1\n",
            "[116]\tvalid_0's binary_logloss: 0.00527731\tvalid_0's auc: 1\n",
            "[117]\tvalid_0's binary_logloss: 0.00503015\tvalid_0's auc: 1\n",
            "[118]\tvalid_0's binary_logloss: 0.0050918\tvalid_0's auc: 1\n",
            "[119]\tvalid_0's binary_logloss: 0.00496973\tvalid_0's auc: 1\n",
            "[120]\tvalid_0's binary_logloss: 0.00487075\tvalid_0's auc: 1\n",
            "[121]\tvalid_0's binary_logloss: 0.00455712\tvalid_0's auc: 1\n",
            "[122]\tvalid_0's binary_logloss: 0.00445819\tvalid_0's auc: 1\n",
            "[123]\tvalid_0's binary_logloss: 0.00455102\tvalid_0's auc: 1\n",
            "[124]\tvalid_0's binary_logloss: 0.00423998\tvalid_0's auc: 1\n",
            "[125]\tvalid_0's binary_logloss: 0.00417428\tvalid_0's auc: 1\n",
            "[126]\tvalid_0's binary_logloss: 0.00419044\tvalid_0's auc: 1\n",
            "[127]\tvalid_0's binary_logloss: 0.00411814\tvalid_0's auc: 1\n",
            "[128]\tvalid_0's binary_logloss: 0.00393541\tvalid_0's auc: 1\n",
            "[129]\tvalid_0's binary_logloss: 0.00365381\tvalid_0's auc: 1\n",
            "[130]\tvalid_0's binary_logloss: 0.003393\tvalid_0's auc: 1\n",
            "[131]\tvalid_0's binary_logloss: 0.00349211\tvalid_0's auc: 1\n",
            "[132]\tvalid_0's binary_logloss: 0.00332782\tvalid_0's auc: 1\n",
            "[133]\tvalid_0's binary_logloss: 0.00326908\tvalid_0's auc: 1\n",
            "[134]\tvalid_0's binary_logloss: 0.00320042\tvalid_0's auc: 1\n",
            "[135]\tvalid_0's binary_logloss: 0.00314485\tvalid_0's auc: 1\n",
            "[136]\tvalid_0's binary_logloss: 0.00291206\tvalid_0's auc: 1\n",
            "[137]\tvalid_0's binary_logloss: 0.00269285\tvalid_0's auc: 1\n",
            "[138]\tvalid_0's binary_logloss: 0.00254565\tvalid_0's auc: 1\n",
            "[139]\tvalid_0's binary_logloss: 0.00249465\tvalid_0's auc: 1\n",
            "[140]\tvalid_0's binary_logloss: 0.0025268\tvalid_0's auc: 1\n",
            "[141]\tvalid_0's binary_logloss: 0.00249366\tvalid_0's auc: 1\n",
            "[142]\tvalid_0's binary_logloss: 0.0024252\tvalid_0's auc: 1\n",
            "[143]\tvalid_0's binary_logloss: 0.00242157\tvalid_0's auc: 1\n",
            "[144]\tvalid_0's binary_logloss: 0.00238484\tvalid_0's auc: 1\n",
            "[145]\tvalid_0's binary_logloss: 0.00236589\tvalid_0's auc: 1\n",
            "[146]\tvalid_0's binary_logloss: 0.00222916\tvalid_0's auc: 1\n",
            "[147]\tvalid_0's binary_logloss: 0.00209762\tvalid_0's auc: 1\n",
            "[148]\tvalid_0's binary_logloss: 0.00196559\tvalid_0's auc: 1\n",
            "[149]\tvalid_0's binary_logloss: 0.00184893\tvalid_0's auc: 1\n",
            "[150]\tvalid_0's binary_logloss: 0.00174287\tvalid_0's auc: 1\n",
            "[151]\tvalid_0's binary_logloss: 0.00170909\tvalid_0's auc: 1\n",
            "[152]\tvalid_0's binary_logloss: 0.0016095\tvalid_0's auc: 1\n",
            "[153]\tvalid_0's binary_logloss: 0.00160176\tvalid_0's auc: 1\n",
            "[154]\tvalid_0's binary_logloss: 0.00160772\tvalid_0's auc: 1\n",
            "[155]\tvalid_0's binary_logloss: 0.00152289\tvalid_0's auc: 1\n",
            "[156]\tvalid_0's binary_logloss: 0.00144226\tvalid_0's auc: 1\n",
            "[157]\tvalid_0's binary_logloss: 0.00135969\tvalid_0's auc: 1\n",
            "[158]\tvalid_0's binary_logloss: 0.00125015\tvalid_0's auc: 1\n",
            "[159]\tvalid_0's binary_logloss: 0.00120282\tvalid_0's auc: 1\n",
            "[160]\tvalid_0's binary_logloss: 0.00113152\tvalid_0's auc: 1\n",
            "[161]\tvalid_0's binary_logloss: 0.00106324\tvalid_0's auc: 1\n",
            "[162]\tvalid_0's binary_logloss: 0.00100392\tvalid_0's auc: 1\n",
            "[163]\tvalid_0's binary_logloss: 0.00101724\tvalid_0's auc: 1\n",
            "[164]\tvalid_0's binary_logloss: 0.000969371\tvalid_0's auc: 1\n",
            "[165]\tvalid_0's binary_logloss: 0.000975661\tvalid_0's auc: 1\n",
            "[166]\tvalid_0's binary_logloss: 0.000933681\tvalid_0's auc: 1\n",
            "[167]\tvalid_0's binary_logloss: 0.000858679\tvalid_0's auc: 1\n",
            "[168]\tvalid_0's binary_logloss: 0.000795065\tvalid_0's auc: 1\n",
            "[169]\tvalid_0's binary_logloss: 0.000732943\tvalid_0's auc: 1\n",
            "[170]\tvalid_0's binary_logloss: 0.000730682\tvalid_0's auc: 1\n",
            "[171]\tvalid_0's binary_logloss: 0.000769713\tvalid_0's auc: 1\n",
            "[172]\tvalid_0's binary_logloss: 0.000726096\tvalid_0's auc: 1\n",
            "[173]\tvalid_0's binary_logloss: 0.000729293\tvalid_0's auc: 1\n",
            "[174]\tvalid_0's binary_logloss: 0.000728306\tvalid_0's auc: 1\n",
            "[175]\tvalid_0's binary_logloss: 0.000726237\tvalid_0's auc: 1\n",
            "[176]\tvalid_0's binary_logloss: 0.000667084\tvalid_0's auc: 1\n",
            "[177]\tvalid_0's binary_logloss: 0.000660344\tvalid_0's auc: 1\n",
            "[178]\tvalid_0's binary_logloss: 0.000644109\tvalid_0's auc: 1\n",
            "[179]\tvalid_0's binary_logloss: 0.000660943\tvalid_0's auc: 1\n",
            "[180]\tvalid_0's binary_logloss: 0.000608473\tvalid_0's auc: 1\n",
            "[181]\tvalid_0's binary_logloss: 0.000593321\tvalid_0's auc: 1\n",
            "[182]\tvalid_0's binary_logloss: 0.000554517\tvalid_0's auc: 1\n",
            "[183]\tvalid_0's binary_logloss: 0.000543358\tvalid_0's auc: 1\n",
            "[184]\tvalid_0's binary_logloss: 0.00051537\tvalid_0's auc: 1\n",
            "[185]\tvalid_0's binary_logloss: 0.000485127\tvalid_0's auc: 1\n",
            "[186]\tvalid_0's binary_logloss: 0.000485229\tvalid_0's auc: 1\n",
            "[187]\tvalid_0's binary_logloss: 0.000459878\tvalid_0's auc: 1\n",
            "[188]\tvalid_0's binary_logloss: 0.000483842\tvalid_0's auc: 1\n",
            "[189]\tvalid_0's binary_logloss: 0.000444746\tvalid_0's auc: 1\n",
            "[190]\tvalid_0's binary_logloss: 0.00044728\tvalid_0's auc: 1\n",
            "[191]\tvalid_0's binary_logloss: 0.00042083\tvalid_0's auc: 1\n",
            "[192]\tvalid_0's binary_logloss: 0.000422681\tvalid_0's auc: 1\n",
            "[193]\tvalid_0's binary_logloss: 0.000400763\tvalid_0's auc: 1\n",
            "[194]\tvalid_0's binary_logloss: 0.000396623\tvalid_0's auc: 1\n",
            "[195]\tvalid_0's binary_logloss: 0.000363615\tvalid_0's auc: 1\n",
            "[196]\tvalid_0's binary_logloss: 0.000351166\tvalid_0's auc: 1\n",
            "[197]\tvalid_0's binary_logloss: 0.000334112\tvalid_0's auc: 1\n",
            "[198]\tvalid_0's binary_logloss: 0.000333307\tvalid_0's auc: 1\n",
            "[199]\tvalid_0's binary_logloss: 0.000329614\tvalid_0's auc: 1\n",
            "[200]\tvalid_0's binary_logloss: 0.000348726\tvalid_0's auc: 1\n",
            "[201]\tvalid_0's binary_logloss: 0.000358698\tvalid_0's auc: 1\n",
            "[202]\tvalid_0's binary_logloss: 0.000359009\tvalid_0's auc: 1\n",
            "[203]\tvalid_0's binary_logloss: 0.000338756\tvalid_0's auc: 1\n",
            "[204]\tvalid_0's binary_logloss: 0.000317444\tvalid_0's auc: 1\n",
            "[205]\tvalid_0's binary_logloss: 0.000298028\tvalid_0's auc: 1\n",
            "[206]\tvalid_0's binary_logloss: 0.000298353\tvalid_0's auc: 1\n",
            "[207]\tvalid_0's binary_logloss: 0.000307145\tvalid_0's auc: 1\n",
            "[208]\tvalid_0's binary_logloss: 0.000294725\tvalid_0's auc: 1\n",
            "[209]\tvalid_0's binary_logloss: 0.000276706\tvalid_0's auc: 1\n",
            "[210]\tvalid_0's binary_logloss: 0.00026004\tvalid_0's auc: 1\n",
            "[211]\tvalid_0's binary_logloss: 0.000266889\tvalid_0's auc: 1\n",
            "[212]\tvalid_0's binary_logloss: 0.000273902\tvalid_0's auc: 1\n",
            "[213]\tvalid_0's binary_logloss: 0.000257224\tvalid_0's auc: 1\n",
            "[214]\tvalid_0's binary_logloss: 0.000267879\tvalid_0's auc: 1\n",
            "[215]\tvalid_0's binary_logloss: 0.000280279\tvalid_0's auc: 1\n",
            "[216]\tvalid_0's binary_logloss: 0.000259622\tvalid_0's auc: 1\n",
            "[217]\tvalid_0's binary_logloss: 0.00026803\tvalid_0's auc: 1\n",
            "[218]\tvalid_0's binary_logloss: 0.000261422\tvalid_0's auc: 1\n",
            "[219]\tvalid_0's binary_logloss: 0.000269466\tvalid_0's auc: 1\n",
            "[220]\tvalid_0's binary_logloss: 0.000268654\tvalid_0's auc: 1\n",
            "[221]\tvalid_0's binary_logloss: 0.000267638\tvalid_0's auc: 1\n",
            "[222]\tvalid_0's binary_logloss: 0.000279631\tvalid_0's auc: 1\n",
            "[223]\tvalid_0's binary_logloss: 0.000275134\tvalid_0's auc: 1\n",
            "[224]\tvalid_0's binary_logloss: 0.000266611\tvalid_0's auc: 1\n",
            "[225]\tvalid_0's binary_logloss: 0.000275331\tvalid_0's auc: 1\n",
            "[226]\tvalid_0's binary_logloss: 0.000263248\tvalid_0's auc: 1\n",
            "[227]\tvalid_0's binary_logloss: 0.00027441\tvalid_0's auc: 1\n",
            "[228]\tvalid_0's binary_logloss: 0.000264527\tvalid_0's auc: 1\n",
            "[229]\tvalid_0's binary_logloss: 0.000272597\tvalid_0's auc: 1\n",
            "[230]\tvalid_0's binary_logloss: 0.000281889\tvalid_0's auc: 1\n",
            "[231]\tvalid_0's binary_logloss: 0.000296987\tvalid_0's auc: 1\n",
            "[232]\tvalid_0's binary_logloss: 0.000312741\tvalid_0's auc: 1\n",
            "[233]\tvalid_0's binary_logloss: 0.000321937\tvalid_0's auc: 1\n",
            "[234]\tvalid_0's binary_logloss: 0.000306507\tvalid_0's auc: 1\n",
            "[235]\tvalid_0's binary_logloss: 0.000316286\tvalid_0's auc: 1\n",
            "[236]\tvalid_0's binary_logloss: 0.000317482\tvalid_0's auc: 1\n",
            "[237]\tvalid_0's binary_logloss: 0.000340298\tvalid_0's auc: 1\n",
            "[238]\tvalid_0's binary_logloss: 0.000357962\tvalid_0's auc: 1\n",
            "[239]\tvalid_0's binary_logloss: 0.000338136\tvalid_0's auc: 1\n",
            "[240]\tvalid_0's binary_logloss: 0.000323222\tvalid_0's auc: 1\n",
            "[241]\tvalid_0's binary_logloss: 0.000332862\tvalid_0's auc: 1\n",
            "[242]\tvalid_0's binary_logloss: 0.000317791\tvalid_0's auc: 1\n",
            "[243]\tvalid_0's binary_logloss: 0.00033288\tvalid_0's auc: 1\n",
            "[244]\tvalid_0's binary_logloss: 0.000324604\tvalid_0's auc: 1\n",
            "[245]\tvalid_0's binary_logloss: 0.000318525\tvalid_0's auc: 1\n",
            "[246]\tvalid_0's binary_logloss: 0.000328159\tvalid_0's auc: 1\n",
            "[247]\tvalid_0's binary_logloss: 0.000342012\tvalid_0's auc: 1\n",
            "[248]\tvalid_0's binary_logloss: 0.000339004\tvalid_0's auc: 1\n",
            "[249]\tvalid_0's binary_logloss: 0.00032407\tvalid_0's auc: 1\n",
            "[250]\tvalid_0's binary_logloss: 0.000320709\tvalid_0's auc: 1\n",
            "[251]\tvalid_0's binary_logloss: 0.00030735\tvalid_0's auc: 1\n",
            "[252]\tvalid_0's binary_logloss: 0.000322051\tvalid_0's auc: 1\n",
            "[253]\tvalid_0's binary_logloss: 0.000338495\tvalid_0's auc: 1\n",
            "[254]\tvalid_0's binary_logloss: 0.000320881\tvalid_0's auc: 1\n",
            "[255]\tvalid_0's binary_logloss: 0.000333994\tvalid_0's auc: 1\n",
            "[256]\tvalid_0's binary_logloss: 0.000318392\tvalid_0's auc: 1\n",
            "[257]\tvalid_0's binary_logloss: 0.0003279\tvalid_0's auc: 1\n",
            "[258]\tvalid_0's binary_logloss: 0.000317366\tvalid_0's auc: 1\n",
            "[259]\tvalid_0's binary_logloss: 0.000314631\tvalid_0's auc: 1\n",
            "[260]\tvalid_0's binary_logloss: 0.000317688\tvalid_0's auc: 1\n",
            "[261]\tvalid_0's binary_logloss: 0.000326483\tvalid_0's auc: 1\n",
            "[262]\tvalid_0's binary_logloss: 0.000335862\tvalid_0's auc: 1\n",
            "[263]\tvalid_0's binary_logloss: 0.000336221\tvalid_0's auc: 1\n",
            "[264]\tvalid_0's binary_logloss: 0.000343724\tvalid_0's auc: 1\n",
            "[265]\tvalid_0's binary_logloss: 0.000351608\tvalid_0's auc: 1\n",
            "[266]\tvalid_0's binary_logloss: 0.000346151\tvalid_0's auc: 1\n",
            "[267]\tvalid_0's binary_logloss: 0.000331848\tvalid_0's auc: 1\n",
            "[268]\tvalid_0's binary_logloss: 0.000339373\tvalid_0's auc: 1\n",
            "[269]\tvalid_0's binary_logloss: 0.000328918\tvalid_0's auc: 1\n",
            "[270]\tvalid_0's binary_logloss: 0.000336174\tvalid_0's auc: 1\n",
            "[271]\tvalid_0's binary_logloss: 0.000344678\tvalid_0's auc: 1\n",
            "[272]\tvalid_0's binary_logloss: 0.000352114\tvalid_0's auc: 1\n",
            "[273]\tvalid_0's binary_logloss: 0.000338341\tvalid_0's auc: 1\n",
            "[274]\tvalid_0's binary_logloss: 0.000330076\tvalid_0's auc: 1\n",
            "[275]\tvalid_0's binary_logloss: 0.000329039\tvalid_0's auc: 1\n",
            "[276]\tvalid_0's binary_logloss: 0.000315851\tvalid_0's auc: 1\n",
            "[277]\tvalid_0's binary_logloss: 0.000303472\tvalid_0's auc: 1\n",
            "[278]\tvalid_0's binary_logloss: 0.000298856\tvalid_0's auc: 1\n",
            "[279]\tvalid_0's binary_logloss: 0.00028649\tvalid_0's auc: 1\n",
            "[280]\tvalid_0's binary_logloss: 0.000292968\tvalid_0's auc: 1\n",
            "[281]\tvalid_0's binary_logloss: 0.000296764\tvalid_0's auc: 1\n",
            "[282]\tvalid_0's binary_logloss: 0.000284154\tvalid_0's auc: 1\n",
            "[283]\tvalid_0's binary_logloss: 0.000292785\tvalid_0's auc: 1\n",
            "[284]\tvalid_0's binary_logloss: 0.000294336\tvalid_0's auc: 1\n",
            "[285]\tvalid_0's binary_logloss: 0.000284076\tvalid_0's auc: 1\n",
            "[286]\tvalid_0's binary_logloss: 0.000290132\tvalid_0's auc: 1\n",
            "[287]\tvalid_0's binary_logloss: 0.000294441\tvalid_0's auc: 1\n",
            "[288]\tvalid_0's binary_logloss: 0.000287166\tvalid_0's auc: 1\n",
            "[289]\tvalid_0's binary_logloss: 0.000290893\tvalid_0's auc: 1\n",
            "[290]\tvalid_0's binary_logloss: 0.00028058\tvalid_0's auc: 1\n",
            "[291]\tvalid_0's binary_logloss: 0.00027321\tvalid_0's auc: 1\n",
            "[292]\tvalid_0's binary_logloss: 0.000278126\tvalid_0's auc: 1\n",
            "[293]\tvalid_0's binary_logloss: 0.000274073\tvalid_0's auc: 1\n",
            "[294]\tvalid_0's binary_logloss: 0.000282421\tvalid_0's auc: 1\n",
            "[295]\tvalid_0's binary_logloss: 0.000282589\tvalid_0's auc: 1\n",
            "[296]\tvalid_0's binary_logloss: 0.000280444\tvalid_0's auc: 1\n",
            "[297]\tvalid_0's binary_logloss: 0.000272612\tvalid_0's auc: 1\n",
            "[298]\tvalid_0's binary_logloss: 0.000275968\tvalid_0's auc: 1\n",
            "[299]\tvalid_0's binary_logloss: 0.000281414\tvalid_0's auc: 1\n",
            "[300]\tvalid_0's binary_logloss: 0.000277589\tvalid_0's auc: 1\n",
            "[301]\tvalid_0's binary_logloss: 0.000267984\tvalid_0's auc: 1\n",
            "[302]\tvalid_0's binary_logloss: 0.000271015\tvalid_0's auc: 1\n",
            "[303]\tvalid_0's binary_logloss: 0.000275534\tvalid_0's auc: 1\n",
            "[304]\tvalid_0's binary_logloss: 0.000283644\tvalid_0's auc: 1\n",
            "[305]\tvalid_0's binary_logloss: 0.000283677\tvalid_0's auc: 1\n",
            "[306]\tvalid_0's binary_logloss: 0.00027926\tvalid_0's auc: 1\n",
            "[307]\tvalid_0's binary_logloss: 0.000270207\tvalid_0's auc: 1\n",
            "[308]\tvalid_0's binary_logloss: 0.000261298\tvalid_0's auc: 1\n",
            "[309]\tvalid_0's binary_logloss: 0.000255121\tvalid_0's auc: 1\n",
            "[310]\tvalid_0's binary_logloss: 0.000249661\tvalid_0's auc: 1\n",
            "[311]\tvalid_0's binary_logloss: 0.000252198\tvalid_0's auc: 1\n",
            "[312]\tvalid_0's binary_logloss: 0.000256193\tvalid_0's auc: 1\n",
            "[313]\tvalid_0's binary_logloss: 0.000253812\tvalid_0's auc: 1\n",
            "[314]\tvalid_0's binary_logloss: 0.000250771\tvalid_0's auc: 1\n",
            "[315]\tvalid_0's binary_logloss: 0.000243046\tvalid_0's auc: 1\n",
            "[316]\tvalid_0's binary_logloss: 0.000237185\tvalid_0's auc: 1\n",
            "[317]\tvalid_0's binary_logloss: 0.000232245\tvalid_0's auc: 1\n",
            "[318]\tvalid_0's binary_logloss: 0.000226715\tvalid_0's auc: 1\n",
            "[319]\tvalid_0's binary_logloss: 0.000220216\tvalid_0's auc: 1\n",
            "[320]\tvalid_0's binary_logloss: 0.000215309\tvalid_0's auc: 1\n",
            "[321]\tvalid_0's binary_logloss: 0.00021436\tvalid_0's auc: 1\n",
            "[322]\tvalid_0's binary_logloss: 0.000209877\tvalid_0's auc: 1\n",
            "[323]\tvalid_0's binary_logloss: 0.000214905\tvalid_0's auc: 1\n",
            "[324]\tvalid_0's binary_logloss: 0.000218177\tvalid_0's auc: 1\n",
            "[325]\tvalid_0's binary_logloss: 0.000213652\tvalid_0's auc: 1\n",
            "[326]\tvalid_0's binary_logloss: 0.000211098\tvalid_0's auc: 1\n",
            "[327]\tvalid_0's binary_logloss: 0.000211691\tvalid_0's auc: 1\n",
            "[328]\tvalid_0's binary_logloss: 0.000211314\tvalid_0's auc: 1\n",
            "[329]\tvalid_0's binary_logloss: 0.000205768\tvalid_0's auc: 1\n",
            "[330]\tvalid_0's binary_logloss: 0.000208739\tvalid_0's auc: 1\n",
            "[331]\tvalid_0's binary_logloss: 0.000205569\tvalid_0's auc: 1\n",
            "[332]\tvalid_0's binary_logloss: 0.000209902\tvalid_0's auc: 1\n",
            "[333]\tvalid_0's binary_logloss: 0.000207474\tvalid_0's auc: 1\n",
            "[334]\tvalid_0's binary_logloss: 0.000202324\tvalid_0's auc: 1\n",
            "[335]\tvalid_0's binary_logloss: 0.000199068\tvalid_0's auc: 1\n",
            "[336]\tvalid_0's binary_logloss: 0.000197463\tvalid_0's auc: 1\n",
            "[337]\tvalid_0's binary_logloss: 0.000201271\tvalid_0's auc: 1\n",
            "[338]\tvalid_0's binary_logloss: 0.000205289\tvalid_0's auc: 1\n",
            "[339]\tvalid_0's binary_logloss: 0.000207574\tvalid_0's auc: 1\n",
            "[340]\tvalid_0's binary_logloss: 0.000201941\tvalid_0's auc: 1\n",
            "[341]\tvalid_0's binary_logloss: 0.000206924\tvalid_0's auc: 1\n",
            "[342]\tvalid_0's binary_logloss: 0.000209195\tvalid_0's auc: 1\n",
            "[343]\tvalid_0's binary_logloss: 0.000207009\tvalid_0's auc: 1\n",
            "[344]\tvalid_0's binary_logloss: 0.000201577\tvalid_0's auc: 1\n",
            "[345]\tvalid_0's binary_logloss: 0.000204594\tvalid_0's auc: 1\n",
            "[346]\tvalid_0's binary_logloss: 0.000206546\tvalid_0's auc: 1\n",
            "[347]\tvalid_0's binary_logloss: 0.000204292\tvalid_0's auc: 1\n",
            "[348]\tvalid_0's binary_logloss: 0.000210139\tvalid_0's auc: 1\n",
            "[349]\tvalid_0's binary_logloss: 0.000213226\tvalid_0's auc: 1\n",
            "[350]\tvalid_0's binary_logloss: 0.000207939\tvalid_0's auc: 1\n",
            "[351]\tvalid_0's binary_logloss: 0.000209666\tvalid_0's auc: 1\n",
            "[352]\tvalid_0's binary_logloss: 0.00020737\tvalid_0's auc: 1\n",
            "[353]\tvalid_0's binary_logloss: 0.000205531\tvalid_0's auc: 1\n",
            "[354]\tvalid_0's binary_logloss: 0.000202236\tvalid_0's auc: 1\n",
            "[355]\tvalid_0's binary_logloss: 0.000200897\tvalid_0's auc: 1\n",
            "[356]\tvalid_0's binary_logloss: 0.000200177\tvalid_0's auc: 1\n",
            "[357]\tvalid_0's binary_logloss: 0.000193393\tvalid_0's auc: 1\n",
            "[358]\tvalid_0's binary_logloss: 0.000188768\tvalid_0's auc: 1\n",
            "[359]\tvalid_0's binary_logloss: 0.000192153\tvalid_0's auc: 1\n",
            "[360]\tvalid_0's binary_logloss: 0.000196029\tvalid_0's auc: 1\n",
            "[361]\tvalid_0's binary_logloss: 0.00019272\tvalid_0's auc: 1\n",
            "[362]\tvalid_0's binary_logloss: 0.000194351\tvalid_0's auc: 1\n",
            "[363]\tvalid_0's binary_logloss: 0.000199221\tvalid_0's auc: 1\n",
            "[364]\tvalid_0's binary_logloss: 0.000198541\tvalid_0's auc: 1\n",
            "[365]\tvalid_0's binary_logloss: 0.000200153\tvalid_0's auc: 1\n",
            "[366]\tvalid_0's binary_logloss: 0.000197187\tvalid_0's auc: 1\n",
            "[367]\tvalid_0's binary_logloss: 0.000195033\tvalid_0's auc: 1\n",
            "[368]\tvalid_0's binary_logloss: 0.000196227\tvalid_0's auc: 1\n",
            "[369]\tvalid_0's binary_logloss: 0.000195505\tvalid_0's auc: 1\n",
            "[370]\tvalid_0's binary_logloss: 0.000193686\tvalid_0's auc: 1\n",
            "[371]\tvalid_0's binary_logloss: 0.000195225\tvalid_0's auc: 1\n",
            "[372]\tvalid_0's binary_logloss: 0.000194517\tvalid_0's auc: 1\n",
            "[373]\tvalid_0's binary_logloss: 0.000192401\tvalid_0's auc: 1\n",
            "[374]\tvalid_0's binary_logloss: 0.000193406\tvalid_0's auc: 1\n",
            "[375]\tvalid_0's binary_logloss: 0.000190838\tvalid_0's auc: 1\n",
            "[376]\tvalid_0's binary_logloss: 0.000188898\tvalid_0's auc: 1\n",
            "[377]\tvalid_0's binary_logloss: 0.000183954\tvalid_0's auc: 1\n",
            "[378]\tvalid_0's binary_logloss: 0.000185325\tvalid_0's auc: 1\n",
            "[379]\tvalid_0's binary_logloss: 0.000183746\tvalid_0's auc: 1\n",
            "[380]\tvalid_0's binary_logloss: 0.000184999\tvalid_0's auc: 1\n",
            "[381]\tvalid_0's binary_logloss: 0.000182934\tvalid_0's auc: 1\n",
            "[382]\tvalid_0's binary_logloss: 0.000180438\tvalid_0's auc: 1\n",
            "[383]\tvalid_0's binary_logloss: 0.000178707\tvalid_0's auc: 1\n",
            "[384]\tvalid_0's binary_logloss: 0.000174906\tvalid_0's auc: 1\n",
            "[385]\tvalid_0's binary_logloss: 0.000176351\tvalid_0's auc: 1\n",
            "[386]\tvalid_0's binary_logloss: 0.000172083\tvalid_0's auc: 1\n",
            "[387]\tvalid_0's binary_logloss: 0.000175172\tvalid_0's auc: 1\n",
            "[388]\tvalid_0's binary_logloss: 0.000172663\tvalid_0's auc: 1\n",
            "[389]\tvalid_0's binary_logloss: 0.00017098\tvalid_0's auc: 1\n",
            "[390]\tvalid_0's binary_logloss: 0.000172781\tvalid_0's auc: 1\n",
            "[391]\tvalid_0's binary_logloss: 0.000173785\tvalid_0's auc: 1\n",
            "[392]\tvalid_0's binary_logloss: 0.000177557\tvalid_0's auc: 1\n",
            "[393]\tvalid_0's binary_logloss: 0.000172775\tvalid_0's auc: 1\n",
            "[394]\tvalid_0's binary_logloss: 0.000171343\tvalid_0's auc: 1\n",
            "[395]\tvalid_0's binary_logloss: 0.000172436\tvalid_0's auc: 1\n",
            "[396]\tvalid_0's binary_logloss: 0.000169636\tvalid_0's auc: 1\n",
            "[397]\tvalid_0's binary_logloss: 0.000165985\tvalid_0's auc: 1\n",
            "[398]\tvalid_0's binary_logloss: 0.000167164\tvalid_0's auc: 1\n",
            "[399]\tvalid_0's binary_logloss: 0.000165098\tvalid_0's auc: 1\n",
            "[400]\tvalid_0's binary_logloss: 0.000163609\tvalid_0's auc: 1\n",
            "[401]\tvalid_0's binary_logloss: 0.000166408\tvalid_0's auc: 1\n",
            "[402]\tvalid_0's binary_logloss: 0.000167575\tvalid_0's auc: 1\n",
            "[403]\tvalid_0's binary_logloss: 0.00016384\tvalid_0's auc: 1\n",
            "[404]\tvalid_0's binary_logloss: 0.000161297\tvalid_0's auc: 1\n",
            "[405]\tvalid_0's binary_logloss: 0.000163815\tvalid_0's auc: 1\n",
            "[406]\tvalid_0's binary_logloss: 0.000165447\tvalid_0's auc: 1\n",
            "[407]\tvalid_0's binary_logloss: 0.000166185\tvalid_0's auc: 1\n",
            "[408]\tvalid_0's binary_logloss: 0.000163527\tvalid_0's auc: 1\n",
            "[409]\tvalid_0's binary_logloss: 0.000161993\tvalid_0's auc: 1\n",
            "[410]\tvalid_0's binary_logloss: 0.000165894\tvalid_0's auc: 1\n",
            "[411]\tvalid_0's binary_logloss: 0.000168322\tvalid_0's auc: 1\n",
            "[412]\tvalid_0's binary_logloss: 0.000166734\tvalid_0's auc: 1\n",
            "[413]\tvalid_0's binary_logloss: 0.000165835\tvalid_0's auc: 1\n",
            "[414]\tvalid_0's binary_logloss: 0.000163372\tvalid_0's auc: 1\n",
            "[415]\tvalid_0's binary_logloss: 0.000161964\tvalid_0's auc: 1\n",
            "[416]\tvalid_0's binary_logloss: 0.000160436\tvalid_0's auc: 1\n",
            "[417]\tvalid_0's binary_logloss: 0.000161475\tvalid_0's auc: 1\n",
            "[418]\tvalid_0's binary_logloss: 0.00016231\tvalid_0's auc: 1\n",
            "[419]\tvalid_0's binary_logloss: 0.00016008\tvalid_0's auc: 1\n",
            "[420]\tvalid_0's binary_logloss: 0.0001568\tvalid_0's auc: 1\n",
            "[421]\tvalid_0's binary_logloss: 0.000153142\tvalid_0's auc: 1\n",
            "[422]\tvalid_0's binary_logloss: 0.000152211\tvalid_0's auc: 1\n",
            "[423]\tvalid_0's binary_logloss: 0.000150788\tvalid_0's auc: 1\n",
            "[424]\tvalid_0's binary_logloss: 0.000153193\tvalid_0's auc: 1\n",
            "[425]\tvalid_0's binary_logloss: 0.000156838\tvalid_0's auc: 1\n",
            "[426]\tvalid_0's binary_logloss: 0.000155082\tvalid_0's auc: 1\n",
            "[427]\tvalid_0's binary_logloss: 0.000152708\tvalid_0's auc: 1\n",
            "[428]\tvalid_0's binary_logloss: 0.00015141\tvalid_0's auc: 1\n",
            "[429]\tvalid_0's binary_logloss: 0.00015468\tvalid_0's auc: 1\n",
            "[430]\tvalid_0's binary_logloss: 0.000155514\tvalid_0's auc: 1\n",
            "[431]\tvalid_0's binary_logloss: 0.000152922\tvalid_0's auc: 1\n",
            "[432]\tvalid_0's binary_logloss: 0.000151102\tvalid_0's auc: 1\n",
            "[433]\tvalid_0's binary_logloss: 0.000148895\tvalid_0's auc: 1\n",
            "[434]\tvalid_0's binary_logloss: 0.000151502\tvalid_0's auc: 1\n",
            "[435]\tvalid_0's binary_logloss: 0.000150264\tvalid_0's auc: 1\n",
            "[436]\tvalid_0's binary_logloss: 0.000151968\tvalid_0's auc: 1\n",
            "[437]\tvalid_0's binary_logloss: 0.000150551\tvalid_0's auc: 1\n",
            "[438]\tvalid_0's binary_logloss: 0.000149377\tvalid_0's auc: 1\n",
            "[439]\tvalid_0's binary_logloss: 0.000148244\tvalid_0's auc: 1\n",
            "[440]\tvalid_0's binary_logloss: 0.000146864\tvalid_0's auc: 1\n",
            "[441]\tvalid_0's binary_logloss: 0.00014466\tvalid_0's auc: 1\n",
            "[442]\tvalid_0's binary_logloss: 0.000146246\tvalid_0's auc: 1\n",
            "[443]\tvalid_0's binary_logloss: 0.000145228\tvalid_0's auc: 1\n",
            "[444]\tvalid_0's binary_logloss: 0.000143872\tvalid_0's auc: 1\n",
            "[445]\tvalid_0's binary_logloss: 0.000141757\tvalid_0's auc: 1\n",
            "[446]\tvalid_0's binary_logloss: 0.000144055\tvalid_0's auc: 1\n",
            "[447]\tvalid_0's binary_logloss: 0.000143094\tvalid_0's auc: 1\n",
            "[448]\tvalid_0's binary_logloss: 0.000141838\tvalid_0's auc: 1\n",
            "[449]\tvalid_0's binary_logloss: 0.000144125\tvalid_0's auc: 1\n",
            "[450]\tvalid_0's binary_logloss: 0.000143601\tvalid_0's auc: 1\n",
            "[451]\tvalid_0's binary_logloss: 0.000142444\tvalid_0's auc: 1\n",
            "[452]\tvalid_0's binary_logloss: 0.000140193\tvalid_0's auc: 1\n",
            "[453]\tvalid_0's binary_logloss: 0.000138399\tvalid_0's auc: 1\n",
            "[454]\tvalid_0's binary_logloss: 0.000140534\tvalid_0's auc: 1\n",
            "[455]\tvalid_0's binary_logloss: 0.000138552\tvalid_0's auc: 1\n",
            "[456]\tvalid_0's binary_logloss: 0.000139397\tvalid_0's auc: 1\n",
            "[457]\tvalid_0's binary_logloss: 0.000137271\tvalid_0's auc: 1\n",
            "[458]\tvalid_0's binary_logloss: 0.000135627\tvalid_0's auc: 1\n",
            "[459]\tvalid_0's binary_logloss: 0.000133781\tvalid_0's auc: 1\n",
            "[460]\tvalid_0's binary_logloss: 0.0001317\tvalid_0's auc: 1\n",
            "[461]\tvalid_0's binary_logloss: 0.000130655\tvalid_0's auc: 1\n",
            "[462]\tvalid_0's binary_logloss: 0.000130048\tvalid_0's auc: 1\n",
            "[463]\tvalid_0's binary_logloss: 0.000132027\tvalid_0's auc: 1\n",
            "[464]\tvalid_0's binary_logloss: 0.000130902\tvalid_0's auc: 1\n",
            "[465]\tvalid_0's binary_logloss: 0.000131588\tvalid_0's auc: 1\n",
            "[466]\tvalid_0's binary_logloss: 0.000130976\tvalid_0's auc: 1\n",
            "[467]\tvalid_0's binary_logloss: 0.000129595\tvalid_0's auc: 1\n",
            "[468]\tvalid_0's binary_logloss: 0.000129559\tvalid_0's auc: 1\n",
            "[469]\tvalid_0's binary_logloss: 0.000128534\tvalid_0's auc: 1\n",
            "[470]\tvalid_0's binary_logloss: 0.00012608\tvalid_0's auc: 1\n",
            "[471]\tvalid_0's binary_logloss: 0.000126781\tvalid_0's auc: 1\n",
            "[472]\tvalid_0's binary_logloss: 0.000128715\tvalid_0's auc: 1\n",
            "[473]\tvalid_0's binary_logloss: 0.000126935\tvalid_0's auc: 1\n",
            "[474]\tvalid_0's binary_logloss: 0.000127805\tvalid_0's auc: 1\n",
            "[475]\tvalid_0's binary_logloss: 0.000126617\tvalid_0's auc: 1\n",
            "[476]\tvalid_0's binary_logloss: 0.000127347\tvalid_0's auc: 1\n",
            "[477]\tvalid_0's binary_logloss: 0.000129191\tvalid_0's auc: 1\n",
            "[478]\tvalid_0's binary_logloss: 0.000128244\tvalid_0's auc: 1\n",
            "[479]\tvalid_0's binary_logloss: 0.000127304\tvalid_0's auc: 1\n",
            "[480]\tvalid_0's binary_logloss: 0.000126408\tvalid_0's auc: 1\n",
            "[481]\tvalid_0's binary_logloss: 0.000128074\tvalid_0's auc: 1\n",
            "[482]\tvalid_0's binary_logloss: 0.000125811\tvalid_0's auc: 1\n",
            "[483]\tvalid_0's binary_logloss: 0.000127359\tvalid_0's auc: 1\n",
            "[484]\tvalid_0's binary_logloss: 0.000129167\tvalid_0's auc: 1\n",
            "[485]\tvalid_0's binary_logloss: 0.000128384\tvalid_0's auc: 1\n",
            "[486]\tvalid_0's binary_logloss: 0.000127474\tvalid_0's auc: 1\n",
            "[487]\tvalid_0's binary_logloss: 0.000126553\tvalid_0's auc: 1\n",
            "[488]\tvalid_0's binary_logloss: 0.000128285\tvalid_0's auc: 1\n",
            "[489]\tvalid_0's binary_logloss: 0.000129135\tvalid_0's auc: 1\n",
            "[490]\tvalid_0's binary_logloss: 0.000127668\tvalid_0's auc: 1\n",
            "[491]\tvalid_0's binary_logloss: 0.000129118\tvalid_0's auc: 1\n",
            "[492]\tvalid_0's binary_logloss: 0.000127774\tvalid_0's auc: 1\n",
            "[493]\tvalid_0's binary_logloss: 0.0001286\tvalid_0's auc: 1\n",
            "[494]\tvalid_0's binary_logloss: 0.000127428\tvalid_0's auc: 1\n",
            "[495]\tvalid_0's binary_logloss: 0.000126132\tvalid_0's auc: 1\n",
            "[496]\tvalid_0's binary_logloss: 0.000126741\tvalid_0's auc: 1\n",
            "[497]\tvalid_0's binary_logloss: 0.00012567\tvalid_0's auc: 1\n",
            "[498]\tvalid_0's binary_logloss: 0.000123009\tvalid_0's auc: 1\n",
            "[499]\tvalid_0's binary_logloss: 0.000123424\tvalid_0's auc: 1\n",
            "[500]\tvalid_0's binary_logloss: 0.000124273\tvalid_0's auc: 1\n",
            "Did not meet early stopping. Best iteration is:\n",
            "[498]\tvalid_0's binary_logloss: 0.000123009\tvalid_0's auc: 1\n"
          ]
        }
      ]
    },
    {
      "cell_type": "code",
      "source": [
        "print('Light GBM train accuracy:', lgbm_clf.score(X_train, y_train))"
      ],
      "metadata": {
        "colab": {
          "base_uri": "https://localhost:8080/"
        },
        "id": "_V3E1fS53YKT",
        "outputId": "f6c5ddbe-f18a-44c2-f819-7c65476e1d37"
      },
      "execution_count": 247,
      "outputs": [
        {
          "output_type": "stream",
          "name": "stdout",
          "text": [
            "Light GBM train accuracy: 1.0\n"
          ]
        }
      ]
    },
    {
      "cell_type": "code",
      "source": [
        "print('Light GBM test accuracy:', lgbm_clf.score(X_test, y_test))"
      ],
      "metadata": {
        "colab": {
          "base_uri": "https://localhost:8080/"
        },
        "id": "ZPHNoUFu3g2v",
        "outputId": "bce75fd6-9bec-4b22-e137-ab722431ba1a"
      },
      "execution_count": 248,
      "outputs": [
        {
          "output_type": "stream",
          "name": "stdout",
          "text": [
            "Light GBM test accuracy: 1.0\n"
          ]
        }
      ]
    },
    {
      "cell_type": "markdown",
      "source": [
        "## CatBoost"
      ],
      "metadata": {
        "id": "tWrp7NRm327J"
      }
    },
    {
      "cell_type": "code",
      "source": [
        "catboost = CatBoostClassifier(iterations=107)\n",
        "catboost.fit(X_train, y_train)"
      ],
      "metadata": {
        "colab": {
          "base_uri": "https://localhost:8080/"
        },
        "id": "9mJfSEQl36S1",
        "outputId": "1fa4790c-a49d-45b5-8c8d-3b92c0f798ec"
      },
      "execution_count": 249,
      "outputs": [
        {
          "output_type": "stream",
          "name": "stdout",
          "text": [
            "Learning rate set to 0.073368\n",
            "0:\tlearn: 0.6634420\ttotal: 48.1ms\tremaining: 5.1s\n",
            "1:\tlearn: 0.6341236\ttotal: 48.8ms\tremaining: 2.56s\n",
            "2:\tlearn: 0.6093881\ttotal: 50ms\tremaining: 1.73s\n",
            "3:\tlearn: 0.5854899\ttotal: 51.1ms\tremaining: 1.32s\n",
            "4:\tlearn: 0.5648112\ttotal: 52.5ms\tremaining: 1.07s\n",
            "5:\tlearn: 0.5440282\ttotal: 53.7ms\tremaining: 904ms\n",
            "6:\tlearn: 0.5257444\ttotal: 54.7ms\tremaining: 782ms\n",
            "7:\tlearn: 0.5095967\ttotal: 55.8ms\tremaining: 690ms\n",
            "8:\tlearn: 0.4960541\ttotal: 56.8ms\tremaining: 619ms\n",
            "9:\tlearn: 0.4823456\ttotal: 57.9ms\tremaining: 561ms\n",
            "10:\tlearn: 0.4707694\ttotal: 58.8ms\tremaining: 513ms\n",
            "11:\tlearn: 0.4580516\ttotal: 59.9ms\tremaining: 474ms\n",
            "12:\tlearn: 0.4466886\ttotal: 60.8ms\tremaining: 440ms\n",
            "13:\tlearn: 0.4353934\ttotal: 61.7ms\tremaining: 410ms\n",
            "14:\tlearn: 0.4238455\ttotal: 62.7ms\tremaining: 384ms\n",
            "15:\tlearn: 0.4132857\ttotal: 63.7ms\tremaining: 362ms\n",
            "16:\tlearn: 0.4053418\ttotal: 64.6ms\tremaining: 342ms\n",
            "17:\tlearn: 0.3963226\ttotal: 65.7ms\tremaining: 325ms\n",
            "18:\tlearn: 0.3894517\ttotal: 66.6ms\tremaining: 308ms\n",
            "19:\tlearn: 0.3812214\ttotal: 67.6ms\tremaining: 294ms\n",
            "20:\tlearn: 0.3752168\ttotal: 68.6ms\tremaining: 281ms\n",
            "21:\tlearn: 0.3677431\ttotal: 69.5ms\tremaining: 268ms\n",
            "22:\tlearn: 0.3613486\ttotal: 70.1ms\tremaining: 256ms\n",
            "23:\tlearn: 0.3552070\ttotal: 71ms\tremaining: 246ms\n",
            "24:\tlearn: 0.3488754\ttotal: 72ms\tremaining: 236ms\n",
            "25:\tlearn: 0.3428320\ttotal: 72.9ms\tremaining: 227ms\n",
            "26:\tlearn: 0.3383771\ttotal: 73.9ms\tremaining: 219ms\n",
            "27:\tlearn: 0.3324705\ttotal: 74.9ms\tremaining: 211ms\n",
            "28:\tlearn: 0.3262005\ttotal: 76.1ms\tremaining: 205ms\n",
            "29:\tlearn: 0.3214755\ttotal: 77.3ms\tremaining: 199ms\n",
            "30:\tlearn: 0.3160466\ttotal: 78.9ms\tremaining: 194ms\n",
            "31:\tlearn: 0.3112669\ttotal: 80.1ms\tremaining: 188ms\n",
            "32:\tlearn: 0.3060498\ttotal: 81.3ms\tremaining: 182ms\n",
            "33:\tlearn: 0.3018679\ttotal: 82.4ms\tremaining: 177ms\n",
            "34:\tlearn: 0.2973016\ttotal: 83.3ms\tremaining: 171ms\n",
            "35:\tlearn: 0.2928206\ttotal: 84.3ms\tremaining: 166ms\n",
            "36:\tlearn: 0.2877814\ttotal: 85.4ms\tremaining: 162ms\n",
            "37:\tlearn: 0.2844305\ttotal: 86.3ms\tremaining: 157ms\n",
            "38:\tlearn: 0.2800245\ttotal: 87.2ms\tremaining: 152ms\n",
            "39:\tlearn: 0.2764569\ttotal: 88.3ms\tremaining: 148ms\n",
            "40:\tlearn: 0.2730748\ttotal: 90.9ms\tremaining: 146ms\n",
            "41:\tlearn: 0.2691640\ttotal: 92.5ms\tremaining: 143ms\n",
            "42:\tlearn: 0.2653847\ttotal: 93.5ms\tremaining: 139ms\n",
            "43:\tlearn: 0.2620013\ttotal: 94.4ms\tremaining: 135ms\n",
            "44:\tlearn: 0.2608731\ttotal: 95.1ms\tremaining: 131ms\n",
            "45:\tlearn: 0.2572008\ttotal: 96ms\tremaining: 127ms\n",
            "46:\tlearn: 0.2536830\ttotal: 97.1ms\tremaining: 124ms\n",
            "47:\tlearn: 0.2511556\ttotal: 98ms\tremaining: 120ms\n",
            "48:\tlearn: 0.2482233\ttotal: 99ms\tremaining: 117ms\n",
            "49:\tlearn: 0.2452054\ttotal: 101ms\tremaining: 115ms\n",
            "50:\tlearn: 0.2429862\ttotal: 102ms\tremaining: 112ms\n",
            "51:\tlearn: 0.2400376\ttotal: 103ms\tremaining: 109ms\n",
            "52:\tlearn: 0.2387147\ttotal: 104ms\tremaining: 106ms\n",
            "53:\tlearn: 0.2367942\ttotal: 105ms\tremaining: 103ms\n",
            "54:\tlearn: 0.2345917\ttotal: 107ms\tremaining: 101ms\n",
            "55:\tlearn: 0.2316835\ttotal: 108ms\tremaining: 97.9ms\n",
            "56:\tlearn: 0.2290217\ttotal: 109ms\tremaining: 95.2ms\n",
            "57:\tlearn: 0.2268871\ttotal: 110ms\tremaining: 92.5ms\n",
            "58:\tlearn: 0.2250305\ttotal: 111ms\tremaining: 89.9ms\n",
            "59:\tlearn: 0.2224253\ttotal: 112ms\tremaining: 87.5ms\n",
            "60:\tlearn: 0.2197574\ttotal: 113ms\tremaining: 85.1ms\n",
            "61:\tlearn: 0.2163186\ttotal: 114ms\tremaining: 82.8ms\n",
            "62:\tlearn: 0.2146408\ttotal: 115ms\tremaining: 80.3ms\n",
            "63:\tlearn: 0.2128280\ttotal: 116ms\tremaining: 77.9ms\n",
            "64:\tlearn: 0.2105821\ttotal: 117ms\tremaining: 75.6ms\n",
            "65:\tlearn: 0.2090636\ttotal: 118ms\tremaining: 73.4ms\n",
            "66:\tlearn: 0.2066797\ttotal: 119ms\tremaining: 71.1ms\n",
            "67:\tlearn: 0.2057132\ttotal: 121ms\tremaining: 69.2ms\n",
            "68:\tlearn: 0.2040060\ttotal: 122ms\tremaining: 67ms\n",
            "69:\tlearn: 0.2016461\ttotal: 123ms\tremaining: 64.9ms\n",
            "70:\tlearn: 0.1997504\ttotal: 124ms\tremaining: 62.8ms\n",
            "71:\tlearn: 0.1978082\ttotal: 125ms\tremaining: 60.7ms\n",
            "72:\tlearn: 0.1958887\ttotal: 126ms\tremaining: 58.6ms\n",
            "73:\tlearn: 0.1937399\ttotal: 127ms\tremaining: 56.6ms\n",
            "74:\tlearn: 0.1920967\ttotal: 128ms\tremaining: 54.6ms\n",
            "75:\tlearn: 0.1910629\ttotal: 129ms\tremaining: 52.6ms\n",
            "76:\tlearn: 0.1891028\ttotal: 130ms\tremaining: 50.6ms\n",
            "77:\tlearn: 0.1869828\ttotal: 131ms\tremaining: 48.6ms\n",
            "78:\tlearn: 0.1854564\ttotal: 132ms\tremaining: 46.9ms\n",
            "79:\tlearn: 0.1838987\ttotal: 133ms\tremaining: 45ms\n",
            "80:\tlearn: 0.1821886\ttotal: 134ms\tremaining: 43.1ms\n",
            "81:\tlearn: 0.1812899\ttotal: 135ms\tremaining: 41.2ms\n",
            "82:\tlearn: 0.1793765\ttotal: 137ms\tremaining: 39.6ms\n",
            "83:\tlearn: 0.1780786\ttotal: 138ms\tremaining: 37.9ms\n",
            "84:\tlearn: 0.1770787\ttotal: 140ms\tremaining: 36.4ms\n",
            "85:\tlearn: 0.1759676\ttotal: 142ms\tremaining: 34.6ms\n",
            "86:\tlearn: 0.1748441\ttotal: 143ms\tremaining: 32.8ms\n",
            "87:\tlearn: 0.1740299\ttotal: 144ms\tremaining: 31ms\n",
            "88:\tlearn: 0.1724137\ttotal: 145ms\tremaining: 29.3ms\n",
            "89:\tlearn: 0.1713055\ttotal: 146ms\tremaining: 27.6ms\n",
            "90:\tlearn: 0.1698288\ttotal: 147ms\tremaining: 25.9ms\n",
            "91:\tlearn: 0.1683957\ttotal: 148ms\tremaining: 24.2ms\n",
            "92:\tlearn: 0.1669962\ttotal: 149ms\tremaining: 22.5ms\n",
            "93:\tlearn: 0.1656133\ttotal: 150ms\tremaining: 20.8ms\n",
            "94:\tlearn: 0.1642135\ttotal: 152ms\tremaining: 19.2ms\n",
            "95:\tlearn: 0.1634175\ttotal: 153ms\tremaining: 17.6ms\n",
            "96:\tlearn: 0.1625388\ttotal: 155ms\tremaining: 15.9ms\n",
            "97:\tlearn: 0.1611745\ttotal: 156ms\tremaining: 14.3ms\n",
            "98:\tlearn: 0.1592051\ttotal: 157ms\tremaining: 12.7ms\n",
            "99:\tlearn: 0.1578697\ttotal: 158ms\tremaining: 11.1ms\n",
            "100:\tlearn: 0.1569194\ttotal: 160ms\tremaining: 9.47ms\n",
            "101:\tlearn: 0.1555798\ttotal: 161ms\tremaining: 7.87ms\n",
            "102:\tlearn: 0.1542561\ttotal: 162ms\tremaining: 6.28ms\n",
            "103:\tlearn: 0.1527011\ttotal: 163ms\tremaining: 4.69ms\n",
            "104:\tlearn: 0.1516964\ttotal: 164ms\tremaining: 3.12ms\n",
            "105:\tlearn: 0.1502974\ttotal: 165ms\tremaining: 1.55ms\n",
            "106:\tlearn: 0.1495800\ttotal: 166ms\tremaining: 0us\n"
          ]
        },
        {
          "output_type": "execute_result",
          "data": {
            "text/plain": [
              "<catboost.core.CatBoostClassifier at 0x7f70f3918670>"
            ]
          },
          "metadata": {},
          "execution_count": 249
        }
      ]
    },
    {
      "cell_type": "code",
      "source": [
        "y_pred = catboost.predict(X_test)"
      ],
      "metadata": {
        "id": "uDRv80qz4BC-"
      },
      "execution_count": 251,
      "outputs": []
    },
    {
      "cell_type": "code",
      "source": [
        "print('CatBoost train accuracy:', catboost.score(X_train, y_train))"
      ],
      "metadata": {
        "colab": {
          "base_uri": "https://localhost:8080/"
        },
        "id": "l_oxAf-14MmU",
        "outputId": "7cc73a6b-02f6-466c-eb90-1576291e6b76"
      },
      "execution_count": 254,
      "outputs": [
        {
          "output_type": "stream",
          "name": "stdout",
          "text": [
            "CatBoost train accuracy: 0.9828641370869033\n"
          ]
        }
      ]
    },
    {
      "cell_type": "code",
      "source": [
        "print('CatBoost test accuracy:', catboost.score(X_test, y_test))"
      ],
      "metadata": {
        "colab": {
          "base_uri": "https://localhost:8080/"
        },
        "id": "EkyiBI_t4I7a",
        "outputId": "801479ba-3032-4632-9ea4-7878d11b5849"
      },
      "execution_count": 255,
      "outputs": [
        {
          "output_type": "stream",
          "name": "stdout",
          "text": [
            "CatBoost test accuracy: 0.9365853658536586\n"
          ]
        }
      ]
    },
    {
      "cell_type": "code",
      "source": [
        "print('Classification report\\n', classification_report(y_test, y_pred))"
      ],
      "metadata": {
        "colab": {
          "base_uri": "https://localhost:8080/"
        },
        "id": "fBGrDApH4gfm",
        "outputId": "67d2829a-1837-4088-bf9b-46aee0d583b9"
      },
      "execution_count": 256,
      "outputs": [
        {
          "output_type": "stream",
          "name": "stdout",
          "text": [
            "Classification report\n",
            "               precision    recall  f1-score   support\n",
            "\n",
            "           0       0.92      0.96      0.94       107\n",
            "           1       0.96      0.91      0.93        98\n",
            "\n",
            "    accuracy                           0.94       205\n",
            "   macro avg       0.94      0.94      0.94       205\n",
            "weighted avg       0.94      0.94      0.94       205\n",
            "\n"
          ]
        }
      ]
    }
  ]
}